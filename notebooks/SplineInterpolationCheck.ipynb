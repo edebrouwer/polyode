{
 "cells": [
  {
   "cell_type": "code",
   "execution_count": 66,
   "id": "d5bb6ebe-7fb2-4c89-9bc3-725d394519de",
   "metadata": {},
   "outputs": [],
   "source": [
    "from legendre.data_utils.simple_path_utils import SimpleTrajDataset, SimpleTrajDataModule\n",
    "from legendre.models.spline_cnode import evaluate_spline\n",
    "import torch\n",
    "import matplotlib.pyplot as plt"
   ]
  },
  {
   "cell_type": "code",
   "execution_count": 67,
   "id": "973b0046-f916-46c7-a721-98c0f83f3acd",
   "metadata": {},
   "outputs": [],
   "source": [
    "ds = SimpleTrajDataset(N = 100, Nt=200, Nobs = 10, noise_std = 0., irregular_rate = 1., spline_mode = True)"
   ]
  },
  {
   "cell_type": "code",
   "execution_count": 89,
   "id": "00297832-0e3f-44a1-98d6-57b783a2cd1b",
   "metadata": {},
   "outputs": [],
   "source": [
    "dm = SimpleTrajDataModule(batch_size = 16, seed = 421, N = 100, noise_std = 0., spline_mode = True, irregular_rate = 0.6)"
   ]
  },
  {
   "cell_type": "code",
   "execution_count": 90,
   "id": "68180f25-3cd6-41ca-aeaf-a56de963478d",
   "metadata": {},
   "outputs": [],
   "source": [
    "dm.prepare_data()"
   ]
  },
  {
   "cell_type": "code",
   "execution_count": 91,
   "id": "7375ac5f-3ad1-4c71-aa98-6e144f5e3aee",
   "metadata": {},
   "outputs": [],
   "source": [
    "dl = dm.train_dataloader()"
   ]
  },
  {
   "cell_type": "code",
   "execution_count": 92,
   "id": "d46af67f-8e58-4ecb-b9f4-bca987644f2a",
   "metadata": {},
   "outputs": [],
   "source": [
    "for i,batch in enumerate(dl):\n",
    "    times, Y, mask, label, coeffs = batch\n",
    "    break"
   ]
  },
  {
   "cell_type": "code",
   "execution_count": 93,
   "id": "971701a1-0075-427c-a3f0-b0261b430716",
   "metadata": {},
   "outputs": [],
   "source": [
    "y_eval = []\n",
    "for x_eval in torch.linspace(times[0],times[-1],100):\n",
    "    y_eval.append(evaluate_spline(times, coeffs, x_eval))\n",
    "y_eval = torch.stack(y_eval)"
   ]
  },
  {
   "cell_type": "code",
   "execution_count": 94,
   "id": "cce26221-e5cb-4e8f-bc2c-8f183b6f5260",
   "metadata": {},
   "outputs": [
    {
     "data": {
      "text/plain": [
       "<matplotlib.collections.PathCollection at 0x7f0afff796a0>"
      ]
     },
     "execution_count": 94,
     "metadata": {},
     "output_type": "execute_result"
    },
    {
     "data": {
      "image/png": "[encoded data removed]",
      "text/plain": [
       "<Figure size 432x288 with 1 Axes>"
      ]
     },
     "metadata": {
      "needs_background": "light"
     },
     "output_type": "display_data"
    }
   ],
   "source": [
    "idx = 2\n",
    "plt.plot(torch.linspace(times[0],times[-1],100),y_eval[:,idx])\n",
    "plt.scatter(times[mask[idx].bool()],Y[idx][mask[idx].bool()])\n",
    "plt.scatter(times[~mask[idx].bool()],Y[idx][~mask[idx].bool()], color = \"red\")"
   ]
  },
  {
   "cell_type": "code",
   "execution_count": 95,
   "id": "f9c79f6d-589f-4fbd-b4b7-3b2e48b05e7b",
   "metadata": {},
   "outputs": [
    {
     "data": {
      "text/plain": [
       "tensor([[0., 1., 0., 0., 1., 1., 1., 1., 1., 1.],\n",
       "        [0., 1., 1., 0., 0., 1., 1., 0., 1., 1.],\n",
       "        [0., 0., 1., 1., 1., 0., 1., 1., 0., 0.],\n",
       "        [1., 0., 1., 0., 0., 1., 0., 1., 1., 1.],\n",
       "        [0., 0., 1., 1., 1., 1., 0., 1., 1., 1.],\n",
       "        [1., 0., 0., 1., 0., 1., 0., 0., 1., 0.],\n",
       "        [1., 0., 0., 1., 1., 1., 0., 1., 1., 1.],\n",
       "        [1., 0., 1., 1., 1., 0., 1., 1., 1., 0.],\n",
       "        [1., 1., 0., 0., 0., 0., 0., 1., 0., 0.],\n",
       "        [0., 1., 1., 1., 0., 1., 1., 0., 1., 0.],\n",
       "        [1., 1., 1., 1., 1., 1., 1., 1., 1., 0.],\n",
       "        [0., 1., 1., 1., 1., 0., 1., 1., 1., 1.],\n",
       "        [0., 1., 0., 1., 1., 1., 1., 1., 1., 0.],\n",
       "        [0., 0., 1., 0., 1., 1., 0., 1., 0., 1.],\n",
       "        [0., 0., 1., 0., 1., 0., 1., 1., 1., 1.],\n",
       "        [0., 1., 1., 0., 0., 1., 0., 1., 1., 0.]])"
      ]
     },
     "execution_count": 95,
     "metadata": {},
     "output_type": "execute_result"
    }
   ],
   "source": [
    "mask"
   ]
  },
  {
   "cell_type": "code",
   "execution_count": 59,
   "id": "975c39d8-bacc-4b66-a031-cb04036cadae",
   "metadata": {},
   "outputs": [
    {
     "data": {
      "text/plain": [
       "torch.Size([16, 4, 9])"
      ]
     },
     "execution_count": 59,
     "metadata": {},
     "output_type": "execute_result"
    }
   ],
   "source": [
    "coeffs.shape"
   ]
  },
  {
   "cell_type": "code",
   "execution_count": null,
   "id": "ddf9b909-a393-4047-8b6b-4a290bbf5701",
   "metadata": {},
   "outputs": [],
   "source": []
  }
 ],
 "metadata": {
  "kernelspec": {
   "display_name": "Python 3 (ipykernel)",
   "language": "python",
   "name": "python3"
  },
  "language_info": {
   "codemirror_mode": {
    "name": "ipython",
    "version": 3
   },
   "file_extension": ".py",
   "mimetype": "text/x-python",
   "name": "python",
   "nbconvert_exporter": "python",
   "pygments_lexer": "ipython3",
   "version": "3.9.10"
  }
 },
 "nbformat": 4,
 "nbformat_minor": 5
}
