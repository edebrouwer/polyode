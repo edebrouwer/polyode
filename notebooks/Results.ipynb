{
 "cells": [
  {
   "cell_type": "code",
   "execution_count": 2,
   "id": "9146798c-b507-446c-8927-4842816b0a37",
   "metadata": {},
   "outputs": [
    {
     "name": "stderr",
     "output_type": "stream",
     "text": [
      "/voyager/projects/edebrouwer/.conda/envs/orthopoly/lib/python3.9/site-packages/tqdm/auto.py:22: TqdmWarning: IProgress not found. Please update jupyter and ipywidgets. See https://ipywidgets.readthedocs.io/en/stable/user_install.html\n",
      "  from .autonotebook import tqdm as notebook_tqdm\n"
     ]
    }
   ],
   "source": [
    "import wandb\n",
    "import os\n",
    "import pytorch_lightning as pl\n",
    "import torch\n",
    "import numpy as np\n",
    "from legendre.models.spline_cnode import SplineCNODEClass\n",
    "from legendre.models.cnode_ext import CNODExtClassification, CNODExt\n",
    "from legendre.models.node_ext import NODExtClassification, NODExt\n",
    "from legendre.models.node_mod import NODEClassification, NODE\n",
    "from legendre.models.rnn import RNNClassification, RNN\n",
    "from legendre.models.hippo import HIPPO, HippoClassification\n",
    "from legendre.data_utils.simple_path_utils import SimpleTrajDataModule\n",
    "from legendre.data_utils.pMNIST_utils import pMNISTDataModule\n",
    "from legendre.data_utils.character_utils import CharacterTrajDataModule\n",
    "from legendre.data_utils.mimic_utils import MIMICDataModule\n",
    "from legendre.data_utils.lorenz_utils import LorenzDataModule\n",
    "from legendre.train_scripts.classif import get_init_model\n",
    "from sklearn.metrics import accuracy_score, roc_auc_score\n",
    "from pytorch_lightning.core.saving import _load_state\n",
    "\n",
    "\n",
    "def mean_dict(d):\n",
    "    return {k:sum(v)/len(v) for k,v in d.items() if len(v)>0}\n",
    "def std_dict(d):\n",
    "    return {k:np.std(np.array(v)) for k,v in d.items() if len(v)>0}\n",
    "\n",
    "def process_dict(d):\n",
    "    m_dict = mean_dict(d)\n",
    "    s_dict = std_dict(d)\n",
    "    return {k: f\"${v:.3f} \\\\pm {s_dict[k]:.3f}$\" for k,v in m_dict.items() if len(k)>0}"
   ]
  },
  {
   "cell_type": "markdown",
   "id": "53e40ae0-37f1-4717-a169-93532a1d7e7e",
   "metadata": {},
   "source": [
    "# Classification"
   ]
  },
  {
   "cell_type": "markdown",
   "id": "fc146580-d049-41f1-8c1a-c06b1c288fa4",
   "metadata": {},
   "source": [
    "## SplineCNODE"
   ]
  },
  {
   "cell_type": "code",
   "execution_count": 8,
   "id": "0b93b1c0-0e9c-43d2-9a09-dfd434931ca1",
   "metadata": {},
   "outputs": [
    {
     "name": "stdout",
     "output_type": "stream",
     "text": [
      "Pre-computing ODE Projection embeddings....\n"
     ]
    },
    {
     "name": "stderr",
     "output_type": "stream",
     "text": [
      "  0%|          | 0/20 [00:00<?, ?it/s]/voyager/projects/edebrouwer/.conda/envs/orthopoly/lib/python3.9/site-packages/torchdiffeq/_impl/fixed_adams.py:220: UserWarning: Functional iteration did not converge. Solution may be incorrect.\n",
      "  warnings.warn('Functional iteration did not converge. Solution may be incorrect.')\n",
      "100%|██████████| 20/20 [00:08<00:00,  2.29it/s]\n",
      "/voyager/projects/edebrouwer/.conda/envs/orthopoly/lib/python3.9/site-packages/pytorch_lightning/trainer/connectors/accelerator_connector.py:445: LightningDeprecationWarning: Setting `Trainer(gpus=1)` is deprecated in v1.7 and will be removed in v2.0. Please use `Trainer(accelerator='gpu', devices=1)` instead.\n",
      "  rank_zero_deprecation(\n",
      "/voyager/projects/edebrouwer/.conda/envs/orthopoly/lib/python3.9/site-packages/pytorch_lightning/loops/utilities.py:93: PossibleUserWarning: `max_epochs` was not set. Setting it to 1000 epochs. To train without an epoch limit, set `max_epochs=-1`.\n",
      "  rank_zero_warn(\n",
      "GPU available: True (cuda), used: True\n",
      "TPU available: False, using: 0 TPU cores\n",
      "IPU available: False, using: 0 IPUs\n",
      "HPU available: False, using: 0 HPUs\n",
      "LOCAL_RANK: 0 - CUDA_VISIBLE_DEVICES: [0,1,2,3]\n"
     ]
    },
    {
     "name": "stdout",
     "output_type": "stream",
     "text": [
      "Predicting DataLoader 0: 100%|██████████| 2/2 [00:00<00:00, 26.25it/s] \n",
      "Pre-computing ODE Projection embeddings....\n"
     ]
    },
    {
     "name": "stderr",
     "output_type": "stream",
     "text": [
      "100%|██████████| 20/20 [00:08<00:00,  2.33it/s]\n",
      "GPU available: True (cuda), used: True\n",
      "TPU available: False, using: 0 TPU cores\n",
      "IPU available: False, using: 0 IPUs\n",
      "HPU available: False, using: 0 HPUs\n",
      "LOCAL_RANK: 0 - CUDA_VISIBLE_DEVICES: [0,1,2,3]\n"
     ]
    },
    {
     "name": "stdout",
     "output_type": "stream",
     "text": [
      "Predicting DataLoader 0: 100%|██████████| 2/2 [00:00<00:00, 25.50it/s] \n",
      "Pre-computing ODE Projection embeddings....\n"
     ]
    },
    {
     "name": "stderr",
     "output_type": "stream",
     "text": [
      "100%|██████████| 20/20 [00:08<00:00,  2.33it/s]\n",
      "GPU available: True (cuda), used: True\n",
      "TPU available: False, using: 0 TPU cores\n",
      "IPU available: False, using: 0 IPUs\n",
      "HPU available: False, using: 0 HPUs\n",
      "LOCAL_RANK: 0 - CUDA_VISIBLE_DEVICES: [0,1,2,3]\n"
     ]
    },
    {
     "name": "stdout",
     "output_type": "stream",
     "text": [
      "Predicting DataLoader 0: 100%|██████████| 2/2 [00:00<00:00, 25.80it/s] \n",
      "{'0.7': [tensor(0.0771), tensor(0.0473), tensor(0.0404)]}\n",
      "{'0.7': '$0.055 \\\\pm 0.016$'}\n",
      "Pre-computing ODE Projection embeddings....\n"
     ]
    },
    {
     "name": "stderr",
     "output_type": "stream",
     "text": [
      "100%|██████████| 20/20 [00:08<00:00,  2.34it/s]\n",
      "GPU available: True (cuda), used: True\n",
      "TPU available: False, using: 0 TPU cores\n",
      "IPU available: False, using: 0 IPUs\n",
      "HPU available: False, using: 0 HPUs\n",
      "LOCAL_RANK: 0 - CUDA_VISIBLE_DEVICES: [0,1,2,3]\n"
     ]
    },
    {
     "name": "stdout",
     "output_type": "stream",
     "text": [
      "Predicting DataLoader 0: 100%|██████████| 2/2 [00:00<00:00, 23.28it/s] \n",
      "Pre-computing ODE Projection embeddings....\n"
     ]
    },
    {
     "name": "stderr",
     "output_type": "stream",
     "text": [
      "100%|██████████| 20/20 [00:08<00:00,  2.33it/s]\n",
      "GPU available: True (cuda), used: True\n",
      "TPU available: False, using: 0 TPU cores\n",
      "IPU available: False, using: 0 IPUs\n",
      "HPU available: False, using: 0 HPUs\n",
      "LOCAL_RANK: 0 - CUDA_VISIBLE_DEVICES: [0,1,2,3]\n"
     ]
    },
    {
     "name": "stdout",
     "output_type": "stream",
     "text": [
      "Predicting DataLoader 0: 100%|██████████| 2/2 [00:00<00:00, 25.61it/s] \n",
      "Pre-computing ODE Projection embeddings....\n"
     ]
    },
    {
     "name": "stderr",
     "output_type": "stream",
     "text": [
      "100%|██████████| 20/20 [00:08<00:00,  2.34it/s]\n",
      "GPU available: True (cuda), used: True\n",
      "TPU available: False, using: 0 TPU cores\n",
      "IPU available: False, using: 0 IPUs\n",
      "HPU available: False, using: 0 HPUs\n",
      "LOCAL_RANK: 0 - CUDA_VISIBLE_DEVICES: [0,1,2,3]\n"
     ]
    },
    {
     "name": "stdout",
     "output_type": "stream",
     "text": [
      "Predicting DataLoader 0: 100%|██████████| 2/2 [00:00<00:00, 22.73it/s] \n",
      "{'0.7': [tensor(0.0771), tensor(0.0473), tensor(0.0404)], '0.8': [tensor(0.0594), tensor(0.0383), tensor(0.0475)]}\n",
      "{'0.7': '$0.055 \\\\pm 0.016$', '0.8': '$0.048 \\\\pm 0.009$'}\n",
      "Pre-computing ODE Projection embeddings....\n"
     ]
    },
    {
     "name": "stderr",
     "output_type": "stream",
     "text": [
      "100%|██████████| 20/20 [00:08<00:00,  2.28it/s]\n",
      "GPU available: True (cuda), used: True\n",
      "TPU available: False, using: 0 TPU cores\n",
      "IPU available: False, using: 0 IPUs\n",
      "HPU available: False, using: 0 HPUs\n",
      "LOCAL_RANK: 0 - CUDA_VISIBLE_DEVICES: [0,1,2,3]\n"
     ]
    },
    {
     "name": "stdout",
     "output_type": "stream",
     "text": [
      "Predicting DataLoader 0: 100%|██████████| 2/2 [00:00<00:00, 24.59it/s] \n",
      "Pre-computing ODE Projection embeddings....\n"
     ]
    },
    {
     "name": "stderr",
     "output_type": "stream",
     "text": [
      "100%|██████████| 20/20 [00:08<00:00,  2.36it/s]\n",
      "GPU available: True (cuda), used: True\n",
      "TPU available: False, using: 0 TPU cores\n",
      "IPU available: False, using: 0 IPUs\n",
      "HPU available: False, using: 0 HPUs\n",
      "LOCAL_RANK: 0 - CUDA_VISIBLE_DEVICES: [0,1,2,3]\n"
     ]
    },
    {
     "name": "stdout",
     "output_type": "stream",
     "text": [
      "Predicting DataLoader 0: 100%|██████████| 2/2 [00:00<00:00, 25.09it/s] \n",
      "Pre-computing ODE Projection embeddings....\n"
     ]
    },
    {
     "name": "stderr",
     "output_type": "stream",
     "text": [
      "100%|██████████| 20/20 [00:08<00:00,  2.33it/s]\n",
      "GPU available: True (cuda), used: True\n",
      "TPU available: False, using: 0 TPU cores\n",
      "IPU available: False, using: 0 IPUs\n",
      "HPU available: False, using: 0 HPUs\n",
      "LOCAL_RANK: 0 - CUDA_VISIBLE_DEVICES: [0,1,2,3]\n"
     ]
    },
    {
     "name": "stdout",
     "output_type": "stream",
     "text": [
      "Predicting DataLoader 0: 100%|██████████| 2/2 [00:00<00:00, 23.63it/s] \n",
      "{'0.7': [tensor(0.0771), tensor(0.0473), tensor(0.0404)], '0.8': [tensor(0.0594), tensor(0.0383), tensor(0.0475)], '0.9': [tensor(0.0369), tensor(0.0215), tensor(0.0139)]}\n",
      "{'0.7': '$0.055 \\\\pm 0.016$', '0.8': '$0.048 \\\\pm 0.009$', '0.9': '$0.024 \\\\pm 0.010$'}\n",
      "Pre-computing ODE Projection embeddings....\n"
     ]
    },
    {
     "name": "stderr",
     "output_type": "stream",
     "text": [
      "100%|██████████| 20/20 [00:08<00:00,  2.36it/s]\n",
      "GPU available: True (cuda), used: True\n",
      "TPU available: False, using: 0 TPU cores\n",
      "IPU available: False, using: 0 IPUs\n",
      "HPU available: False, using: 0 HPUs\n",
      "LOCAL_RANK: 0 - CUDA_VISIBLE_DEVICES: [0,1,2,3]\n"
     ]
    },
    {
     "name": "stdout",
     "output_type": "stream",
     "text": [
      "Predicting DataLoader 0: 100%|██████████| 2/2 [00:00<00:00, 23.09it/s] \n",
      "Pre-computing ODE Projection embeddings....\n"
     ]
    },
    {
     "name": "stderr",
     "output_type": "stream",
     "text": [
      "100%|██████████| 20/20 [00:08<00:00,  2.35it/s]\n",
      "GPU available: True (cuda), used: True\n",
      "TPU available: False, using: 0 TPU cores\n",
      "IPU available: False, using: 0 IPUs\n",
      "HPU available: False, using: 0 HPUs\n",
      "LOCAL_RANK: 0 - CUDA_VISIBLE_DEVICES: [0,1,2,3]\n"
     ]
    },
    {
     "name": "stdout",
     "output_type": "stream",
     "text": [
      "Predicting DataLoader 0: 100%|██████████| 2/2 [00:00<00:00, 28.85it/s] \n",
      "Pre-computing ODE Projection embeddings....\n"
     ]
    },
    {
     "name": "stderr",
     "output_type": "stream",
     "text": [
      "100%|██████████| 20/20 [00:08<00:00,  2.35it/s]\n",
      "GPU available: True (cuda), used: True\n",
      "TPU available: False, using: 0 TPU cores\n",
      "IPU available: False, using: 0 IPUs\n",
      "HPU available: False, using: 0 HPUs\n",
      "LOCAL_RANK: 0 - CUDA_VISIBLE_DEVICES: [0,1,2,3]\n"
     ]
    },
    {
     "name": "stdout",
     "output_type": "stream",
     "text": [
      "Predicting DataLoader 0: 100%|██████████| 2/2 [00:00<00:00, 27.50it/s] \n",
      "{'0.7': [tensor(0.0771), tensor(0.0473), tensor(0.0404)], '0.8': [tensor(0.0594), tensor(0.0383), tensor(0.0475)], '0.9': [tensor(0.0369), tensor(0.0215), tensor(0.0139)], '1.0': [tensor(9.7547e-07), tensor(1.8181e-07), tensor(1.1121e-08)]}\n",
      "{'0.7': '$0.055 \\\\pm 0.016$', '0.8': '$0.048 \\\\pm 0.009$', '0.9': '$0.024 \\\\pm 0.010$', '1.0': '$0.000 \\\\pm 0.000$'}\n"
     ]
    }
   ],
   "source": [
    "#from urllib.parse import non_hierarchical\n",
    "sweep_id = \"7iaz3zez\"\n",
    "multivariate = None\n",
    "regression_mode = True\n",
    "api= wandb.Api()\n",
    "sweep = api.sweep(\"edebrouwer/orthopoly/\"+sweep_id)\n",
    "runs = sweep.runs\n",
    "\n",
    "model_cls = SplineCNODEClass\n",
    "#irregular_rates = [0.3,0.4,0.5]\n",
    "irregular_rates = [0.7,0.8,0.9,1.0]\n",
    "acc_dict = {}\n",
    "\n",
    "def data_cls_choice(data_type):\n",
    "    if data_type == \"SimpleTraj\":\n",
    "        data_cls = SimpleTrajDataModule(**model.hparams)\n",
    "    elif data_type == \"pMNIST\":\n",
    "        data_cls = pMNISTDataModule(**model.hparams)\n",
    "    elif data_type == \"Character\":\n",
    "        data_cls = CharacterTrajDataModule(**model.hparams)\n",
    "    elif data_type == \"Lorenz\":\n",
    "        data_cls = LorenzDataModule(**model.hparams)\n",
    "    return data_cls\n",
    "\n",
    "\n",
    "for irregular_rate in irregular_rates:\n",
    "\n",
    "    accs_ = []\n",
    "    \n",
    "    run_sub = [r for r in runs if (r.config[\"irregular_rate\"]==irregular_rate) and (r.config.get(\"multivariate\",None)==multivariate) and (r.config.get(\"regression_mode\",False)==regression_mode)]\n",
    "\n",
    "    for run in run_sub:\n",
    "        fname = [f.name for f in run.files() if \"ckpt\" in f.name][0]\n",
    "        run.file(fname).download(replace = True, root = \".\")\n",
    "        checkpoint = torch.load(fname, map_location=lambda storage, loc: storage)\n",
    "        hparams = checkpoint[\"hyper_parameters\"]\n",
    "        model = model_cls.load_from_checkpoint(fname,num_dims = hparams.get(\"num_dims\",1))\n",
    "        os.remove(fname)\n",
    "        dataset = data_cls_choice(model.hparams.data_type)\n",
    "        dataset.prepare_data()\n",
    "        \n",
    "        trainer = pl.Trainer(gpus=1)\n",
    "        outputs = trainer.predict(model,dataset.test_dataloader())\n",
    "\n",
    "        preds = torch.cat([x[\"preds\"] for x in outputs])\n",
    "        Y = torch.cat([x[\"Y\"] for x in outputs])\n",
    "        T = torch.cat([x[\"T\"] for x in outputs])\n",
    "        labels = torch.cat([x[\"labels\"] for x in outputs])\n",
    "        \n",
    "        if checkpoint[\"hyper_parameters\"].get(\"regression_mode\",False):\n",
    "            accuracy = torch.nn.MSELoss()(preds,labels)\n",
    "        else:\n",
    "            if len(preds.shape)>1:\n",
    "                preds = torch.nn.functional.softmax(preds, dim=-1).argmax(-1)\n",
    "                accuracy = accuracy_score(labels.long().cpu().numpy(), preds.cpu().numpy())\n",
    "            else:\n",
    "                accuracy = roc_auc_score(labels.long().cpu().numpy(),preds.cpu().numpy())\n",
    "        #print(accuracy)\n",
    "        \n",
    "        accs_.append(accuracy)\n",
    "        \n",
    "    acc_dict[f\"{irregular_rate}\"]=accs_\n",
    "    print(acc_dict)\n",
    "    print(process_dict(acc_dict))"
   ]
  },
  {
   "cell_type": "markdown",
   "id": "b9505362-c4a7-4ae3-b1bc-b89c17942c31",
   "metadata": {
    "tags": []
   },
   "source": [
    "## CNODExt"
   ]
  },
  {
   "cell_type": "code",
   "execution_count": 5,
   "id": "40af0f2c-e815-4bef-a813-4d936f410fce",
   "metadata": {},
   "outputs": [
    {
     "name": "stderr",
     "output_type": "stream",
     "text": [
      "/voyager/projects/edebrouwer/.conda/envs/orthopoly/lib/python3.9/site-packages/pytorch_lightning/utilities/parsing.py:261: UserWarning: Attribute 'init_model' is an instance of `nn.Module` and is already saved during checkpointing. It is recommended to ignore them using `self.save_hyperparameters(ignore=['init_model'])`.\n",
      "  rank_zero_warn(\n"
     ]
    },
    {
     "name": "stdout",
     "output_type": "stream",
     "text": [
      "Pre-computing ODE Projection embeddings....\n"
     ]
    },
    {
     "name": "stderr",
     "output_type": "stream",
     "text": [
      "  0%|          | 0/20 [00:00<?, ?it/s]/voyager/projects/edebrouwer/.conda/envs/orthopoly/lib/python3.9/site-packages/torchdiffeq/_impl/fixed_adams.py:220: UserWarning: Functional iteration did not converge. Solution may be incorrect.\n",
      "  warnings.warn('Functional iteration did not converge. Solution may be incorrect.')\n",
      "100%|██████████| 20/20 [00:07<00:00,  2.62it/s]\n",
      "/voyager/projects/edebrouwer/.conda/envs/orthopoly/lib/python3.9/site-packages/pytorch_lightning/trainer/connectors/accelerator_connector.py:445: LightningDeprecationWarning: Setting `Trainer(gpus=1)` is deprecated in v1.7 and will be removed in v2.0. Please use `Trainer(accelerator='gpu', devices=1)` instead.\n",
      "  rank_zero_deprecation(\n",
      "/voyager/projects/edebrouwer/.conda/envs/orthopoly/lib/python3.9/site-packages/pytorch_lightning/loops/utilities.py:93: PossibleUserWarning: `max_epochs` was not set. Setting it to 1000 epochs. To train without an epoch limit, set `max_epochs=-1`.\n",
      "  rank_zero_warn(\n",
      "GPU available: True (cuda), used: True\n",
      "TPU available: False, using: 0 TPU cores\n",
      "IPU available: False, using: 0 IPUs\n",
      "HPU available: False, using: 0 HPUs\n",
      "LOCAL_RANK: 0 - CUDA_VISIBLE_DEVICES: [0,1,2,3]\n"
     ]
    },
    {
     "name": "stdout",
     "output_type": "stream",
     "text": [
      "Predicting: 0it [00:00, ?it/s]"
     ]
    },
    {
     "name": "stderr",
     "output_type": "stream",
     "text": [
      "Exception ignored in: <function _MultiProcessingDataLoaderIter.__del__ at 0x7f26dec73ca0>\n",
      "Traceback (most recent call last):\n",
      "  File \"/voyager/projects/edebrouwer/.conda/envs/orthopoly/lib/python3.9/site-packages/torch/utils/data/dataloader.py\", line 1481, in __del__\n",
      "    self._shutdown_workers()\n",
      "  File \"/voyager/projects/edebrouwer/.conda/envs/orthopoly/lib/python3.9/site-packages/torch/utils/data/dataloader.py\", line 1412, in _shutdown_workers\n",
      "    if not self._shutdown:\n",
      "AttributeError: '_MultiProcessingDataLoaderIter' object has no attribute '_shutdown'\n",
      "Exception ignored in: <function _MultiProcessingDataLoaderIter.__del__ at 0x7f26dec73ca0>\n",
      "Traceback (most recent call last):\n",
      "  File \"/voyager/projects/edebrouwer/.conda/envs/orthopoly/lib/python3.9/site-packages/torch/utils/data/dataloader.py\", line 1481, in __del__\n",
      "    self._shutdown_workers()\n",
      "  File \"/voyager/projects/edebrouwer/.conda/envs/orthopoly/lib/python3.9/site-packages/torch/utils/data/dataloader.py\", line 1412, in _shutdown_workers\n",
      "    if not self._shutdown:\n",
      "AttributeError: '_MultiProcessingDataLoaderIter' object has no attribute '_shutdown'\n",
      "Exception ignored in: <function _MultiProcessingDataLoaderIter.__del__ at 0x7f26dec73ca0>Exception ignored in: \n",
      "<function _MultiProcessingDataLoaderIter.__del__ at 0x7f26dec73ca0>Traceback (most recent call last):\n",
      "\n",
      "  File \"/voyager/projects/edebrouwer/.conda/envs/orthopoly/lib/python3.9/site-packages/torch/utils/data/dataloader.py\", line 1481, in __del__\n",
      "Traceback (most recent call last):\n",
      "      File \"/voyager/projects/edebrouwer/.conda/envs/orthopoly/lib/python3.9/site-packages/torch/utils/data/dataloader.py\", line 1481, in __del__\n",
      "self._shutdown_workers()    self._shutdown_workers()\n",
      "\n",
      "  File \"/voyager/projects/edebrouwer/.conda/envs/orthopoly/lib/python3.9/site-packages/torch/utils/data/dataloader.py\", line 1412, in _shutdown_workers\n",
      "  File \"/voyager/projects/edebrouwer/.conda/envs/orthopoly/lib/python3.9/site-packages/torch/utils/data/dataloader.py\", line 1412, in _shutdown_workers\n",
      "    if not self._shutdown:    \n",
      "AttributeErrorif not self._shutdown:: \n",
      "'_MultiProcessingDataLoaderIter' object has no attribute '_shutdown'AttributeError\n",
      "Exception ignored in: : <function _MultiProcessingDataLoaderIter.__del__ at 0x7f26dec73ca0>\n",
      "'_MultiProcessingDataLoaderIter' object has no attribute '_shutdown'Traceback (most recent call last):\n",
      "\n",
      "  File \"/voyager/projects/edebrouwer/.conda/envs/orthopoly/lib/python3.9/site-packages/torch/utils/data/dataloader.py\", line 1481, in __del__\n",
      "Exception ignored in:     self._shutdown_workers()\n",
      "  File \"/voyager/projects/edebrouwer/.conda/envs/orthopoly/lib/python3.9/site-packages/torch/utils/data/dataloader.py\", line 1412, in _shutdown_workers\n",
      "    if not self._shutdown:<function _MultiProcessingDataLoaderIter.__del__ at 0x7f26dec73ca0>\n",
      "\n",
      "AttributeErrorTraceback (most recent call last):\n",
      "  File \"/voyager/projects/edebrouwer/.conda/envs/orthopoly/lib/python3.9/site-packages/torch/utils/data/dataloader.py\", line 1481, in __del__\n",
      ": '_MultiProcessingDataLoaderIter' object has no attribute '_shutdown'    \n",
      "self._shutdown_workers()\n",
      "  File \"/voyager/projects/edebrouwer/.conda/envs/orthopoly/lib/python3.9/site-packages/torch/utils/data/dataloader.py\", line 1412, in _shutdown_workers\n",
      "    if not self._shutdown:\n",
      "AttributeError: '_MultiProcessingDataLoaderIter' object has no attribute '_shutdown'\n"
     ]
    },
    {
     "name": "stdout",
     "output_type": "stream",
     "text": [
      "Predicting DataLoader 0: 100%|██████████| 2/2 [00:00<00:00, 23.86it/s] \n",
      "Pre-computing ODE Projection embeddings....\n"
     ]
    },
    {
     "name": "stderr",
     "output_type": "stream",
     "text": [
      "100%|██████████| 20/20 [00:07<00:00,  2.63it/s]\n",
      "GPU available: True (cuda), used: True\n",
      "TPU available: False, using: 0 TPU cores\n",
      "IPU available: False, using: 0 IPUs\n",
      "HPU available: False, using: 0 HPUs\n",
      "LOCAL_RANK: 0 - CUDA_VISIBLE_DEVICES: [0,1,2,3]\n"
     ]
    },
    {
     "name": "stdout",
     "output_type": "stream",
     "text": [
      "Predicting DataLoader 0: 100%|██████████| 2/2 [00:00<00:00, 24.99it/s] \n"
     ]
    },
    {
     "name": "stderr",
     "output_type": "stream",
     "text": [
      "Exception ignored in: <function _MultiProcessingDataLoaderIter.__del__ at 0x7f26dec73ca0>\n",
      "Traceback (most recent call last):\n",
      "  File \"/voyager/projects/edebrouwer/.conda/envs/orthopoly/lib/python3.9/site-packages/torch/utils/data/dataloader.py\", line 1481, in __del__\n",
      "    self._shutdown_workers()\n",
      "  File \"/voyager/projects/edebrouwer/.conda/envs/orthopoly/lib/python3.9/site-packages/torch/utils/data/dataloader.py\", line 1412, in _shutdown_workers\n",
      "    if not self._shutdown:\n",
      "AttributeError: '_MultiProcessingDataLoaderIter' object has no attribute '_shutdown'\n",
      "Exception ignored in: <function _MultiProcessingDataLoaderIter.__del__ at 0x7f26dec73ca0>\n",
      "Traceback (most recent call last):\n",
      "  File \"/voyager/projects/edebrouwer/.conda/envs/orthopoly/lib/python3.9/site-packages/torch/utils/data/dataloader.py\", line 1481, in __del__\n",
      "    self._shutdown_workers()\n",
      "  File \"/voyager/projects/edebrouwer/.conda/envs/orthopoly/lib/python3.9/site-packages/torch/utils/data/dataloader.py\", line 1412, in _shutdown_workers\n",
      "    if not self._shutdown:\n",
      "AttributeError: '_MultiProcessingDataLoaderIter' object has no attribute '_shutdown'\n",
      "Exception ignored in: <function _MultiProcessingDataLoaderIter.__del__ at 0x7f26dec73ca0>\n",
      "Traceback (most recent call last):\n",
      "  File \"/voyager/projects/edebrouwer/.conda/envs/orthopoly/lib/python3.9/site-packages/torch/utils/data/dataloader.py\", line 1481, in __del__\n",
      "    self._shutdown_workers()\n",
      "  File \"/voyager/projects/edebrouwer/.conda/envs/orthopoly/lib/python3.9/site-packages/torch/utils/data/dataloader.py\", line 1412, in _shutdown_workers\n",
      "    if not self._shutdown:\n",
      "AttributeError: '_MultiProcessingDataLoaderIter' object has no attribute '_shutdown'\n",
      "Exception ignored in: <function _MultiProcessingDataLoaderIter.__del__ at 0x7f26dec73ca0>\n",
      "Traceback (most recent call last):\n",
      "  File \"/voyager/projects/edebrouwer/.conda/envs/orthopoly/lib/python3.9/site-packages/torch/utils/data/dataloader.py\", line 1481, in __del__\n",
      "    self._shutdown_workers()\n",
      "  File \"/voyager/projects/edebrouwer/.conda/envs/orthopoly/lib/python3.9/site-packages/torch/utils/data/dataloader.py\", line 1412, in _shutdown_workers\n",
      "    if not self._shutdown:\n",
      "AttributeError: '_MultiProcessingDataLoaderIter' object has no attribute '_shutdown'\n"
     ]
    },
    {
     "name": "stdout",
     "output_type": "stream",
     "text": [
      "Pre-computing ODE Projection embeddings....\n"
     ]
    },
    {
     "name": "stderr",
     "output_type": "stream",
     "text": [
      "100%|██████████| 20/20 [00:07<00:00,  2.64it/s]\n",
      "GPU available: True (cuda), used: True\n",
      "TPU available: False, using: 0 TPU cores\n",
      "IPU available: False, using: 0 IPUs\n",
      "HPU available: False, using: 0 HPUs\n",
      "LOCAL_RANK: 0 - CUDA_VISIBLE_DEVICES: [0,1,2,3]\n"
     ]
    },
    {
     "name": "stdout",
     "output_type": "stream",
     "text": [
      "Predicting DataLoader 0: 100%|██████████| 2/2 [00:00<00:00, 20.93it/s] \n",
      "Pre-computing ODE Projection embeddings....\n"
     ]
    },
    {
     "name": "stderr",
     "output_type": "stream",
     "text": [
      "100%|██████████| 20/20 [00:07<00:00,  2.66it/s]\n",
      "GPU available: True (cuda), used: True\n",
      "TPU available: False, using: 0 TPU cores\n",
      "IPU available: False, using: 0 IPUs\n",
      "HPU available: False, using: 0 HPUs\n",
      "LOCAL_RANK: 0 - CUDA_VISIBLE_DEVICES: [0,1,2,3]\n"
     ]
    },
    {
     "name": "stdout",
     "output_type": "stream",
     "text": [
      "Predicting: 0it [00:00, ?it/s]"
     ]
    },
    {
     "name": "stderr",
     "output_type": "stream",
     "text": [
      "Exception ignored in: <function _MultiProcessingDataLoaderIter.__del__ at 0x7f26dec73ca0>\n",
      "Traceback (most recent call last):\n",
      "  File \"/voyager/projects/edebrouwer/.conda/envs/orthopoly/lib/python3.9/site-packages/torch/utils/data/dataloader.py\", line 1481, in __del__\n",
      "    self._shutdown_workers()\n",
      "  File \"/voyager/projects/edebrouwer/.conda/envs/orthopoly/lib/python3.9/site-packages/torch/utils/data/dataloader.py\", line 1412, in _shutdown_workers\n",
      "    if not self._shutdown:\n",
      "AttributeError: '_MultiProcessingDataLoaderIter' object has no attribute '_shutdown'\n",
      "Exception ignored in: <function _MultiProcessingDataLoaderIter.__del__ at 0x7f26dec73ca0>\n",
      "Traceback (most recent call last):\n",
      "  File \"/voyager/projects/edebrouwer/.conda/envs/orthopoly/lib/python3.9/site-packages/torch/utils/data/dataloader.py\", line 1481, in __del__\n",
      "    self._shutdown_workers()\n",
      "  File \"/voyager/projects/edebrouwer/.conda/envs/orthopoly/lib/python3.9/site-packages/torch/utils/data/dataloader.py\", line 1412, in _shutdown_workers\n",
      "    if not self._shutdown:\n",
      "AttributeError: '_MultiProcessingDataLoaderIter' object has no attribute '_shutdown'\n",
      "Exception ignored in: Exception ignored in: <function _MultiProcessingDataLoaderIter.__del__ at 0x7f26dec73ca0><function _MultiProcessingDataLoaderIter.__del__ at 0x7f26dec73ca0>\n",
      "\n",
      "Traceback (most recent call last):\n",
      "  File \"/voyager/projects/edebrouwer/.conda/envs/orthopoly/lib/python3.9/site-packages/torch/utils/data/dataloader.py\", line 1481, in __del__\n",
      "Traceback (most recent call last):\n",
      "  File \"/voyager/projects/edebrouwer/.conda/envs/orthopoly/lib/python3.9/site-packages/torch/utils/data/dataloader.py\", line 1481, in __del__\n",
      "    self._shutdown_workers()\n",
      "      File \"/voyager/projects/edebrouwer/.conda/envs/orthopoly/lib/python3.9/site-packages/torch/utils/data/dataloader.py\", line 1412, in _shutdown_workers\n",
      "self._shutdown_workers()    \n",
      "if not self._shutdown:\n",
      "  File \"/voyager/projects/edebrouwer/.conda/envs/orthopoly/lib/python3.9/site-packages/torch/utils/data/dataloader.py\", line 1412, in _shutdown_workers\n",
      "AttributeError:     '_MultiProcessingDataLoaderIter' object has no attribute '_shutdown'if not self._shutdown:\n",
      "\n",
      "Exception ignored in: <function _MultiProcessingDataLoaderIter.__del__ at 0x7f26dec73ca0>AttributeError\n",
      ": Traceback (most recent call last):\n",
      "'_MultiProcessingDataLoaderIter' object has no attribute '_shutdown'  File \"/voyager/projects/edebrouwer/.conda/envs/orthopoly/lib/python3.9/site-packages/torch/utils/data/dataloader.py\", line 1481, in __del__\n",
      "\n",
      "    Exception ignored in: self._shutdown_workers()<function _MultiProcessingDataLoaderIter.__del__ at 0x7f26dec73ca0>\n",
      "\n",
      "  File \"/voyager/projects/edebrouwer/.conda/envs/orthopoly/lib/python3.9/site-packages/torch/utils/data/dataloader.py\", line 1412, in _shutdown_workers\n",
      "Traceback (most recent call last):\n",
      "      File \"/voyager/projects/edebrouwer/.conda/envs/orthopoly/lib/python3.9/site-packages/torch/utils/data/dataloader.py\", line 1481, in __del__\n",
      "if not self._shutdown:\n",
      "    AttributeErrorself._shutdown_workers(): \n",
      "'_MultiProcessingDataLoaderIter' object has no attribute '_shutdown'  File \"/voyager/projects/edebrouwer/.conda/envs/orthopoly/lib/python3.9/site-packages/torch/utils/data/dataloader.py\", line 1412, in _shutdown_workers\n",
      "\n",
      "    if not self._shutdown:\n",
      "AttributeError: '_MultiProcessingDataLoaderIter' object has no attribute '_shutdown'\n"
     ]
    },
    {
     "name": "stdout",
     "output_type": "stream",
     "text": [
      "Predicting DataLoader 0: 100%|██████████| 2/2 [00:00<00:00, 24.27it/s] \n",
      "Pre-computing ODE Projection embeddings....\n"
     ]
    },
    {
     "name": "stderr",
     "output_type": "stream",
     "text": [
      "100%|██████████| 20/20 [00:10<00:00,  2.00it/s]\n",
      "GPU available: True (cuda), used: True\n",
      "TPU available: False, using: 0 TPU cores\n",
      "IPU available: False, using: 0 IPUs\n",
      "HPU available: False, using: 0 HPUs\n",
      "LOCAL_RANK: 0 - CUDA_VISIBLE_DEVICES: [0,1,2,3]\n"
     ]
    },
    {
     "name": "stdout",
     "output_type": "stream",
     "text": [
      "Predicting DataLoader 0: 100%|██████████| 2/2 [00:00<00:00, 24.65it/s] \n"
     ]
    },
    {
     "name": "stderr",
     "output_type": "stream",
     "text": [
      "Exception ignored in: <function _MultiProcessingDataLoaderIter.__del__ at 0x7f26dec73ca0>\n",
      "Traceback (most recent call last):\n",
      "  File \"/voyager/projects/edebrouwer/.conda/envs/orthopoly/lib/python3.9/site-packages/torch/utils/data/dataloader.py\", line 1481, in __del__\n",
      "    self._shutdown_workers()\n",
      "  File \"/voyager/projects/edebrouwer/.conda/envs/orthopoly/lib/python3.9/site-packages/torch/utils/data/dataloader.py\", line 1412, in _shutdown_workers\n",
      "    if not self._shutdown:\n",
      "AttributeError: '_MultiProcessingDataLoaderIter' object has no attribute '_shutdown'\n",
      "Exception ignored in: <function _MultiProcessingDataLoaderIter.__del__ at 0x7f26dec73ca0>\n",
      "Traceback (most recent call last):\n",
      "  File \"/voyager/projects/edebrouwer/.conda/envs/orthopoly/lib/python3.9/site-packages/torch/utils/data/dataloader.py\", line 1481, in __del__\n",
      "    self._shutdown_workers()\n",
      "  File \"/voyager/projects/edebrouwer/.conda/envs/orthopoly/lib/python3.9/site-packages/torch/utils/data/dataloader.py\", line 1412, in _shutdown_workers\n",
      "    if not self._shutdown:\n",
      "AttributeError: '_MultiProcessingDataLoaderIter' object has no attribute '_shutdown'\n",
      "Exception ignored in: <function _MultiProcessingDataLoaderIter.__del__ at 0x7f26dec73ca0>\n",
      "Traceback (most recent call last):\n",
      "  File \"/voyager/projects/edebrouwer/.conda/envs/orthopoly/lib/python3.9/site-packages/torch/utils/data/dataloader.py\", line 1481, in __del__\n",
      "    self._shutdown_workers()\n",
      "  File \"/voyager/projects/edebrouwer/.conda/envs/orthopoly/lib/python3.9/site-packages/torch/utils/data/dataloader.py\", line 1412, in _shutdown_workers\n",
      "    if not self._shutdown:\n",
      "AttributeError: '_MultiProcessingDataLoaderIter' object has no attribute '_shutdown'\n",
      "Exception ignored in: <function _MultiProcessingDataLoaderIter.__del__ at 0x7f26dec73ca0>\n",
      "Traceback (most recent call last):\n",
      "  File \"/voyager/projects/edebrouwer/.conda/envs/orthopoly/lib/python3.9/site-packages/torch/utils/data/dataloader.py\", line 1481, in __del__\n",
      "    self._shutdown_workers()\n",
      "  File \"/voyager/projects/edebrouwer/.conda/envs/orthopoly/lib/python3.9/site-packages/torch/utils/data/dataloader.py\", line 1412, in _shutdown_workers\n",
      "    if not self._shutdown:\n",
      "AttributeError: '_MultiProcessingDataLoaderIter' object has no attribute '_shutdown'\n"
     ]
    },
    {
     "name": "stdout",
     "output_type": "stream",
     "text": [
      "Pre-computing ODE Projection embeddings....\n"
     ]
    },
    {
     "name": "stderr",
     "output_type": "stream",
     "text": [
      "100%|██████████| 20/20 [00:07<00:00,  2.61it/s]\n",
      "GPU available: True (cuda), used: True\n",
      "TPU available: False, using: 0 TPU cores\n",
      "IPU available: False, using: 0 IPUs\n",
      "HPU available: False, using: 0 HPUs\n",
      "LOCAL_RANK: 0 - CUDA_VISIBLE_DEVICES: [0,1,2,3]\n"
     ]
    },
    {
     "name": "stdout",
     "output_type": "stream",
     "text": [
      "Predicting DataLoader 0: 100%|██████████| 2/2 [00:00<00:00, 24.67it/s] \n",
      "Pre-computing ODE Projection embeddings....\n"
     ]
    },
    {
     "name": "stderr",
     "output_type": "stream",
     "text": [
      "100%|██████████| 20/20 [00:13<00:00,  1.50it/s]\n",
      "GPU available: True (cuda), used: True\n",
      "TPU available: False, using: 0 TPU cores\n",
      "IPU available: False, using: 0 IPUs\n",
      "HPU available: False, using: 0 HPUs\n",
      "LOCAL_RANK: 0 - CUDA_VISIBLE_DEVICES: [0,1,2,3]\n"
     ]
    },
    {
     "name": "stdout",
     "output_type": "stream",
     "text": [
      "Predicting: 0it [00:00, ?it/s]"
     ]
    },
    {
     "name": "stderr",
     "output_type": "stream",
     "text": [
      "Exception ignored in: <function _MultiProcessingDataLoaderIter.__del__ at 0x7f26dec73ca0>\n",
      "Traceback (most recent call last):\n",
      "  File \"/voyager/projects/edebrouwer/.conda/envs/orthopoly/lib/python3.9/site-packages/torch/utils/data/dataloader.py\", line 1481, in __del__\n",
      "    self._shutdown_workers()\n",
      "  File \"/voyager/projects/edebrouwer/.conda/envs/orthopoly/lib/python3.9/site-packages/torch/utils/data/dataloader.py\", line 1412, in _shutdown_workers\n",
      "    if not self._shutdown:\n",
      "AttributeError: '_MultiProcessingDataLoaderIter' object has no attribute '_shutdown'\n",
      "Exception ignored in: <function _MultiProcessingDataLoaderIter.__del__ at 0x7f26dec73ca0>\n",
      "Traceback (most recent call last):\n",
      "  File \"/voyager/projects/edebrouwer/.conda/envs/orthopoly/lib/python3.9/site-packages/torch/utils/data/dataloader.py\", line 1481, in __del__\n",
      "    self._shutdown_workers()\n",
      "  File \"/voyager/projects/edebrouwer/.conda/envs/orthopoly/lib/python3.9/site-packages/torch/utils/data/dataloader.py\", line 1412, in _shutdown_workers\n",
      "    if not self._shutdown:\n",
      "AttributeError: '_MultiProcessingDataLoaderIter' object has no attribute '_shutdown'\n",
      "Exception ignored in: Exception ignored in: <function _MultiProcessingDataLoaderIter.__del__ at 0x7f26dec73ca0><function _MultiProcessingDataLoaderIter.__del__ at 0x7f26dec73ca0>\n",
      "\n",
      "Traceback (most recent call last):\n",
      "Traceback (most recent call last):\n",
      "  File \"/voyager/projects/edebrouwer/.conda/envs/orthopoly/lib/python3.9/site-packages/torch/utils/data/dataloader.py\", line 1481, in __del__\n",
      "  File \"/voyager/projects/edebrouwer/.conda/envs/orthopoly/lib/python3.9/site-packages/torch/utils/data/dataloader.py\", line 1481, in __del__\n",
      "    self._shutdown_workers()\n",
      "      File \"/voyager/projects/edebrouwer/.conda/envs/orthopoly/lib/python3.9/site-packages/torch/utils/data/dataloader.py\", line 1412, in _shutdown_workers\n",
      "self._shutdown_workers()    \n",
      "if not self._shutdown:\n",
      "  File \"/voyager/projects/edebrouwer/.conda/envs/orthopoly/lib/python3.9/site-packages/torch/utils/data/dataloader.py\", line 1412, in _shutdown_workers\n",
      "AttributeError:     '_MultiProcessingDataLoaderIter' object has no attribute '_shutdown'if not self._shutdown:\n",
      "Exception ignored in: \n",
      "<function _MultiProcessingDataLoaderIter.__del__ at 0x7f26dec73ca0>AttributeError\n",
      ": Traceback (most recent call last):\n",
      "'_MultiProcessingDataLoaderIter' object has no attribute '_shutdown'  File \"/voyager/projects/edebrouwer/.conda/envs/orthopoly/lib/python3.9/site-packages/torch/utils/data/dataloader.py\", line 1481, in __del__\n",
      "\n",
      "Exception ignored in:     self._shutdown_workers()<function _MultiProcessingDataLoaderIter.__del__ at 0x7f26dec73ca0>\n",
      "\n",
      "  File \"/voyager/projects/edebrouwer/.conda/envs/orthopoly/lib/python3.9/site-packages/torch/utils/data/dataloader.py\", line 1412, in _shutdown_workers\n",
      "Traceback (most recent call last):\n",
      "      File \"/voyager/projects/edebrouwer/.conda/envs/orthopoly/lib/python3.9/site-packages/torch/utils/data/dataloader.py\", line 1481, in __del__\n",
      "if not self._shutdown:\n",
      "    AttributeErrorself._shutdown_workers(): '_MultiProcessingDataLoaderIter' object has no attribute '_shutdown'\n",
      "\n",
      "  File \"/voyager/projects/edebrouwer/.conda/envs/orthopoly/lib/python3.9/site-packages/torch/utils/data/dataloader.py\", line 1412, in _shutdown_workers\n",
      "    if not self._shutdown:\n",
      "AttributeError: '_MultiProcessingDataLoaderIter' object has no attribute '_shutdown'\n"
     ]
    },
    {
     "name": "stdout",
     "output_type": "stream",
     "text": [
      "Predicting DataLoader 0: 100%|██████████| 2/2 [00:00<00:00, 23.35it/s] \n",
      "Pre-computing ODE Projection embeddings....\n"
     ]
    },
    {
     "name": "stderr",
     "output_type": "stream",
     "text": [
      "100%|██████████| 20/20 [00:07<00:00,  2.62it/s]\n",
      "GPU available: True (cuda), used: True\n",
      "TPU available: False, using: 0 TPU cores\n",
      "IPU available: False, using: 0 IPUs\n",
      "HPU available: False, using: 0 HPUs\n",
      "LOCAL_RANK: 0 - CUDA_VISIBLE_DEVICES: [0,1,2,3]\n"
     ]
    },
    {
     "name": "stdout",
     "output_type": "stream",
     "text": [
      "Predicting DataLoader 0: 100%|██████████| 2/2 [00:00<00:00, 23.38it/s] \n"
     ]
    },
    {
     "name": "stderr",
     "output_type": "stream",
     "text": [
      "Exception ignored in: <function _MultiProcessingDataLoaderIter.__del__ at 0x7f26dec73ca0>\n",
      "Traceback (most recent call last):\n",
      "  File \"/voyager/projects/edebrouwer/.conda/envs/orthopoly/lib/python3.9/site-packages/torch/utils/data/dataloader.py\", line 1481, in __del__\n",
      "    self._shutdown_workers()\n",
      "  File \"/voyager/projects/edebrouwer/.conda/envs/orthopoly/lib/python3.9/site-packages/torch/utils/data/dataloader.py\", line 1412, in _shutdown_workers\n",
      "    if not self._shutdown:\n",
      "AttributeError: '_MultiProcessingDataLoaderIter' object has no attribute '_shutdown'\n",
      "Exception ignored in: <function _MultiProcessingDataLoaderIter.__del__ at 0x7f26dec73ca0>\n",
      "Traceback (most recent call last):\n",
      "  File \"/voyager/projects/edebrouwer/.conda/envs/orthopoly/lib/python3.9/site-packages/torch/utils/data/dataloader.py\", line 1481, in __del__\n",
      "    self._shutdown_workers()\n",
      "  File \"/voyager/projects/edebrouwer/.conda/envs/orthopoly/lib/python3.9/site-packages/torch/utils/data/dataloader.py\", line 1412, in _shutdown_workers\n",
      "    if not self._shutdown:\n",
      "AttributeError: '_MultiProcessingDataLoaderIter' object has no attribute '_shutdown'\n",
      "Exception ignored in: <function _MultiProcessingDataLoaderIter.__del__ at 0x7f26dec73ca0>\n",
      "Traceback (most recent call last):\n",
      "  File \"/voyager/projects/edebrouwer/.conda/envs/orthopoly/lib/python3.9/site-packages/torch/utils/data/dataloader.py\", line 1481, in __del__\n",
      "    self._shutdown_workers()\n",
      "  File \"/voyager/projects/edebrouwer/.conda/envs/orthopoly/lib/python3.9/site-packages/torch/utils/data/dataloader.py\", line 1412, in _shutdown_workers\n",
      "    if not self._shutdown:\n",
      "AttributeError: '_MultiProcessingDataLoaderIter' object has no attribute '_shutdown'\n",
      "Exception ignored in: <function _MultiProcessingDataLoaderIter.__del__ at 0x7f26dec73ca0>\n",
      "Traceback (most recent call last):\n",
      "  File \"/voyager/projects/edebrouwer/.conda/envs/orthopoly/lib/python3.9/site-packages/torch/utils/data/dataloader.py\", line 1481, in __del__\n",
      "    self._shutdown_workers()\n",
      "  File \"/voyager/projects/edebrouwer/.conda/envs/orthopoly/lib/python3.9/site-packages/torch/utils/data/dataloader.py\", line 1412, in _shutdown_workers\n",
      "    if not self._shutdown:\n",
      "AttributeError: '_MultiProcessingDataLoaderIter' object has no attribute '_shutdown'\n"
     ]
    },
    {
     "name": "stdout",
     "output_type": "stream",
     "text": [
      "Pre-computing ODE Projection embeddings....\n"
     ]
    },
    {
     "name": "stderr",
     "output_type": "stream",
     "text": [
      "100%|██████████| 20/20 [00:07<00:00,  2.61it/s]\n",
      "GPU available: True (cuda), used: True\n",
      "TPU available: False, using: 0 TPU cores\n",
      "IPU available: False, using: 0 IPUs\n",
      "HPU available: False, using: 0 HPUs\n",
      "LOCAL_RANK: 0 - CUDA_VISIBLE_DEVICES: [0,1,2,3]\n"
     ]
    },
    {
     "name": "stdout",
     "output_type": "stream",
     "text": [
      "Predicting DataLoader 0: 100%|██████████| 2/2 [00:00<00:00, 23.68it/s] \n",
      "Pre-computing ODE Projection embeddings....\n"
     ]
    },
    {
     "name": "stderr",
     "output_type": "stream",
     "text": [
      "100%|██████████| 20/20 [00:07<00:00,  2.65it/s]\n",
      "GPU available: True (cuda), used: True\n",
      "TPU available: False, using: 0 TPU cores\n",
      "IPU available: False, using: 0 IPUs\n",
      "HPU available: False, using: 0 HPUs\n",
      "LOCAL_RANK: 0 - CUDA_VISIBLE_DEVICES: [0,1,2,3]\n"
     ]
    },
    {
     "name": "stdout",
     "output_type": "stream",
     "text": [
      "Predicting: 0it [00:00, ?it/s]"
     ]
    },
    {
     "name": "stderr",
     "output_type": "stream",
     "text": [
      "Exception ignored in: <function _MultiProcessingDataLoaderIter.__del__ at 0x7f26dec73ca0>\n",
      "Traceback (most recent call last):\n",
      "  File \"/voyager/projects/edebrouwer/.conda/envs/orthopoly/lib/python3.9/site-packages/torch/utils/data/dataloader.py\", line 1481, in __del__\n",
      "    self._shutdown_workers()\n",
      "  File \"/voyager/projects/edebrouwer/.conda/envs/orthopoly/lib/python3.9/site-packages/torch/utils/data/dataloader.py\", line 1412, in _shutdown_workers\n",
      "    if not self._shutdown:\n",
      "AttributeError: '_MultiProcessingDataLoaderIter' object has no attribute '_shutdown'\n",
      "Exception ignored in: <function _MultiProcessingDataLoaderIter.__del__ at 0x7f26dec73ca0>\n",
      "Traceback (most recent call last):\n",
      "  File \"/voyager/projects/edebrouwer/.conda/envs/orthopoly/lib/python3.9/site-packages/torch/utils/data/dataloader.py\", line 1481, in __del__\n",
      "    self._shutdown_workers()\n",
      "  File \"/voyager/projects/edebrouwer/.conda/envs/orthopoly/lib/python3.9/site-packages/torch/utils/data/dataloader.py\", line 1412, in _shutdown_workers\n",
      "    if not self._shutdown:\n",
      "AttributeError: '_MultiProcessingDataLoaderIter' object has no attribute '_shutdown'\n",
      "Exception ignored in: Exception ignored in: <function _MultiProcessingDataLoaderIter.__del__ at 0x7f26dec73ca0><function _MultiProcessingDataLoaderIter.__del__ at 0x7f26dec73ca0>\n",
      "\n",
      "Traceback (most recent call last):\n",
      "Traceback (most recent call last):\n",
      "  File \"/voyager/projects/edebrouwer/.conda/envs/orthopoly/lib/python3.9/site-packages/torch/utils/data/dataloader.py\", line 1481, in __del__\n",
      "  File \"/voyager/projects/edebrouwer/.conda/envs/orthopoly/lib/python3.9/site-packages/torch/utils/data/dataloader.py\", line 1481, in __del__\n",
      "    self._shutdown_workers()    \n",
      "self._shutdown_workers()  File \"/voyager/projects/edebrouwer/.conda/envs/orthopoly/lib/python3.9/site-packages/torch/utils/data/dataloader.py\", line 1412, in _shutdown_workers\n",
      "\n",
      "    if not self._shutdown:  File \"/voyager/projects/edebrouwer/.conda/envs/orthopoly/lib/python3.9/site-packages/torch/utils/data/dataloader.py\", line 1412, in _shutdown_workers\n",
      "\n",
      "AttributeError    : if not self._shutdown:'_MultiProcessingDataLoaderIter' object has no attribute '_shutdown'\n",
      "\n",
      "Exception ignored in: AttributeError<function _MultiProcessingDataLoaderIter.__del__ at 0x7f26dec73ca0>: \n",
      "'_MultiProcessingDataLoaderIter' object has no attribute '_shutdown'Traceback (most recent call last):\n",
      "\n",
      "  File \"/voyager/projects/edebrouwer/.conda/envs/orthopoly/lib/python3.9/site-packages/torch/utils/data/dataloader.py\", line 1481, in __del__\n",
      "Exception ignored in:     <function _MultiProcessingDataLoaderIter.__del__ at 0x7f26dec73ca0>self._shutdown_workers()\n",
      "\n",
      "Traceback (most recent call last):\n",
      "  File \"/voyager/projects/edebrouwer/.conda/envs/orthopoly/lib/python3.9/site-packages/torch/utils/data/dataloader.py\", line 1412, in _shutdown_workers\n",
      "  File \"/voyager/projects/edebrouwer/.conda/envs/orthopoly/lib/python3.9/site-packages/torch/utils/data/dataloader.py\", line 1481, in __del__\n",
      "        if not self._shutdown:self._shutdown_workers()\n",
      "\n",
      "AttributeError:   File \"/voyager/projects/edebrouwer/.conda/envs/orthopoly/lib/python3.9/site-packages/torch/utils/data/dataloader.py\", line 1412, in _shutdown_workers\n",
      "'_MultiProcessingDataLoaderIter' object has no attribute '_shutdown'\n",
      "    if not self._shutdown:\n",
      "AttributeError: '_MultiProcessingDataLoaderIter' object has no attribute '_shutdown'\n"
     ]
    },
    {
     "name": "stdout",
     "output_type": "stream",
     "text": [
      "Predicting DataLoader 0: 100%|██████████| 2/2 [00:00<00:00, 21.22it/s] \n",
      "Pre-computing ODE Projection embeddings....\n"
     ]
    },
    {
     "name": "stderr",
     "output_type": "stream",
     "text": [
      "100%|██████████| 20/20 [00:07<00:00,  2.63it/s]\n",
      "GPU available: True (cuda), used: True\n",
      "TPU available: False, using: 0 TPU cores\n",
      "IPU available: False, using: 0 IPUs\n",
      "HPU available: False, using: 0 HPUs\n",
      "LOCAL_RANK: 0 - CUDA_VISIBLE_DEVICES: [0,1,2,3]\n"
     ]
    },
    {
     "name": "stdout",
     "output_type": "stream",
     "text": [
      "Predicting DataLoader 0: 100%|██████████| 2/2 [00:00<00:00, 24.51it/s] \n"
     ]
    },
    {
     "name": "stderr",
     "output_type": "stream",
     "text": [
      "Exception ignored in: <function _MultiProcessingDataLoaderIter.__del__ at 0x7f26dec73ca0>\n",
      "Traceback (most recent call last):\n",
      "  File \"/voyager/projects/edebrouwer/.conda/envs/orthopoly/lib/python3.9/site-packages/torch/utils/data/dataloader.py\", line 1481, in __del__\n",
      "    self._shutdown_workers()\n",
      "  File \"/voyager/projects/edebrouwer/.conda/envs/orthopoly/lib/python3.9/site-packages/torch/utils/data/dataloader.py\", line 1412, in _shutdown_workers\n",
      "    if not self._shutdown:\n",
      "AttributeError: '_MultiProcessingDataLoaderIter' object has no attribute '_shutdown'\n",
      "Exception ignored in: <function _MultiProcessingDataLoaderIter.__del__ at 0x7f26dec73ca0>\n",
      "Traceback (most recent call last):\n",
      "  File \"/voyager/projects/edebrouwer/.conda/envs/orthopoly/lib/python3.9/site-packages/torch/utils/data/dataloader.py\", line 1481, in __del__\n",
      "    self._shutdown_workers()\n",
      "  File \"/voyager/projects/edebrouwer/.conda/envs/orthopoly/lib/python3.9/site-packages/torch/utils/data/dataloader.py\", line 1412, in _shutdown_workers\n",
      "    if not self._shutdown:\n",
      "AttributeError: '_MultiProcessingDataLoaderIter' object has no attribute '_shutdown'\n",
      "Exception ignored in: <function _MultiProcessingDataLoaderIter.__del__ at 0x7f26dec73ca0>\n",
      "Traceback (most recent call last):\n",
      "  File \"/voyager/projects/edebrouwer/.conda/envs/orthopoly/lib/python3.9/site-packages/torch/utils/data/dataloader.py\", line 1481, in __del__\n",
      "    self._shutdown_workers()\n",
      "  File \"/voyager/projects/edebrouwer/.conda/envs/orthopoly/lib/python3.9/site-packages/torch/utils/data/dataloader.py\", line 1412, in _shutdown_workers\n",
      "    if not self._shutdown:\n",
      "AttributeError: '_MultiProcessingDataLoaderIter' object has no attribute '_shutdown'\n",
      "Exception ignored in: <function _MultiProcessingDataLoaderIter.__del__ at 0x7f26dec73ca0>\n",
      "Traceback (most recent call last):\n",
      "  File \"/voyager/projects/edebrouwer/.conda/envs/orthopoly/lib/python3.9/site-packages/torch/utils/data/dataloader.py\", line 1481, in __del__\n",
      "    self._shutdown_workers()\n",
      "  File \"/voyager/projects/edebrouwer/.conda/envs/orthopoly/lib/python3.9/site-packages/torch/utils/data/dataloader.py\", line 1412, in _shutdown_workers\n",
      "    if not self._shutdown:\n",
      "AttributeError: '_MultiProcessingDataLoaderIter' object has no attribute '_shutdown'\n",
      "Exception ignored in: <function _MultiProcessingDataLoaderIter.__del__ at 0x7f26dec73ca0>\n",
      "Traceback (most recent call last):\n",
      "  File \"/voyager/projects/edebrouwer/.conda/envs/orthopoly/lib/python3.9/site-packages/torch/utils/data/dataloader.py\", line 1481, in __del__\n",
      "    self._shutdown_workers()\n",
      "  File \"/voyager/projects/edebrouwer/.conda/envs/orthopoly/lib/python3.9/site-packages/torch/utils/data/dataloader.py\", line 1412, in _shutdown_workers\n",
      "    if not self._shutdown:\n",
      "AttributeError: '_MultiProcessingDataLoaderIter' object has no attribute '_shutdown'\n",
      "Exception ignored in: <function _MultiProcessingDataLoaderIter.__del__ at 0x7f26dec73ca0>\n",
      "Traceback (most recent call last):\n",
      "  File \"/voyager/projects/edebrouwer/.conda/envs/orthopoly/lib/python3.9/site-packages/torch/utils/data/dataloader.py\", line 1481, in __del__\n",
      "    self._shutdown_workers()\n",
      "  File \"/voyager/projects/edebrouwer/.conda/envs/orthopoly/lib/python3.9/site-packages/torch/utils/data/dataloader.py\", line 1412, in _shutdown_workers\n",
      "    if not self._shutdown:\n",
      "AttributeError: '_MultiProcessingDataLoaderIter' object has no attribute '_shutdown'\n",
      "Exception ignored in: <function _MultiProcessingDataLoaderIter.__del__ at 0x7f26dec73ca0>\n",
      "Traceback (most recent call last):\n",
      "  File \"/voyager/projects/edebrouwer/.conda/envs/orthopoly/lib/python3.9/site-packages/torch/utils/data/dataloader.py\", line 1481, in __del__\n",
      "    self._shutdown_workers()\n",
      "  File \"/voyager/projects/edebrouwer/.conda/envs/orthopoly/lib/python3.9/site-packages/torch/utils/data/dataloader.py\", line 1412, in _shutdown_workers\n",
      "    if not self._shutdown:\n",
      "AttributeError: '_MultiProcessingDataLoaderIter' object has no attribute '_shutdown'\n",
      "Exception ignored in: <function _MultiProcessingDataLoaderIter.__del__ at 0x7f26dec73ca0>\n",
      "Traceback (most recent call last):\n",
      "  File \"/voyager/projects/edebrouwer/.conda/envs/orthopoly/lib/python3.9/site-packages/torch/utils/data/dataloader.py\", line 1481, in __del__\n",
      "    self._shutdown_workers()\n",
      "  File \"/voyager/projects/edebrouwer/.conda/envs/orthopoly/lib/python3.9/site-packages/torch/utils/data/dataloader.py\", line 1412, in _shutdown_workers\n",
      "    if not self._shutdown:\n",
      "AttributeError: '_MultiProcessingDataLoaderIter' object has no attribute '_shutdown'\n",
      "Exception ignored in: <function _MultiProcessingDataLoaderIter.__del__ at 0x7f26dec73ca0>\n",
      "Traceback (most recent call last):\n",
      "  File \"/voyager/projects/edebrouwer/.conda/envs/orthopoly/lib/python3.9/site-packages/torch/utils/data/dataloader.py\", line 1481, in __del__\n",
      "    self._shutdown_workers()\n",
      "  File \"/voyager/projects/edebrouwer/.conda/envs/orthopoly/lib/python3.9/site-packages/torch/utils/data/dataloader.py\", line 1412, in _shutdown_workers\n",
      "    if not self._shutdown:\n",
      "AttributeError: '_MultiProcessingDataLoaderIter' object has no attribute '_shutdown'\n",
      "Exception ignored in: <function _MultiProcessingDataLoaderIter.__del__ at 0x7f26dec73ca0>\n",
      "Traceback (most recent call last):\n",
      "  File \"/voyager/projects/edebrouwer/.conda/envs/orthopoly/lib/python3.9/site-packages/torch/utils/data/dataloader.py\", line 1481, in __del__\n",
      "    self._shutdown_workers()\n",
      "  File \"/voyager/projects/edebrouwer/.conda/envs/orthopoly/lib/python3.9/site-packages/torch/utils/data/dataloader.py\", line 1412, in _shutdown_workers\n",
      "    if not self._shutdown:\n",
      "AttributeError: '_MultiProcessingDataLoaderIter' object has no attribute '_shutdown'\n"
     ]
    },
    {
     "name": "stdout",
     "output_type": "stream",
     "text": [
      "Pre-computing ODE Projection embeddings....\n"
     ]
    },
    {
     "name": "stderr",
     "output_type": "stream",
     "text": [
      "100%|██████████| 20/20 [00:07<00:00,  2.63it/s]\n",
      "GPU available: True (cuda), used: True\n",
      "TPU available: False, using: 0 TPU cores\n",
      "IPU available: False, using: 0 IPUs\n",
      "HPU available: False, using: 0 HPUs\n",
      "LOCAL_RANK: 0 - CUDA_VISIBLE_DEVICES: [0,1,2,3]\n"
     ]
    },
    {
     "name": "stdout",
     "output_type": "stream",
     "text": [
      "Predicting DataLoader 0: 100%|██████████| 2/2 [00:00<00:00, 23.04it/s] \n",
      "{'0.7': [tensor(0.0104), tensor(0.0147), tensor(0.0120)], '0.8': [tensor(0.0082), tensor(0.0024), tensor(0.0033)], '0.9': [tensor(0.0027), tensor(0.0013), tensor(0.0005)], '1.0': [tensor(1.3792e-05), tensor(2.9344e-06), tensor(1.8820e-05)]}\n",
      "{'0.7': '$0.012 \\\\pm 0.002$', '0.8': '$0.005 \\\\pm 0.003$', '0.9': '$0.002 \\\\pm 0.001$', '1.0': '$0.000 \\\\pm 0.000$'}\n"
     ]
    }
   ],
   "source": [
    "sweep_id = \"sm9uua5w\"\n",
    "regression_mode = True\n",
    "api= wandb.Api()\n",
    "sweep = api.sweep(\"edebrouwer/orthopoly/\"+sweep_id)\n",
    "#init_sweep_id = \"edebrouwer/orthopoly/t77q79lw\"\n",
    "runs = sweep.runs\n",
    "\n",
    "model_cls = CNODExtClassification\n",
    "init_model_cls = CNODExt\n",
    "#irregular_rates = [0.3, 0.4, 0.5]\n",
    "irregular_rates = [0.7, 0.8, 0.9, 1.0]\n",
    "device = torch.device(\"cuda\")\n",
    "seed = 421\n",
    "acc_dict = {}\n",
    "\n",
    "def data_cls_choice(data_type, init_model):\n",
    "    if data_type == \"SimpleTraj\":\n",
    "        data_cls = SimpleTrajDataModule(**init_model.hparams)\n",
    "    elif data_type == \"pMNIST\":\n",
    "        data_cls = pMNISTDataModule(**init_model.hparams)\n",
    "    elif data_type == \"Character\":\n",
    "        data_cls = CharacterTrajDataModule(**init_model.hparams)\n",
    "    elif data_type == \"MIMIC\":\n",
    "        data_cls = MIMICDataModule(**init_model.hparams)\n",
    "    elif data_type == \"Lorenz\":\n",
    "        data_cls = LorenzDataModule(**init_model.hparams)\n",
    "    return data_cls\n",
    "\n",
    "for irregular_rate in irregular_rates:\n",
    "    \n",
    "    accs_ = []\n",
    "    run_sub = [r for r in runs if (r.config[\"irregular_rate\"]==irregular_rate)   and  (r.config.get(\"regression_mode\",False)==regression_mode) ]\n",
    "\n",
    "    for run in run_sub:\n",
    "        fname = [f.name for f in run.files() if \"ckpt\" in f.name][0]\n",
    "        run.file(fname).download(replace = True, root = \".\")\n",
    "         \n",
    "        checkpoint = torch.load(\n",
    "        fname, map_location=lambda storage, loc: storage)\n",
    "        checkpoint[\"hyper_parameters\"].pop(\"callbacks\", None)\n",
    "        checkpoint[\"hyper_parameters\"].pop(\"logger\", None)\n",
    "        checkpoint[\"hyper_parameters\"].pop(\"wandb_id_file_path\", None)\n",
    "        checkpoint.pop(\"callbacks\",None)\n",
    "        checkpoint_ = {\"state_dict\":checkpoint[\"state_dict\"],\"hyper_parameters\":checkpoint[\"hyper_parameters\"]}\n",
    "        checkpoint_[\"hyper_parameters\"].pop(\"init_model\",None)\n",
    "\n",
    "        init_model = get_init_model(checkpoint[\"hyper_parameters\"][\"init_sweep_id\"],init_model_cls,checkpoint[\"hyper_parameters\"][\"irregular_rate\"],checkpoint[\"hyper_parameters\"][\"seed\"],checkpoint[\"hyper_parameters\"].get(\"multivariate\", False))\n",
    "        \n",
    "        model = _load_state(model_cls, checkpoint_,init_model = init_model).to(device)\n",
    "               \n",
    "        os.remove(fname)\n",
    "        \n",
    "        dataset = data_cls_choice(model.hparams.data_type, init_model = model)\n",
    "        dataset.set_test_only()\n",
    "        dataset.prepare_data()\n",
    "    \n",
    "        trainer = pl.Trainer(gpus=1,logger = None)\n",
    "        \n",
    "        outputs = trainer.predict(model,dataset.test_dataloader())\n",
    "\n",
    "        preds = torch.cat([x[\"preds\"] for x in outputs])\n",
    "        Y = torch.cat([x[\"Y\"] for x in outputs])\n",
    "        T = torch.cat([x[\"T\"] for x in outputs])\n",
    "        labels = torch.cat([x[\"labels\"] for x in outputs])\n",
    "        \n",
    "        if checkpoint[\"hyper_parameters\"].get(\"regression_mode\",False):\n",
    "            accuracy = torch.nn.MSELoss()(preds,labels)\n",
    "        else:\n",
    "            if len(preds.shape)>1:\n",
    "                preds = torch.nn.functional.softmax(preds, dim=-1).argmax(-1)\n",
    "                accuracy = accuracy_score(labels.long().cpu().numpy(), preds.cpu().numpy())\n",
    "            else:\n",
    "                accuracy = roc_auc_score(labels.long().cpu().numpy(),preds.cpu().numpy())\n",
    "        \n",
    "        accs_.append(accuracy)\n",
    "    \n",
    "    acc_dict[f\"{irregular_rate}\"]=accs_\n",
    "print(acc_dict)\n",
    "print(process_dict(acc_dict))"
   ]
  },
  {
   "cell_type": "markdown",
   "id": "de79458d-0ba5-4185-9a05-53d912c6f160",
   "metadata": {
    "jp-MarkdownHeadingCollapsed": true,
    "tags": []
   },
   "source": [
    "## Hippo"
   ]
  },
  {
   "cell_type": "code",
   "execution_count": 11,
   "id": "2d5db15a-1802-4adc-893a-26569269f0d3",
   "metadata": {},
   "outputs": [
    {
     "name": "stderr",
     "output_type": "stream",
     "text": [
      "Exception ignored in: <function _MultiProcessingDataLoaderIter.__del__ at 0x7f211e253550>\n",
      "Traceback (most recent call last):\n",
      "  File \"/voyager/projects/edebrouwer/.conda/envs/orthopoly/lib/python3.9/site-packages/torch/utils/data/dataloader.py\", line 1481, in __del__\n",
      "    self._shutdown_workers()\n",
      "  File \"/voyager/projects/edebrouwer/.conda/envs/orthopoly/lib/python3.9/site-packages/torch/utils/data/dataloader.py\", line 1412, in _shutdown_workers\n",
      "    if not self._shutdown:\n",
      "AttributeError: '_MultiProcessingDataLoaderIter' object has no attribute '_shutdown'\n",
      "Exception ignored in: <function _MultiProcessingDataLoaderIter.__del__ at 0x7f211e253550>\n",
      "Traceback (most recent call last):\n",
      "  File \"/voyager/projects/edebrouwer/.conda/envs/orthopoly/lib/python3.9/site-packages/torch/utils/data/dataloader.py\", line 1481, in __del__\n",
      "    self._shutdown_workers()\n",
      "  File \"/voyager/projects/edebrouwer/.conda/envs/orthopoly/lib/python3.9/site-packages/torch/utils/data/dataloader.py\", line 1412, in _shutdown_workers\n",
      "    if not self._shutdown:\n",
      "AttributeError: '_MultiProcessingDataLoaderIter' object has no attribute '_shutdown'\n",
      "GPU available: True (cuda), used: True\n",
      "TPU available: False, using: 0 TPU cores\n",
      "IPU available: False, using: 0 IPUs\n",
      "HPU available: False, using: 0 HPUs\n",
      "LOCAL_RANK: 0 - CUDA_VISIBLE_DEVICES: [0,1,2,3]\n"
     ]
    },
    {
     "name": "stdout",
     "output_type": "stream",
     "text": [
      "Predicting DataLoader 0: 100%|██████████| 2/2 [00:00<00:00, 18.58it/s]\n"
     ]
    },
    {
     "name": "stderr",
     "output_type": "stream",
     "text": [
      "GPU available: True (cuda), used: True\n",
      "TPU available: False, using: 0 TPU cores\n",
      "IPU available: False, using: 0 IPUs\n",
      "HPU available: False, using: 0 HPUs\n",
      "LOCAL_RANK: 0 - CUDA_VISIBLE_DEVICES: [0,1,2,3]\n"
     ]
    },
    {
     "name": "stdout",
     "output_type": "stream",
     "text": [
      "Predicting DataLoader 0: 100%|██████████| 2/2 [00:00<00:00, 17.61it/s]\n"
     ]
    },
    {
     "name": "stderr",
     "output_type": "stream",
     "text": [
      "GPU available: True (cuda), used: True\n",
      "TPU available: False, using: 0 TPU cores\n",
      "IPU available: False, using: 0 IPUs\n",
      "HPU available: False, using: 0 HPUs\n",
      "LOCAL_RANK: 0 - CUDA_VISIBLE_DEVICES: [0,1,2,3]\n"
     ]
    },
    {
     "name": "stdout",
     "output_type": "stream",
     "text": [
      "Predicting DataLoader 0: 100%|██████████| 2/2 [00:00<00:00, 19.34it/s]\n"
     ]
    },
    {
     "name": "stderr",
     "output_type": "stream",
     "text": [
      "GPU available: True (cuda), used: True\n",
      "TPU available: False, using: 0 TPU cores\n",
      "IPU available: False, using: 0 IPUs\n",
      "HPU available: False, using: 0 HPUs\n",
      "LOCAL_RANK: 0 - CUDA_VISIBLE_DEVICES: [0,1,2,3]\n"
     ]
    },
    {
     "name": "stdout",
     "output_type": "stream",
     "text": [
      "Predicting DataLoader 0: 100%|██████████| 2/2 [00:00<00:00, 19.02it/s]\n"
     ]
    },
    {
     "name": "stderr",
     "output_type": "stream",
     "text": [
      "GPU available: True (cuda), used: True\n",
      "TPU available: False, using: 0 TPU cores\n",
      "IPU available: False, using: 0 IPUs\n",
      "HPU available: False, using: 0 HPUs\n",
      "LOCAL_RANK: 0 - CUDA_VISIBLE_DEVICES: [0,1,2,3]\n"
     ]
    },
    {
     "name": "stdout",
     "output_type": "stream",
     "text": [
      "Predicting DataLoader 0: 100%|██████████| 2/2 [00:00<00:00, 19.36it/s]\n"
     ]
    },
    {
     "name": "stderr",
     "output_type": "stream",
     "text": [
      "GPU available: True (cuda), used: True\n",
      "TPU available: False, using: 0 TPU cores\n",
      "IPU available: False, using: 0 IPUs\n",
      "HPU available: False, using: 0 HPUs\n",
      "LOCAL_RANK: 0 - CUDA_VISIBLE_DEVICES: [0,1,2,3]\n"
     ]
    },
    {
     "name": "stdout",
     "output_type": "stream",
     "text": [
      "Predicting DataLoader 0: 100%|██████████| 2/2 [00:00<00:00, 18.76it/s]\n"
     ]
    },
    {
     "name": "stderr",
     "output_type": "stream",
     "text": [
      "GPU available: True (cuda), used: True\n",
      "TPU available: False, using: 0 TPU cores\n",
      "IPU available: False, using: 0 IPUs\n",
      "HPU available: False, using: 0 HPUs\n",
      "LOCAL_RANK: 0 - CUDA_VISIBLE_DEVICES: [0,1,2,3]\n"
     ]
    },
    {
     "name": "stdout",
     "output_type": "stream",
     "text": [
      "Predicting DataLoader 0: 100%|██████████| 2/2 [00:00<00:00, 18.66it/s]\n"
     ]
    },
    {
     "name": "stderr",
     "output_type": "stream",
     "text": [
      "GPU available: True (cuda), used: True\n",
      "TPU available: False, using: 0 TPU cores\n",
      "IPU available: False, using: 0 IPUs\n",
      "HPU available: False, using: 0 HPUs\n",
      "LOCAL_RANK: 0 - CUDA_VISIBLE_DEVICES: [0,1,2,3]\n"
     ]
    },
    {
     "name": "stdout",
     "output_type": "stream",
     "text": [
      "Predicting DataLoader 0: 100%|██████████| 2/2 [00:00<00:00, 20.14it/s]\n"
     ]
    },
    {
     "name": "stderr",
     "output_type": "stream",
     "text": [
      "GPU available: True (cuda), used: True\n",
      "TPU available: False, using: 0 TPU cores\n",
      "IPU available: False, using: 0 IPUs\n",
      "HPU available: False, using: 0 HPUs\n",
      "LOCAL_RANK: 0 - CUDA_VISIBLE_DEVICES: [0,1,2,3]\n"
     ]
    },
    {
     "name": "stdout",
     "output_type": "stream",
     "text": [
      "Predicting DataLoader 0: 100%|██████████| 2/2 [00:00<00:00, 18.98it/s]\n"
     ]
    },
    {
     "name": "stderr",
     "output_type": "stream",
     "text": [
      "GPU available: True (cuda), used: True\n",
      "TPU available: False, using: 0 TPU cores\n",
      "IPU available: False, using: 0 IPUs\n",
      "HPU available: False, using: 0 HPUs\n",
      "LOCAL_RANK: 0 - CUDA_VISIBLE_DEVICES: [0,1,2,3]\n"
     ]
    },
    {
     "name": "stdout",
     "output_type": "stream",
     "text": [
      "Predicting DataLoader 0: 100%|██████████| 2/2 [00:00<00:00, 20.78it/s]\n"
     ]
    },
    {
     "name": "stderr",
     "output_type": "stream",
     "text": [
      "GPU available: True (cuda), used: True\n",
      "TPU available: False, using: 0 TPU cores\n",
      "IPU available: False, using: 0 IPUs\n",
      "HPU available: False, using: 0 HPUs\n",
      "LOCAL_RANK: 0 - CUDA_VISIBLE_DEVICES: [0,1,2,3]\n"
     ]
    },
    {
     "name": "stdout",
     "output_type": "stream",
     "text": [
      "Predicting DataLoader 0: 100%|██████████| 2/2 [00:00<00:00, 16.87it/s]\n"
     ]
    },
    {
     "name": "stderr",
     "output_type": "stream",
     "text": [
      "GPU available: True (cuda), used: True\n",
      "TPU available: False, using: 0 TPU cores\n",
      "IPU available: False, using: 0 IPUs\n",
      "HPU available: False, using: 0 HPUs\n",
      "LOCAL_RANK: 0 - CUDA_VISIBLE_DEVICES: [0,1,2,3]\n"
     ]
    },
    {
     "name": "stdout",
     "output_type": "stream",
     "text": [
      "Predicting DataLoader 0: 100%|██████████| 2/2 [00:00<00:00, 16.80it/s]\n",
      "{'0.7': [tensor(0.1830), tensor(0.2075), tensor(0.2013)], '0.8': [tensor(0.1549), tensor(0.1711), tensor(0.1585)], '0.9': [tensor(0.0903), tensor(0.1008), tensor(0.1036)], '1.0': [tensor(1.4283e-07), tensor(1.5542e-07), tensor(2.3845e-06)]}\n",
      "{'0.7': '$0.197 \\\\pm 0.010$', '0.8': '$0.161 \\\\pm 0.007$', '0.9': '$0.098 \\\\pm 0.006$', '1.0': '$0.000 \\\\pm 0.000$'}\n"
     ]
    }
   ],
   "source": [
    "sweep_id = \"yrex8yy3\"\n",
    "multivariate = None\n",
    "regression_mode = True\n",
    "api= wandb.Api()\n",
    "sweep = api.sweep(\"edebrouwer/orthopoly/\"+sweep_id)\n",
    "runs = sweep.runs\n",
    "\n",
    "model_cls = HIPPO\n",
    "\n",
    "#irregular_rates = [0.3, 0.4, 0.5]\n",
    "irregular_rates= [0.7,0.8,0.9,1.0]\n",
    "seed = 421\n",
    "acc_dict = {}\n",
    "\n",
    "def data_cls_choice(data_type):\n",
    "    if data_type == \"SimpleTraj\":\n",
    "        data_cls = SimpleTrajDataModule(**model.hparams)\n",
    "    elif data_type == \"pMNIST\":\n",
    "        data_cls = pMNISTDataModule(**model.hparams)\n",
    "    elif data_type == \"Character\":\n",
    "        data_cls = CharacterTrajDataModule(**model.hparams)\n",
    "    elif data_type == \"Lorenz\":\n",
    "        data_cls = LorenzDataModule(**model.hparams)\n",
    "    elif data_type == \"MIMIC\":\n",
    "        data_cls = MIMICDataModule(**model.hparams)\n",
    "    return data_cls\n",
    "\n",
    "for irregular_rate in irregular_rates:\n",
    "    \n",
    "    accs_ = []\n",
    "    run_sub = [r for r in runs if (r.config[\"irregular_rate\"]==irregular_rate) and (r.config.get(\"multivariate\",None)==multivariate) and (r.config.get(\"regression_mode\",False)==regression_mode)]\n",
    "\n",
    "    for run in run_sub:\n",
    "        fname = [f.name for f in run.files() if \"ckpt\" in f.name][0]\n",
    "        run.file(fname).download(replace = True, root = \".\")\n",
    "        checkpoint = torch.load(fname, map_location=lambda storage, loc: storage)\n",
    "        hparams = checkpoint[\"hyper_parameters\"]\n",
    "        model = model_cls.load_from_checkpoint(fname,num_dims = hparams.get(\"num_dims\",1))\n",
    "        os.remove(fname)\n",
    "        dataset = data_cls_choice(model.hparams.data_type)\n",
    "        dataset.prepare_data()\n",
    "        \n",
    "        trainer = pl.Trainer(gpus=1)\n",
    "        outputs = trainer.predict(model,dataset.test_dataloader())\n",
    "\n",
    "        preds = torch.cat([x[\"preds\"] for x in outputs])\n",
    "        Y = torch.cat([x[\"Y\"] for x in outputs])\n",
    "        T = torch.cat([x[\"T\"] for x in outputs])\n",
    "        labels = torch.cat([x[\"labels\"] for x in outputs])\n",
    "        \n",
    "        if checkpoint[\"hyper_parameters\"].get(\"regression_mode\",False):\n",
    "            accuracy = torch.nn.MSELoss()(preds,labels)\n",
    "        else:\n",
    "            if len(preds.shape)>1:\n",
    "                preds = torch.nn.functional.softmax(preds, dim=-1).argmax(-1)\n",
    "                accuracy = accuracy_score(labels.long().cpu().numpy(), preds.cpu().numpy())\n",
    "            else:\n",
    "                accuracy = roc_auc_score(labels.long().cpu().numpy(),preds.cpu().numpy())\n",
    "        #print(accuracy)\n",
    "        \n",
    "        accs_.append(accuracy)\n",
    "    \n",
    "    acc_dict[f\"{irregular_rate}\"]=accs_\n",
    "print(acc_dict)\n",
    "print(process_dict(acc_dict))"
   ]
  },
  {
   "cell_type": "markdown",
   "id": "fc2e373d",
   "metadata": {},
   "source": [
    "## Hippo-RNN"
   ]
  },
  {
   "cell_type": "code",
   "execution_count": 10,
   "id": "0035796c",
   "metadata": {},
   "outputs": [
    {
     "name": "stderr",
     "output_type": "stream",
     "text": [
      "Exception ignored in: <function _MultiProcessingDataLoaderIter.__del__ at 0x7f211e253550>\n",
      "Traceback (most recent call last):\n",
      "  File \"/voyager/projects/edebrouwer/.conda/envs/orthopoly/lib/python3.9/site-packages/torch/utils/data/dataloader.py\", line 1481, in __del__\n",
      "  File \"/voyager/projects/edebrouwer/.conda/envs/orthopoly/lib/python3.9/site-packages/torch/utils/data/dataloader.py\", line 1412, in _shutdown_workers\n",
      "AttributeError: '_MultiProcessingDataLoaderIter' object has no attribute '_shutdown'\n",
      "Exception ignored in: <function _MultiProcessingDataLoaderIter.__del__ at 0x7f211e253550>\n",
      "Traceback (most recent call last):\n",
      "  File \"/voyager/projects/edebrouwer/.conda/envs/orthopoly/lib/python3.9/site-packages/torch/utils/data/dataloader.py\", line 1481, in __del__\n",
      "  File \"/voyager/projects/edebrouwer/.conda/envs/orthopoly/lib/python3.9/site-packages/torch/utils/data/dataloader.py\", line 1412, in _shutdown_workers\n",
      "AttributeError: '_MultiProcessingDataLoaderIter' object has no attribute '_shutdown'\n",
      "Exception ignored in: <function _MultiProcessingDataLoaderIter.__del__ at 0x7f211e253550>\n",
      "Traceback (most recent call last):\n",
      "  File \"/voyager/projects/edebrouwer/.conda/envs/orthopoly/lib/python3.9/site-packages/torch/utils/data/dataloader.py\", line 1481, in __del__\n",
      "    self._shutdown_workers()\n",
      "  File \"/voyager/projects/edebrouwer/.conda/envs/orthopoly/lib/python3.9/site-packages/torch/utils/data/dataloader.py\", line 1412, in _shutdown_workers\n",
      "    if not self._shutdown:\n",
      "AttributeError: '_MultiProcessingDataLoaderIter' object has no attribute '_shutdown'\n",
      "Exception ignored in: <function _MultiProcessingDataLoaderIter.__del__ at 0x7f211e253550>\n",
      "Traceback (most recent call last):\n",
      "  File \"/voyager/projects/edebrouwer/.conda/envs/orthopoly/lib/python3.9/site-packages/torch/utils/data/dataloader.py\", line 1481, in __del__\n",
      "    self._shutdown_workers()\n",
      "  File \"/voyager/projects/edebrouwer/.conda/envs/orthopoly/lib/python3.9/site-packages/torch/utils/data/dataloader.py\", line 1412, in _shutdown_workers\n",
      "    if not self._shutdown:\n",
      "AttributeError: '_MultiProcessingDataLoaderIter' object has no attribute '_shutdown'\n",
      "Exception ignored in: <function _MultiProcessingDataLoaderIter.__del__ at 0x7f211e253550>\n",
      "Traceback (most recent call last):\n",
      "  File \"/voyager/projects/edebrouwer/.conda/envs/orthopoly/lib/python3.9/site-packages/torch/utils/data/dataloader.py\", line 1481, in __del__\n",
      "    self._shutdown_workers()\n",
      "  File \"/voyager/projects/edebrouwer/.conda/envs/orthopoly/lib/python3.9/site-packages/torch/utils/data/dataloader.py\", line 1412, in _shutdown_workers\n",
      "    if not self._shutdown:\n",
      "AttributeError: '_MultiProcessingDataLoaderIter' object has no attribute '_shutdown'\n",
      "Exception ignored in: <function _MultiProcessingDataLoaderIter.__del__ at 0x7f211e253550>\n",
      "Traceback (most recent call last):\n",
      "  File \"/voyager/projects/edebrouwer/.conda/envs/orthopoly/lib/python3.9/site-packages/torch/utils/data/dataloader.py\", line 1481, in __del__\n",
      "    self._shutdown_workers()\n",
      "  File \"/voyager/projects/edebrouwer/.conda/envs/orthopoly/lib/python3.9/site-packages/torch/utils/data/dataloader.py\", line 1412, in _shutdown_workers\n",
      "    if not self._shutdown:\n",
      "AttributeError: '_MultiProcessingDataLoaderIter' object has no attribute '_shutdown'\n",
      "Exception ignored in: <function _MultiProcessingDataLoaderIter.__del__ at 0x7f211e253550>\n",
      "Traceback (most recent call last):\n",
      "  File \"/voyager/projects/edebrouwer/.conda/envs/orthopoly/lib/python3.9/site-packages/torch/utils/data/dataloader.py\", line 1481, in __del__\n",
      "    self._shutdown_workers()\n",
      "  File \"/voyager/projects/edebrouwer/.conda/envs/orthopoly/lib/python3.9/site-packages/torch/utils/data/dataloader.py\", line 1412, in _shutdown_workers\n",
      "    if not self._shutdown:\n",
      "AttributeError: '_MultiProcessingDataLoaderIter' object has no attribute '_shutdown'\n",
      "Exception ignored in: <function _MultiProcessingDataLoaderIter.__del__ at 0x7f211e253550>\n",
      "Traceback (most recent call last):\n",
      "  File \"/voyager/projects/edebrouwer/.conda/envs/orthopoly/lib/python3.9/site-packages/torch/utils/data/dataloader.py\", line 1481, in __del__\n",
      "    self._shutdown_workers()\n",
      "  File \"/voyager/projects/edebrouwer/.conda/envs/orthopoly/lib/python3.9/site-packages/torch/utils/data/dataloader.py\", line 1412, in _shutdown_workers\n",
      "    if not self._shutdown:\n",
      "AttributeError: '_MultiProcessingDataLoaderIter' object has no attribute '_shutdown'\n",
      "Exception ignored in: <function _MultiProcessingDataLoaderIter.__del__ at 0x7f211e253550>\n",
      "Traceback (most recent call last):\n",
      "  File \"/voyager/projects/edebrouwer/.conda/envs/orthopoly/lib/python3.9/site-packages/torch/utils/data/dataloader.py\", line 1481, in __del__\n",
      "    self._shutdown_workers()\n",
      "  File \"/voyager/projects/edebrouwer/.conda/envs/orthopoly/lib/python3.9/site-packages/torch/utils/data/dataloader.py\", line 1412, in _shutdown_workers\n",
      "    if not self._shutdown:\n",
      "AttributeError: '_MultiProcessingDataLoaderIter' object has no attribute '_shutdown'\n",
      "Exception ignored in: <function _MultiProcessingDataLoaderIter.__del__ at 0x7f211e253550>\n",
      "Traceback (most recent call last):\n",
      "  File \"/voyager/projects/edebrouwer/.conda/envs/orthopoly/lib/python3.9/site-packages/torch/utils/data/dataloader.py\", line 1481, in __del__\n",
      "    self._shutdown_workers()\n",
      "  File \"/voyager/projects/edebrouwer/.conda/envs/orthopoly/lib/python3.9/site-packages/torch/utils/data/dataloader.py\", line 1412, in _shutdown_workers\n",
      "    if not self._shutdown:\n",
      "AttributeError: '_MultiProcessingDataLoaderIter' object has no attribute '_shutdown'\n",
      "/voyager/projects/edebrouwer/.conda/envs/orthopoly/lib/python3.9/site-packages/pytorch_lightning/utilities/parsing.py:261: UserWarning: Attribute 'init_model' is an instance of `nn.Module` and is already saved during checkpointing. It is recommended to ignore them using `self.save_hyperparameters(ignore=['init_model'])`.\n",
      "  rank_zero_warn(\n"
     ]
    },
    {
     "name": "stdout",
     "output_type": "stream",
     "text": [
      "Pre-computing ODE Projection embeddings....\n"
     ]
    },
    {
     "name": "stderr",
     "output_type": "stream",
     "text": [
      "100%|██████████| 20/20 [00:00<00:00, 84.01it/s]\n",
      "/voyager/projects/edebrouwer/.conda/envs/orthopoly/lib/python3.9/site-packages/pytorch_lightning/trainer/connectors/accelerator_connector.py:445: LightningDeprecationWarning: Setting `Trainer(gpus=1)` is deprecated in v1.7 and will be removed in v2.0. Please use `Trainer(accelerator='gpu', devices=1)` instead.\n",
      "  rank_zero_deprecation(\n",
      "/voyager/projects/edebrouwer/.conda/envs/orthopoly/lib/python3.9/site-packages/pytorch_lightning/loops/utilities.py:93: PossibleUserWarning: `max_epochs` was not set. Setting it to 1000 epochs. To train without an epoch limit, set `max_epochs=-1`.\n",
      "  rank_zero_warn(\n",
      "GPU available: True (cuda), used: True\n",
      "TPU available: False, using: 0 TPU cores\n",
      "IPU available: False, using: 0 IPUs\n",
      "HPU available: False, using: 0 HPUs\n",
      "LOCAL_RANK: 0 - CUDA_VISIBLE_DEVICES: [0,1,2,3]\n"
     ]
    },
    {
     "name": "stdout",
     "output_type": "stream",
     "text": [
      "Predicting DataLoader 0: 100%|██████████| 2/2 [00:00<00:00, 21.65it/s] \n",
      "Pre-computing ODE Projection embeddings....\n"
     ]
    },
    {
     "name": "stderr",
     "output_type": "stream",
     "text": [
      "100%|██████████| 20/20 [00:00<00:00, 87.65it/s]\n",
      "GPU available: True (cuda), used: True\n",
      "TPU available: False, using: 0 TPU cores\n",
      "IPU available: False, using: 0 IPUs\n",
      "HPU available: False, using: 0 HPUs\n",
      "LOCAL_RANK: 0 - CUDA_VISIBLE_DEVICES: [0,1,2,3]\n"
     ]
    },
    {
     "name": "stdout",
     "output_type": "stream",
     "text": [
      "Predicting DataLoader 0: 100%|██████████| 2/2 [00:00<00:00, 22.95it/s] \n"
     ]
    },
    {
     "name": "stderr",
     "output_type": "stream",
     "text": [
      "Exception ignored in: <function _MultiProcessingDataLoaderIter.__del__ at 0x7f211e253550>\n",
      "Traceback (most recent call last):\n",
      "  File \"/voyager/projects/edebrouwer/.conda/envs/orthopoly/lib/python3.9/site-packages/torch/utils/data/dataloader.py\", line 1481, in __del__\n",
      "    self._shutdown_workers()\n",
      "  File \"/voyager/projects/edebrouwer/.conda/envs/orthopoly/lib/python3.9/site-packages/torch/utils/data/dataloader.py\", line 1412, in _shutdown_workers\n",
      "    if not self._shutdown:\n",
      "AttributeError: '_MultiProcessingDataLoaderIter' object has no attribute '_shutdown'\n",
      "Exception ignored in: <function _MultiProcessingDataLoaderIter.__del__ at 0x7f211e253550>\n",
      "Traceback (most recent call last):\n",
      "  File \"/voyager/projects/edebrouwer/.conda/envs/orthopoly/lib/python3.9/site-packages/torch/utils/data/dataloader.py\", line 1481, in __del__\n",
      "    self._shutdown_workers()\n",
      "  File \"/voyager/projects/edebrouwer/.conda/envs/orthopoly/lib/python3.9/site-packages/torch/utils/data/dataloader.py\", line 1412, in _shutdown_workers\n",
      "    if not self._shutdown:\n",
      "AttributeError: '_MultiProcessingDataLoaderIter' object has no attribute '_shutdown'\n"
     ]
    },
    {
     "name": "stdout",
     "output_type": "stream",
     "text": [
      "Pre-computing ODE Projection embeddings....\n"
     ]
    },
    {
     "name": "stderr",
     "output_type": "stream",
     "text": [
      "100%|██████████| 20/20 [00:00<00:00, 89.93it/s]\n",
      "GPU available: True (cuda), used: True\n",
      "TPU available: False, using: 0 TPU cores\n",
      "IPU available: False, using: 0 IPUs\n",
      "HPU available: False, using: 0 HPUs\n",
      "LOCAL_RANK: 0 - CUDA_VISIBLE_DEVICES: [0,1,2,3]\n"
     ]
    },
    {
     "name": "stdout",
     "output_type": "stream",
     "text": [
      "Predicting DataLoader 0: 100%|██████████| 2/2 [00:00<00:00, 22.99it/s] \n"
     ]
    },
    {
     "name": "stderr",
     "output_type": "stream",
     "text": [
      "Exception ignored in: <function _MultiProcessingDataLoaderIter.__del__ at 0x7f211e253550>\n",
      "Traceback (most recent call last):\n",
      "  File \"/voyager/projects/edebrouwer/.conda/envs/orthopoly/lib/python3.9/site-packages/torch/utils/data/dataloader.py\", line 1481, in __del__\n",
      "    self._shutdown_workers()\n",
      "  File \"/voyager/projects/edebrouwer/.conda/envs/orthopoly/lib/python3.9/site-packages/torch/utils/data/dataloader.py\", line 1412, in _shutdown_workers\n",
      "    if not self._shutdown:\n",
      "AttributeError: '_MultiProcessingDataLoaderIter' object has no attribute '_shutdown'\n",
      "Exception ignored in: <function _MultiProcessingDataLoaderIter.__del__ at 0x7f211e253550>\n",
      "Traceback (most recent call last):\n",
      "  File \"/voyager/projects/edebrouwer/.conda/envs/orthopoly/lib/python3.9/site-packages/torch/utils/data/dataloader.py\", line 1481, in __del__\n",
      "    self._shutdown_workers()\n",
      "  File \"/voyager/projects/edebrouwer/.conda/envs/orthopoly/lib/python3.9/site-packages/torch/utils/data/dataloader.py\", line 1412, in _shutdown_workers\n",
      "    if not self._shutdown:\n",
      "AttributeError: '_MultiProcessingDataLoaderIter' object has no attribute '_shutdown'\n"
     ]
    },
    {
     "name": "stdout",
     "output_type": "stream",
     "text": [
      "Pre-computing ODE Projection embeddings....\n"
     ]
    },
    {
     "name": "stderr",
     "output_type": "stream",
     "text": [
      "100%|██████████| 20/20 [00:00<00:00, 84.81it/s]\n",
      "GPU available: True (cuda), used: True\n",
      "TPU available: False, using: 0 TPU cores\n",
      "IPU available: False, using: 0 IPUs\n",
      "HPU available: False, using: 0 HPUs\n",
      "LOCAL_RANK: 0 - CUDA_VISIBLE_DEVICES: [0,1,2,3]\n"
     ]
    },
    {
     "name": "stdout",
     "output_type": "stream",
     "text": [
      "Predicting DataLoader 0: 100%|██████████| 2/2 [00:00<00:00, 20.77it/s] \n",
      "Pre-computing ODE Projection embeddings....\n"
     ]
    },
    {
     "name": "stderr",
     "output_type": "stream",
     "text": [
      "100%|██████████| 20/20 [00:00<00:00, 83.65it/s]\n",
      "GPU available: True (cuda), used: True\n",
      "TPU available: False, using: 0 TPU cores\n",
      "IPU available: False, using: 0 IPUs\n",
      "HPU available: False, using: 0 HPUs\n",
      "LOCAL_RANK: 0 - CUDA_VISIBLE_DEVICES: [0,1,2,3]\n"
     ]
    },
    {
     "name": "stdout",
     "output_type": "stream",
     "text": [
      "Predicting DataLoader 0: 100%|██████████| 2/2 [00:00<00:00, 22.69it/s] \n"
     ]
    },
    {
     "name": "stderr",
     "output_type": "stream",
     "text": [
      "Exception ignored in: <function _MultiProcessingDataLoaderIter.__del__ at 0x7f211e253550>\n",
      "Traceback (most recent call last):\n",
      "  File \"/voyager/projects/edebrouwer/.conda/envs/orthopoly/lib/python3.9/site-packages/torch/utils/data/dataloader.py\", line 1481, in __del__\n",
      "    self._shutdown_workers()\n",
      "  File \"/voyager/projects/edebrouwer/.conda/envs/orthopoly/lib/python3.9/site-packages/torch/utils/data/dataloader.py\", line 1412, in _shutdown_workers\n",
      "    if not self._shutdown:\n",
      "AttributeError: '_MultiProcessingDataLoaderIter' object has no attribute '_shutdown'\n",
      "Exception ignored in: <function _MultiProcessingDataLoaderIter.__del__ at 0x7f211e253550>\n",
      "Traceback (most recent call last):\n",
      "  File \"/voyager/projects/edebrouwer/.conda/envs/orthopoly/lib/python3.9/site-packages/torch/utils/data/dataloader.py\", line 1481, in __del__\n",
      "    self._shutdown_workers()\n",
      "  File \"/voyager/projects/edebrouwer/.conda/envs/orthopoly/lib/python3.9/site-packages/torch/utils/data/dataloader.py\", line 1412, in _shutdown_workers\n",
      "    if not self._shutdown:\n",
      "AttributeError: '_MultiProcessingDataLoaderIter' object has no attribute '_shutdown'\n"
     ]
    },
    {
     "name": "stdout",
     "output_type": "stream",
     "text": [
      "Pre-computing ODE Projection embeddings....\n"
     ]
    },
    {
     "name": "stderr",
     "output_type": "stream",
     "text": [
      "100%|██████████| 20/20 [00:00<00:00, 92.55it/s]\n",
      "GPU available: True (cuda), used: True\n",
      "TPU available: False, using: 0 TPU cores\n",
      "IPU available: False, using: 0 IPUs\n",
      "HPU available: False, using: 0 HPUs\n",
      "LOCAL_RANK: 0 - CUDA_VISIBLE_DEVICES: [0,1,2,3]\n"
     ]
    },
    {
     "name": "stdout",
     "output_type": "stream",
     "text": [
      "Predicting DataLoader 0: 100%|██████████| 2/2 [00:00<00:00, 24.11it/s] \n",
      "Pre-computing ODE Projection embeddings....\n"
     ]
    },
    {
     "name": "stderr",
     "output_type": "stream",
     "text": [
      "100%|██████████| 20/20 [00:00<00:00, 88.94it/s]\n",
      "Exception ignored in: <function _MultiProcessingDataLoaderIter.__del__ at 0x7f211e253550>\n",
      "Traceback (most recent call last):\n",
      "  File \"/voyager/projects/edebrouwer/.conda/envs/orthopoly/lib/python3.9/site-packages/torch/utils/data/dataloader.py\", line 1481, in __del__\n",
      "    self._shutdown_workers()\n",
      "  File \"/voyager/projects/edebrouwer/.conda/envs/orthopoly/lib/python3.9/site-packages/torch/utils/data/dataloader.py\", line 1412, in _shutdown_workers\n",
      "    if not self._shutdown:\n",
      "AttributeError: '_MultiProcessingDataLoaderIter' object has no attribute '_shutdown'\n",
      "Exception ignored in: <function _MultiProcessingDataLoaderIter.__del__ at 0x7f211e253550>\n",
      "Traceback (most recent call last):\n",
      "  File \"/voyager/projects/edebrouwer/.conda/envs/orthopoly/lib/python3.9/site-packages/torch/utils/data/dataloader.py\", line 1481, in __del__\n",
      "    self._shutdown_workers()\n",
      "  File \"/voyager/projects/edebrouwer/.conda/envs/orthopoly/lib/python3.9/site-packages/torch/utils/data/dataloader.py\", line 1412, in _shutdown_workers\n",
      "    if not self._shutdown:\n",
      "AttributeError: '_MultiProcessingDataLoaderIter' object has no attribute '_shutdown'\n",
      "GPU available: True (cuda), used: True\n",
      "TPU available: False, using: 0 TPU cores\n",
      "IPU available: False, using: 0 IPUs\n",
      "HPU available: False, using: 0 HPUs\n",
      "LOCAL_RANK: 0 - CUDA_VISIBLE_DEVICES: [0,1,2,3]\n"
     ]
    },
    {
     "name": "stdout",
     "output_type": "stream",
     "text": [
      "Predicting DataLoader 0: 100%|██████████| 2/2 [00:00<00:00, 25.44it/s] \n",
      "Pre-computing ODE Projection embeddings....\n"
     ]
    },
    {
     "name": "stderr",
     "output_type": "stream",
     "text": [
      "100%|██████████| 20/20 [00:00<00:00, 94.73it/s]\n",
      "GPU available: True (cuda), used: True\n",
      "TPU available: False, using: 0 TPU cores\n",
      "IPU available: False, using: 0 IPUs\n",
      "HPU available: False, using: 0 HPUs\n",
      "LOCAL_RANK: 0 - CUDA_VISIBLE_DEVICES: [0,1,2,3]\n"
     ]
    },
    {
     "name": "stdout",
     "output_type": "stream",
     "text": [
      "Predicting DataLoader 0: 100%|██████████| 2/2 [00:00<00:00, 23.37it/s] \n"
     ]
    },
    {
     "name": "stderr",
     "output_type": "stream",
     "text": [
      "Exception ignored in: <function _MultiProcessingDataLoaderIter.__del__ at 0x7f211e253550>\n",
      "Traceback (most recent call last):\n",
      "  File \"/voyager/projects/edebrouwer/.conda/envs/orthopoly/lib/python3.9/site-packages/torch/utils/data/dataloader.py\", line 1481, in __del__\n",
      "    self._shutdown_workers()\n",
      "  File \"/voyager/projects/edebrouwer/.conda/envs/orthopoly/lib/python3.9/site-packages/torch/utils/data/dataloader.py\", line 1412, in _shutdown_workers\n",
      "    if not self._shutdown:\n",
      "AttributeError: '_MultiProcessingDataLoaderIter' object has no attribute '_shutdown'\n",
      "Exception ignored in: <function _MultiProcessingDataLoaderIter.__del__ at 0x7f211e253550>\n",
      "Traceback (most recent call last):\n",
      "  File \"/voyager/projects/edebrouwer/.conda/envs/orthopoly/lib/python3.9/site-packages/torch/utils/data/dataloader.py\", line 1481, in __del__\n",
      "    self._shutdown_workers()\n",
      "  File \"/voyager/projects/edebrouwer/.conda/envs/orthopoly/lib/python3.9/site-packages/torch/utils/data/dataloader.py\", line 1412, in _shutdown_workers\n",
      "    if not self._shutdown:\n",
      "AttributeError: '_MultiProcessingDataLoaderIter' object has no attribute '_shutdown'\n",
      "Exception ignored in: <function _MultiProcessingDataLoaderIter.__del__ at 0x7f211e253550>\n",
      "Traceback (most recent call last):\n",
      "  File \"/voyager/projects/edebrouwer/.conda/envs/orthopoly/lib/python3.9/site-packages/torch/utils/data/dataloader.py\", line 1481, in __del__\n",
      "    self._shutdown_workers()\n",
      "  File \"/voyager/projects/edebrouwer/.conda/envs/orthopoly/lib/python3.9/site-packages/torch/utils/data/dataloader.py\", line 1412, in _shutdown_workers\n",
      "    if not self._shutdown:\n",
      "AttributeError: '_MultiProcessingDataLoaderIter' object has no attribute '_shutdown'\n",
      "Exception ignored in: <function _MultiProcessingDataLoaderIter.__del__ at 0x7f211e253550>\n",
      "Traceback (most recent call last):\n",
      "  File \"/voyager/projects/edebrouwer/.conda/envs/orthopoly/lib/python3.9/site-packages/torch/utils/data/dataloader.py\", line 1481, in __del__\n",
      "    self._shutdown_workers()\n",
      "  File \"/voyager/projects/edebrouwer/.conda/envs/orthopoly/lib/python3.9/site-packages/torch/utils/data/dataloader.py\", line 1412, in _shutdown_workers\n",
      "    if not self._shutdown:\n",
      "AttributeError: '_MultiProcessingDataLoaderIter' object has no attribute '_shutdown'\n"
     ]
    },
    {
     "name": "stdout",
     "output_type": "stream",
     "text": [
      "Pre-computing ODE Projection embeddings....\n"
     ]
    },
    {
     "name": "stderr",
     "output_type": "stream",
     "text": [
      "100%|██████████| 20/20 [00:00<00:00, 87.30it/s]\n",
      "GPU available: True (cuda), used: True\n",
      "TPU available: False, using: 0 TPU cores\n",
      "IPU available: False, using: 0 IPUs\n",
      "HPU available: False, using: 0 HPUs\n",
      "LOCAL_RANK: 0 - CUDA_VISIBLE_DEVICES: [0,1,2,3]\n"
     ]
    },
    {
     "name": "stdout",
     "output_type": "stream",
     "text": [
      "Predicting DataLoader 0: 100%|██████████| 2/2 [00:00<00:00, 24.35it/s] \n",
      "Pre-computing ODE Projection embeddings....\n"
     ]
    },
    {
     "name": "stderr",
     "output_type": "stream",
     "text": [
      "100%|██████████| 20/20 [00:00<00:00, 86.69it/s]\n",
      "GPU available: True (cuda), used: True\n",
      "TPU available: False, using: 0 TPU cores\n",
      "IPU available: False, using: 0 IPUs\n",
      "HPU available: False, using: 0 HPUs\n",
      "LOCAL_RANK: 0 - CUDA_VISIBLE_DEVICES: [0,1,2,3]\n"
     ]
    },
    {
     "name": "stdout",
     "output_type": "stream",
     "text": [
      "Predicting DataLoader 0: 100%|██████████| 2/2 [00:00<00:00, 25.98it/s] \n"
     ]
    },
    {
     "name": "stderr",
     "output_type": "stream",
     "text": [
      "Exception ignored in: <function _MultiProcessingDataLoaderIter.__del__ at 0x7f211e253550>\n",
      "Traceback (most recent call last):\n",
      "  File \"/voyager/projects/edebrouwer/.conda/envs/orthopoly/lib/python3.9/site-packages/torch/utils/data/dataloader.py\", line 1481, in __del__\n",
      "    self._shutdown_workers()\n",
      "  File \"/voyager/projects/edebrouwer/.conda/envs/orthopoly/lib/python3.9/site-packages/torch/utils/data/dataloader.py\", line 1412, in _shutdown_workers\n",
      "    if not self._shutdown:\n",
      "AttributeError: '_MultiProcessingDataLoaderIter' object has no attribute '_shutdown'\n",
      "Exception ignored in: <function _MultiProcessingDataLoaderIter.__del__ at 0x7f211e253550>\n",
      "Traceback (most recent call last):\n",
      "  File \"/voyager/projects/edebrouwer/.conda/envs/orthopoly/lib/python3.9/site-packages/torch/utils/data/dataloader.py\", line 1481, in __del__\n",
      "    self._shutdown_workers()\n",
      "  File \"/voyager/projects/edebrouwer/.conda/envs/orthopoly/lib/python3.9/site-packages/torch/utils/data/dataloader.py\", line 1412, in _shutdown_workers\n",
      "    if not self._shutdown:\n",
      "AttributeError: '_MultiProcessingDataLoaderIter' object has no attribute '_shutdown'\n",
      "Exception ignored in: <function _MultiProcessingDataLoaderIter.__del__ at 0x7f211e253550>\n",
      "Traceback (most recent call last):\n",
      "  File \"/voyager/projects/edebrouwer/.conda/envs/orthopoly/lib/python3.9/site-packages/torch/utils/data/dataloader.py\", line 1481, in __del__\n",
      "    self._shutdown_workers()\n",
      "  File \"/voyager/projects/edebrouwer/.conda/envs/orthopoly/lib/python3.9/site-packages/torch/utils/data/dataloader.py\", line 1412, in _shutdown_workers\n",
      "    if not self._shutdown:\n",
      "AttributeError: '_MultiProcessingDataLoaderIter' object has no attribute '_shutdown'\n",
      "Exception ignored in: <function _MultiProcessingDataLoaderIter.__del__ at 0x7f211e253550>\n",
      "Traceback (most recent call last):\n",
      "  File \"/voyager/projects/edebrouwer/.conda/envs/orthopoly/lib/python3.9/site-packages/torch/utils/data/dataloader.py\", line 1481, in __del__\n",
      "    self._shutdown_workers()\n",
      "  File \"/voyager/projects/edebrouwer/.conda/envs/orthopoly/lib/python3.9/site-packages/torch/utils/data/dataloader.py\", line 1412, in _shutdown_workers\n",
      "    if not self._shutdown:\n",
      "AttributeError: '_MultiProcessingDataLoaderIter' object has no attribute '_shutdown'\n"
     ]
    },
    {
     "name": "stdout",
     "output_type": "stream",
     "text": [
      "Pre-computing ODE Projection embeddings....\n"
     ]
    },
    {
     "name": "stderr",
     "output_type": "stream",
     "text": [
      "100%|██████████| 20/20 [00:00<00:00, 85.47it/s]\n",
      "GPU available: True (cuda), used: True\n",
      "TPU available: False, using: 0 TPU cores\n",
      "IPU available: False, using: 0 IPUs\n",
      "HPU available: False, using: 0 HPUs\n",
      "LOCAL_RANK: 0 - CUDA_VISIBLE_DEVICES: [0,1,2,3]\n"
     ]
    },
    {
     "name": "stdout",
     "output_type": "stream",
     "text": [
      "Predicting DataLoader 0: 100%|██████████| 2/2 [00:00<00:00, 21.92it/s] \n",
      "Pre-computing ODE Projection embeddings....\n"
     ]
    },
    {
     "name": "stderr",
     "output_type": "stream",
     "text": [
      "100%|██████████| 20/20 [00:00<00:00, 82.61it/s]\n",
      "GPU available: True (cuda), used: True\n",
      "TPU available: False, using: 0 TPU cores\n",
      "IPU available: False, using: 0 IPUs\n",
      "HPU available: False, using: 0 HPUs\n",
      "LOCAL_RANK: 0 - CUDA_VISIBLE_DEVICES: [0,1,2,3]\n"
     ]
    },
    {
     "name": "stdout",
     "output_type": "stream",
     "text": [
      "Predicting DataLoader 0: 100%|██████████| 2/2 [00:00<00:00, 19.33it/s] \n",
      "{'0.7': [tensor(0.2334), tensor(0.1934), tensor(0.1995)], '0.8': [tensor(0.1677), tensor(0.1418), tensor(0.1864)], '0.9': [tensor(0.0580), tensor(0.0970), tensor(0.1154)], '1.0': [tensor(0.0002), tensor(7.3203e-05), tensor(4.9701e-06)]}\n",
      "{'0.7': '$0.209 \\\\pm 0.018$', '0.8': '$0.165 \\\\pm 0.018$', '0.9': '$0.090 \\\\pm 0.024$', '1.0': '$0.000 \\\\pm 0.000$'}\n"
     ]
    }
   ],
   "source": [
    "sweep_id = \"4xatx2ex\"\n",
    "device = torch.device(\"cuda\")\n",
    "multivariate = None\n",
    "regression_mode = True\n",
    "api= wandb.Api()\n",
    "sweep = api.sweep(\"edebrouwer/orthopoly/\"+sweep_id)\n",
    "#init_sweep_id = \"edebrouwer/orthopoly/t77q79lw\"\n",
    "runs = sweep.runs\n",
    "\n",
    "model_cls = HippoClassification\n",
    "init_model_cls = HIPPO\n",
    "#irregular_rates= [1.0]\n",
    "#irregular_rates = [0.3, 0.4, 0.5]#, 0.9, 1.0]\n",
    "irregular_rates = [0.7, 0.8, 0.9, 1.0]#, 0.9, 1.0]\n",
    "seed = 421\n",
    "acc_dict = {}\n",
    "\n",
    "def data_cls_choice(data_type, init_model):\n",
    "    if data_type == \"SimpleTraj\":\n",
    "        data_cls = SimpleTrajDataModule(**init_model.hparams)\n",
    "    elif data_type == \"pMNIST\":\n",
    "        data_cls = pMNISTDataModule(**init_model.hparams)\n",
    "    elif data_type == \"Character\":\n",
    "        data_cls = CharacterTrajDataModule(**init_model.hparams)\n",
    "    elif data_type == \"MIMIC\":\n",
    "        data_cls = MIMICDataModule(**init_model.hparams)\n",
    "    elif data_type == \"Lorenz\":\n",
    "        data_cls = LorenzDataModule(**init_model.hparams)\n",
    "    return data_cls\n",
    "\n",
    "for irregular_rate in irregular_rates:\n",
    "    \n",
    "    accs_ = []\n",
    "    run_sub = [r for r in runs if (r.config[\"irregular_rate\"]==irregular_rate) and (r.config.get(\"multivariate\",None)==multivariate) and (r.config.get(\"regression_mode\",False)==regression_mode)]\n",
    "\n",
    "    for run in run_sub:\n",
    "        fname = [f.name for f in run.files() if \"ckpt\" in f.name][0]\n",
    "        run.file(fname).download(replace = True, root = \".\")\n",
    "         \n",
    "        checkpoint = torch.load(\n",
    "        fname, map_location=lambda storage, loc: storage)\n",
    "        checkpoint[\"hyper_parameters\"].pop(\"callbacks\", None)\n",
    "        checkpoint[\"hyper_parameters\"].pop(\"logger\", None)\n",
    "        checkpoint[\"hyper_parameters\"].pop(\"wandb_id_file_path\", None)\n",
    "        checkpoint.pop(\"callbacks\",None)\n",
    "        checkpoint_ = {\"state_dict\":checkpoint[\"state_dict\"],\"hyper_parameters\":checkpoint[\"hyper_parameters\"]}\n",
    "        checkpoint_[\"hyper_parameters\"].pop(\"init_model\",None)\n",
    "        \n",
    "        #input_dim = checkpoint[\"hyper_parameters\"].pop(\"input_dim\",None)\n",
    "        #if input_dim is None:\n",
    "        #    init_model = NODExt( **checkpoint[\"hyper_parameters\"],output_dim = checkpoint[\"hyper_parameters\"][\"num_dims\"])\n",
    "        #else:\n",
    "        #    init_model = NODExt(output_dim = input_dim, **checkpoint[\"hyper_parameters\"])\n",
    "        \n",
    "        init_model = get_init_model(checkpoint[\"hyper_parameters\"][\"init_sweep_id\"],init_model_cls,checkpoint[\"hyper_parameters\"][\"irregular_rate\"],checkpoint[\"hyper_parameters\"][\"seed\"],checkpoint[\"hyper_parameters\"].get(\"multivariate\", False))\n",
    "        \n",
    "        model = _load_state(model_cls, checkpoint_,init_model = init_model).to(device)\n",
    "               \n",
    "        #model = model_cls.load_from_checkpoint(fname)\n",
    "        os.remove(fname)\n",
    "        \n",
    "        dataset = data_cls_choice(model.hparams.data_type, init_model = model)\n",
    "        #dataset.pre_compute_ode = False\n",
    "        dataset.set_test_only()\n",
    "        dataset.prepare_data()\n",
    "    \n",
    "        trainer = pl.Trainer(gpus=1,logger = None)\n",
    "        \n",
    "        outputs = trainer.predict(model,dataset.test_dataloader())\n",
    "\n",
    "        preds = torch.cat([x[\"preds\"] for x in outputs])\n",
    "        Y = torch.cat([x[\"Y\"] for x in outputs])\n",
    "        T = torch.cat([x[\"T\"] for x in outputs])\n",
    "        labels = torch.cat([x[\"labels\"] for x in outputs])\n",
    "        \n",
    "        if checkpoint[\"hyper_parameters\"].get(\"regression_mode\",False):\n",
    "            accuracy = torch.nn.MSELoss()(preds,labels)\n",
    "        else:\n",
    "            if len(preds.shape)>1:\n",
    "                preds = torch.nn.functional.softmax(preds, dim=-1).argmax(-1)\n",
    "                accuracy = accuracy_score(labels.long().cpu().numpy(), preds.cpu().numpy())\n",
    "            else:\n",
    "                accuracy = roc_auc_score(labels.long().cpu().numpy(),preds.cpu().numpy())\n",
    "        #print(accuracy)\n",
    "        \n",
    "        accs_.append(accuracy)\n",
    "    \n",
    "    acc_dict[f\"{irregular_rate}\"]=accs_\n",
    "print(acc_dict)\n",
    "print(process_dict(acc_dict))"
   ]
  },
  {
   "cell_type": "markdown",
   "id": "e2573f8b",
   "metadata": {},
   "source": [
    "## NODExt"
   ]
  },
  {
   "cell_type": "code",
   "execution_count": 3,
   "id": "bf63bcf2",
   "metadata": {},
   "outputs": [
    {
     "name": "stderr",
     "output_type": "stream",
     "text": [
      "Exception ignored in: <function _MultiProcessingDataLoaderIter.__del__ at 0x7efc56285c10>\n",
      "Traceback (most recent call last):\n",
      "  File \"/voyager/projects/edebrouwer/.conda/envs/orthopoly/lib/python3.9/site-packages/torch/utils/data/dataloader.py\", line 1481, in __del__\n",
      "    self._shutdown_workers()\n",
      "  File \"/voyager/projects/edebrouwer/.conda/envs/orthopoly/lib/python3.9/site-packages/torch/utils/data/dataloader.py\", line 1412, in _shutdown_workers\n",
      "    if not self._shutdown:\n",
      "AttributeError: '_MultiProcessingDataLoaderIter' object has no attribute '_shutdown'\n",
      "Exception ignored in: <function _MultiProcessingDataLoaderIter.__del__ at 0x7efc56285c10>\n",
      "Traceback (most recent call last):\n",
      "  File \"/voyager/projects/edebrouwer/.conda/envs/orthopoly/lib/python3.9/site-packages/torch/utils/data/dataloader.py\", line 1481, in __del__\n",
      "    self._shutdown_workers()\n",
      "  File \"/voyager/projects/edebrouwer/.conda/envs/orthopoly/lib/python3.9/site-packages/torch/utils/data/dataloader.py\", line 1412, in _shutdown_workers\n",
      "    if not self._shutdown:\n",
      "AttributeError: '_MultiProcessingDataLoaderIter' object has no attribute '_shutdown'\n",
      "/voyager/projects/edebrouwer/.conda/envs/orthopoly/lib/python3.9/site-packages/pytorch_lightning/utilities/parsing.py:261: UserWarning: Attribute 'init_model' is an instance of `nn.Module` and is already saved during checkpointing. It is recommended to ignore them using `self.save_hyperparameters(ignore=['init_model'])`.\n",
      "  rank_zero_warn(\n"
     ]
    },
    {
     "name": "stdout",
     "output_type": "stream",
     "text": [
      "Pre-computing ODE Projection embeddings....\n"
     ]
    },
    {
     "name": "stderr",
     "output_type": "stream",
     "text": [
      "  0%|          | 0/20 [00:00<?, ?it/s]/voyager/projects/edebrouwer/.conda/envs/orthopoly/lib/python3.9/site-packages/torchdiffeq/_impl/fixed_adams.py:220: UserWarning: Functional iteration did not converge. Solution may be incorrect.\n",
      "  warnings.warn('Functional iteration did not converge. Solution may be incorrect.')\n",
      " 45%|████▌     | 9/20 [00:08<00:10,  1.08it/s]"
     ]
    }
   ],
   "source": [
    "sweep_id = \"ql8em3f7\"\n",
    "device = torch.device(\"cuda\")\n",
    "multivariate = None\n",
    "regression_mode = True\n",
    "api= wandb.Api()\n",
    "sweep = api.sweep(\"edebrouwer/orthopoly/\"+sweep_id)\n",
    "#init_sweep_id = \"edebrouwer/orthopoly/t77q79lw\"\n",
    "runs = sweep.runs\n",
    "\n",
    "model_cls = NODEClassification\n",
    "init_model_cls = NODE\n",
    "irregular_rates = [0.3, 0.4, 0.5]\n",
    "#irregular_rates = [1.0]\n",
    "#irregular_rates = [0.7, 0.8, 0.9, 1.0]\n",
    "seed = 421\n",
    "acc_dict = {}\n",
    "\n",
    "def data_cls_choice(data_type, init_model):\n",
    "    if data_type == \"SimpleTraj\":\n",
    "        data_cls = SimpleTrajDataModule(**init_model.hparams)\n",
    "    elif data_type == \"pMNIST\":\n",
    "        data_cls = pMNISTDataModule(**init_model.hparams)\n",
    "    elif data_type == \"Character\":\n",
    "        data_cls = CharacterTrajDataModule(**init_model.hparams)\n",
    "    elif data_type == \"MIMIC\":\n",
    "        data_cls = MIMICDataModule(**init_model.hparams)\n",
    "    elif data_type == \"Lorenz\":\n",
    "        data_cls = LorenzDataModule(**init_model.hparams)\n",
    "    return data_cls\n",
    "\n",
    "for irregular_rate in irregular_rates:\n",
    "    \n",
    "    accs_ = []\n",
    "    run_sub = [r for r in runs if (r.config[\"irregular_rate\"]==irregular_rate) and (r.config.get(\"multivariate\",None)==multivariate) and (r.config.get(\"regression_mode\",False)==regression_mode)]\n",
    "\n",
    "    for run in run_sub:\n",
    "        fname = [f.name for f in run.files() if \"ckpt\" in f.name][0]\n",
    "        run.file(fname).download(replace = True, root = \".\")\n",
    "         \n",
    "        checkpoint = torch.load(\n",
    "        fname, map_location=lambda storage, loc: storage)\n",
    "        checkpoint[\"hyper_parameters\"].pop(\"callbacks\", None)\n",
    "        checkpoint[\"hyper_parameters\"].pop(\"logger\", None)\n",
    "        checkpoint[\"hyper_parameters\"].pop(\"wandb_id_file_path\", None)\n",
    "        checkpoint.pop(\"callbacks\",None)\n",
    "        checkpoint_ = {\"state_dict\":checkpoint[\"state_dict\"],\"hyper_parameters\":checkpoint[\"hyper_parameters\"]}\n",
    "        checkpoint_[\"hyper_parameters\"].pop(\"init_model\",None)\n",
    "        \n",
    "        #input_dim = checkpoint[\"hyper_parameters\"].pop(\"input_dim\",None)\n",
    "        #if input_dim is None:\n",
    "        #    init_model = NODExt( **checkpoint[\"hyper_parameters\"],output_dim = checkpoint[\"hyper_parameters\"][\"num_dims\"])\n",
    "        #else:\n",
    "        #    init_model = NODExt(output_dim = input_dim, **checkpoint[\"hyper_parameters\"])\n",
    "        \n",
    "        init_model = get_init_model(checkpoint[\"hyper_parameters\"][\"init_sweep_id\"],init_model_cls,checkpoint[\"hyper_parameters\"][\"irregular_rate\"],checkpoint[\"hyper_parameters\"][\"seed\"],checkpoint[\"hyper_parameters\"].get(\"multivariate\", False))\n",
    "        \n",
    "        model = _load_state(model_cls, checkpoint_,init_model = init_model).to(device)\n",
    "               \n",
    "        #model = model_cls.load_from_checkpoint(fname)\n",
    "        os.remove(fname)\n",
    "        \n",
    "        dataset = data_cls_choice(model.hparams.data_type, init_model = model)\n",
    "        #dataset.pre_compute_ode = False\n",
    "        dataset.set_test_only()\n",
    "        dataset.prepare_data()\n",
    "    \n",
    "        trainer = pl.Trainer(gpus=1,logger = None)\n",
    "        \n",
    "        outputs = trainer.predict(model,dataset.test_dataloader())\n",
    "\n",
    "        preds = torch.cat([x[\"preds\"] for x in outputs])\n",
    "        Y = torch.cat([x[\"Y\"] for x in outputs])\n",
    "        T = torch.cat([x[\"T\"] for x in outputs])\n",
    "        labels = torch.cat([x[\"labels\"] for x in outputs])\n",
    "        \n",
    "        if checkpoint[\"hyper_parameters\"].get(\"regression_mode\",False):\n",
    "            accuracy = torch.nn.MSELoss()(preds,labels)\n",
    "        else:\n",
    "            if len(preds.shape)>1:\n",
    "                preds = torch.nn.functional.softmax(preds, dim=-1).argmax(-1)\n",
    "                accuracy = accuracy_score(labels.long().cpu().numpy(), preds.cpu().numpy())\n",
    "            else:\n",
    "                accuracy = roc_auc_score(labels.long().cpu().numpy(),preds.cpu().numpy())\n",
    "        #print(accuracy)\n",
    "        \n",
    "        accs_.append(accuracy)\n",
    "    \n",
    "    acc_dict[f\"{irregular_rate}\"]=accs_\n",
    "print(acc_dict)\n",
    "print(process_dict(acc_dict))"
   ]
  },
  {
   "cell_type": "markdown",
   "id": "bf92e827",
   "metadata": {},
   "source": [
    "## RNN"
   ]
  },
  {
   "cell_type": "code",
   "execution_count": 15,
   "id": "ebdedb81",
   "metadata": {},
   "outputs": [
    {
     "name": "stderr",
     "output_type": "stream",
     "text": [
      "/voyager/projects/edebrouwer/.conda/envs/orthopoly/lib/python3.9/site-packages/pytorch_lightning/utilities/parsing.py:261: UserWarning: Attribute 'init_model' is an instance of `nn.Module` and is already saved during checkpointing. It is recommended to ignore them using `self.save_hyperparameters(ignore=['init_model'])`.\n",
      "  rank_zero_warn(\n",
      "Exception ignored in: <function _MultiProcessingDataLoaderIter.__del__ at 0x7f11c0f9f9d0>\n",
      "Traceback (most recent call last):\n",
      "  File \"/voyager/projects/edebrouwer/.conda/envs/orthopoly/lib/python3.9/site-packages/torch/utils/data/dataloader.py\", line 1481, in __del__\n",
      "    self._shutdown_workers()\n",
      "  File \"/voyager/projects/edebrouwer/.conda/envs/orthopoly/lib/python3.9/site-packages/torch/utils/data/dataloader.py\", line 1412, in _shutdown_workers\n",
      "    if not self._shutdown:\n",
      "AttributeError: '_MultiProcessingDataLoaderIter' object has no attribute '_shutdown'\n",
      "Exception ignored in: <function _MultiProcessingDataLoaderIter.__del__ at 0x7f11c0f9f9d0>\n",
      "Traceback (most recent call last):\n",
      "  File \"/voyager/projects/edebrouwer/.conda/envs/orthopoly/lib/python3.9/site-packages/torch/utils/data/dataloader.py\", line 1481, in __del__\n",
      "    self._shutdown_workers()\n",
      "  File \"/voyager/projects/edebrouwer/.conda/envs/orthopoly/lib/python3.9/site-packages/torch/utils/data/dataloader.py\", line 1412, in _shutdown_workers\n",
      "    if not self._shutdown:\n",
      "AttributeError: '_MultiProcessingDataLoaderIter' object has no attribute '_shutdown'\n"
     ]
    },
    {
     "name": "stdout",
     "output_type": "stream",
     "text": [
      "Pre-computing ODE Projection embeddings....\n"
     ]
    },
    {
     "name": "stderr",
     "output_type": "stream",
     "text": [
      "100%|██████████| 20/20 [00:00<00:00, 37.79it/s]\n"
     ]
    },
    {
     "name": "stdout",
     "output_type": "stream",
     "text": [
      "Pre-computing ODE Projection embeddings....\n"
     ]
    },
    {
     "name": "stderr",
     "output_type": "stream",
     "text": [
      "100%|██████████| 20/20 [00:00<00:00, 38.12it/s]\n",
      "/voyager/projects/edebrouwer/.conda/envs/orthopoly/lib/python3.9/site-packages/pytorch_lightning/trainer/connectors/accelerator_connector.py:445: LightningDeprecationWarning: Setting `Trainer(gpus=1)` is deprecated in v1.7 and will be removed in v2.0. Please use `Trainer(accelerator='gpu', devices=1)` instead.\n",
      "  rank_zero_deprecation(\n",
      "/voyager/projects/edebrouwer/.conda/envs/orthopoly/lib/python3.9/site-packages/pytorch_lightning/loops/utilities.py:93: PossibleUserWarning: `max_epochs` was not set. Setting it to 1000 epochs. To train without an epoch limit, set `max_epochs=-1`.\n",
      "  rank_zero_warn(\n",
      "GPU available: True (cuda), used: True\n",
      "TPU available: False, using: 0 TPU cores\n",
      "IPU available: False, using: 0 IPUs\n",
      "HPU available: False, using: 0 HPUs\n",
      "LOCAL_RANK: 0 - CUDA_VISIBLE_DEVICES: [0,1,2,3]\n"
     ]
    },
    {
     "name": "stdout",
     "output_type": "stream",
     "text": [
      "Predicting DataLoader 0: 100%|██████████| 23/23 [00:00<00:00, 111.57it/s]\n"
     ]
    },
    {
     "name": "stderr",
     "output_type": "stream",
     "text": [
      "/voyager/projects/edebrouwer/.conda/envs/orthopoly/lib/python3.9/site-packages/pytorch_lightning/utilities/parsing.py:261: UserWarning: Attribute 'init_model' is an instance of `nn.Module` and is already saved during checkpointing. It is recommended to ignore them using `self.save_hyperparameters(ignore=['init_model'])`.\n",
      "  rank_zero_warn(\n",
      "Exception ignored in: <function _MultiProcessingDataLoaderIter.__del__ at 0x7f11c0f9f9d0>\n",
      "Traceback (most recent call last):\n",
      "  File \"/voyager/projects/edebrouwer/.conda/envs/orthopoly/lib/python3.9/site-packages/torch/utils/data/dataloader.py\", line 1481, in __del__\n",
      "    self._shutdown_workers()\n",
      "  File \"/voyager/projects/edebrouwer/.conda/envs/orthopoly/lib/python3.9/site-packages/torch/utils/data/dataloader.py\", line 1412, in _shutdown_workers\n",
      "    if not self._shutdown:\n",
      "AttributeError: '_MultiProcessingDataLoaderIter' object has no attribute '_shutdown'\n",
      "Exception ignored in: <function _MultiProcessingDataLoaderIter.__del__ at 0x7f11c0f9f9d0>\n",
      "Traceback (most recent call last):\n",
      "  File \"/voyager/projects/edebrouwer/.conda/envs/orthopoly/lib/python3.9/site-packages/torch/utils/data/dataloader.py\", line 1481, in __del__\n",
      "    self._shutdown_workers()\n",
      "  File \"/voyager/projects/edebrouwer/.conda/envs/orthopoly/lib/python3.9/site-packages/torch/utils/data/dataloader.py\", line 1412, in _shutdown_workers\n",
      "    if not self._shutdown:\n",
      "AttributeError: '_MultiProcessingDataLoaderIter' object has no attribute '_shutdown'\n"
     ]
    },
    {
     "name": "stdout",
     "output_type": "stream",
     "text": [
      "Pre-computing ODE Projection embeddings....\n"
     ]
    },
    {
     "name": "stderr",
     "output_type": "stream",
     "text": [
      "100%|██████████| 20/20 [00:00<00:00, 37.70it/s]\n"
     ]
    },
    {
     "name": "stdout",
     "output_type": "stream",
     "text": [
      "Pre-computing ODE Projection embeddings....\n"
     ]
    },
    {
     "name": "stderr",
     "output_type": "stream",
     "text": [
      "100%|██████████| 20/20 [00:00<00:00, 37.70it/s]\n",
      "/voyager/projects/edebrouwer/.conda/envs/orthopoly/lib/python3.9/site-packages/pytorch_lightning/trainer/connectors/accelerator_connector.py:445: LightningDeprecationWarning: Setting `Trainer(gpus=1)` is deprecated in v1.7 and will be removed in v2.0. Please use `Trainer(accelerator='gpu', devices=1)` instead.\n",
      "  rank_zero_deprecation(\n",
      "/voyager/projects/edebrouwer/.conda/envs/orthopoly/lib/python3.9/site-packages/pytorch_lightning/loops/utilities.py:93: PossibleUserWarning: `max_epochs` was not set. Setting it to 1000 epochs. To train without an epoch limit, set `max_epochs=-1`.\n",
      "  rank_zero_warn(\n",
      "GPU available: True (cuda), used: True\n",
      "TPU available: False, using: 0 TPU cores\n",
      "IPU available: False, using: 0 IPUs\n",
      "HPU available: False, using: 0 HPUs\n",
      "LOCAL_RANK: 0 - CUDA_VISIBLE_DEVICES: [0,1,2,3]\n"
     ]
    },
    {
     "name": "stdout",
     "output_type": "stream",
     "text": [
      "Predicting DataLoader 0: 100%|██████████| 23/23 [00:00<00:00, 161.18it/s]\n"
     ]
    },
    {
     "name": "stderr",
     "output_type": "stream",
     "text": [
      "/voyager/projects/edebrouwer/.conda/envs/orthopoly/lib/python3.9/site-packages/pytorch_lightning/utilities/parsing.py:261: UserWarning: Attribute 'init_model' is an instance of `nn.Module` and is already saved during checkpointing. It is recommended to ignore them using `self.save_hyperparameters(ignore=['init_model'])`.\n",
      "  rank_zero_warn(\n",
      "Exception ignored in: <function _MultiProcessingDataLoaderIter.__del__ at 0x7f11c0f9f9d0>\n",
      "Traceback (most recent call last):\n",
      "  File \"/voyager/projects/edebrouwer/.conda/envs/orthopoly/lib/python3.9/site-packages/torch/utils/data/dataloader.py\", line 1481, in __del__\n",
      "    self._shutdown_workers()\n",
      "  File \"/voyager/projects/edebrouwer/.conda/envs/orthopoly/lib/python3.9/site-packages/torch/utils/data/dataloader.py\", line 1412, in _shutdown_workers\n",
      "    if not self._shutdown:\n",
      "AttributeError: '_MultiProcessingDataLoaderIter' object has no attribute '_shutdown'\n",
      "Exception ignored in: <function _MultiProcessingDataLoaderIter.__del__ at 0x7f11c0f9f9d0>\n",
      "Traceback (most recent call last):\n",
      "  File \"/voyager/projects/edebrouwer/.conda/envs/orthopoly/lib/python3.9/site-packages/torch/utils/data/dataloader.py\", line 1481, in __del__\n",
      "    self._shutdown_workers()\n",
      "  File \"/voyager/projects/edebrouwer/.conda/envs/orthopoly/lib/python3.9/site-packages/torch/utils/data/dataloader.py\", line 1412, in _shutdown_workers\n",
      "    if not self._shutdown:\n",
      "AttributeError: '_MultiProcessingDataLoaderIter' object has no attribute '_shutdown'\n",
      "Exception ignored in: <function _MultiProcessingDataLoaderIter.__del__ at 0x7f11c0f9f9d0>\n",
      "Traceback (most recent call last):\n",
      "  File \"/voyager/projects/edebrouwer/.conda/envs/orthopoly/lib/python3.9/site-packages/torch/utils/data/dataloader.py\", line 1481, in __del__\n",
      "    self._shutdown_workers()\n",
      "  File \"/voyager/projects/edebrouwer/.conda/envs/orthopoly/lib/python3.9/site-packages/torch/utils/data/dataloader.py\", line 1412, in _shutdown_workers\n",
      "    if not self._shutdown:\n",
      "AttributeError: '_MultiProcessingDataLoaderIter' object has no attribute '_shutdown'\n",
      "Exception ignored in: <function _MultiProcessingDataLoaderIter.__del__ at 0x7f11c0f9f9d0>\n",
      "Traceback (most recent call last):\n",
      "  File \"/voyager/projects/edebrouwer/.conda/envs/orthopoly/lib/python3.9/site-packages/torch/utils/data/dataloader.py\", line 1481, in __del__\n",
      "    self._shutdown_workers()\n",
      "  File \"/voyager/projects/edebrouwer/.conda/envs/orthopoly/lib/python3.9/site-packages/torch/utils/data/dataloader.py\", line 1412, in _shutdown_workers\n",
      "    if not self._shutdown:\n",
      "AttributeError: '_MultiProcessingDataLoaderIter' object has no attribute '_shutdown'\n",
      "Exception ignored in: <function _MultiProcessingDataLoaderIter.__del__ at 0x7f11c0f9f9d0>\n",
      "Traceback (most recent call last):\n",
      "  File \"/voyager/projects/edebrouwer/.conda/envs/orthopoly/lib/python3.9/site-packages/torch/utils/data/dataloader.py\", line 1481, in __del__\n",
      "    self._shutdown_workers()\n",
      "  File \"/voyager/projects/edebrouwer/.conda/envs/orthopoly/lib/python3.9/site-packages/torch/utils/data/dataloader.py\", line 1412, in _shutdown_workers\n",
      "    if not self._shutdown:\n",
      "AttributeError: '_MultiProcessingDataLoaderIter' object has no attribute '_shutdown'\n",
      "Exception ignored in: <function _MultiProcessingDataLoaderIter.__del__ at 0x7f11c0f9f9d0>\n",
      "Traceback (most recent call last):\n",
      "  File \"/voyager/projects/edebrouwer/.conda/envs/orthopoly/lib/python3.9/site-packages/torch/utils/data/dataloader.py\", line 1481, in __del__\n",
      "    self._shutdown_workers()\n",
      "  File \"/voyager/projects/edebrouwer/.conda/envs/orthopoly/lib/python3.9/site-packages/torch/utils/data/dataloader.py\", line 1412, in _shutdown_workers\n",
      "    if not self._shutdown:\n",
      "AttributeError: '_MultiProcessingDataLoaderIter' object has no attribute '_shutdown'\n",
      "Exception ignored in: <function _MultiProcessingDataLoaderIter.__del__ at 0x7f11c0f9f9d0>\n",
      "Traceback (most recent call last):\n",
      "  File \"/voyager/projects/edebrouwer/.conda/envs/orthopoly/lib/python3.9/site-packages/torch/utils/data/dataloader.py\", line 1481, in __del__\n",
      "    self._shutdown_workers()\n",
      "  File \"/voyager/projects/edebrouwer/.conda/envs/orthopoly/lib/python3.9/site-packages/torch/utils/data/dataloader.py\", line 1412, in _shutdown_workers\n",
      "    if not self._shutdown:\n",
      "AttributeError: '_MultiProcessingDataLoaderIter' object has no attribute '_shutdown'\n",
      "Exception ignored in: <function _MultiProcessingDataLoaderIter.__del__ at 0x7f11c0f9f9d0>\n",
      "Traceback (most recent call last):\n",
      "  File \"/voyager/projects/edebrouwer/.conda/envs/orthopoly/lib/python3.9/site-packages/torch/utils/data/dataloader.py\", line 1481, in __del__\n",
      "    self._shutdown_workers()\n",
      "  File \"/voyager/projects/edebrouwer/.conda/envs/orthopoly/lib/python3.9/site-packages/torch/utils/data/dataloader.py\", line 1412, in _shutdown_workers\n",
      "    if not self._shutdown:\n",
      "AttributeError: '_MultiProcessingDataLoaderIter' object has no attribute '_shutdown'\n",
      "Exception ignored in: <function _MultiProcessingDataLoaderIter.__del__ at 0x7f11c0f9f9d0>\n",
      "Traceback (most recent call last):\n",
      "  File \"/voyager/projects/edebrouwer/.conda/envs/orthopoly/lib/python3.9/site-packages/torch/utils/data/dataloader.py\", line 1481, in __del__\n",
      "    self._shutdown_workers()\n",
      "  File \"/voyager/projects/edebrouwer/.conda/envs/orthopoly/lib/python3.9/site-packages/torch/utils/data/dataloader.py\", line 1412, in _shutdown_workers\n",
      "    if not self._shutdown:\n",
      "AttributeError: '_MultiProcessingDataLoaderIter' object has no attribute '_shutdown'\n",
      "Exception ignored in: <function _MultiProcessingDataLoaderIter.__del__ at 0x7f11c0f9f9d0>\n",
      "Traceback (most recent call last):\n",
      "  File \"/voyager/projects/edebrouwer/.conda/envs/orthopoly/lib/python3.9/site-packages/torch/utils/data/dataloader.py\", line 1481, in __del__\n",
      "    self._shutdown_workers()\n",
      "  File \"/voyager/projects/edebrouwer/.conda/envs/orthopoly/lib/python3.9/site-packages/torch/utils/data/dataloader.py\", line 1412, in _shutdown_workers\n",
      "    if not self._shutdown:\n",
      "AttributeError: '_MultiProcessingDataLoaderIter' object has no attribute '_shutdown'\n",
      "Exception ignored in: <function _MultiProcessingDataLoaderIter.__del__ at 0x7f11c0f9f9d0>\n",
      "Traceback (most recent call last):\n",
      "  File \"/voyager/projects/edebrouwer/.conda/envs/orthopoly/lib/python3.9/site-packages/torch/utils/data/dataloader.py\", line 1481, in __del__\n",
      "    self._shutdown_workers()\n",
      "  File \"/voyager/projects/edebrouwer/.conda/envs/orthopoly/lib/python3.9/site-packages/torch/utils/data/dataloader.py\", line 1412, in _shutdown_workers\n",
      "    if not self._shutdown:\n",
      "AttributeError: '_MultiProcessingDataLoaderIter' object has no attribute '_shutdown'\n",
      "Exception ignored in: <function _MultiProcessingDataLoaderIter.__del__ at 0x7f11c0f9f9d0>\n",
      "Traceback (most recent call last):\n",
      "  File \"/voyager/projects/edebrouwer/.conda/envs/orthopoly/lib/python3.9/site-packages/torch/utils/data/dataloader.py\", line 1481, in __del__\n",
      "    self._shutdown_workers()\n",
      "  File \"/voyager/projects/edebrouwer/.conda/envs/orthopoly/lib/python3.9/site-packages/torch/utils/data/dataloader.py\", line 1412, in _shutdown_workers\n",
      "    if not self._shutdown:\n",
      "AttributeError: '_MultiProcessingDataLoaderIter' object has no attribute '_shutdown'\n"
     ]
    },
    {
     "name": "stdout",
     "output_type": "stream",
     "text": [
      "Pre-computing ODE Projection embeddings....\n"
     ]
    },
    {
     "name": "stderr",
     "output_type": "stream",
     "text": [
      "100%|██████████| 20/20 [00:00<00:00, 56.22it/s]\n"
     ]
    },
    {
     "name": "stdout",
     "output_type": "stream",
     "text": [
      "Pre-computing ODE Projection embeddings....\n"
     ]
    },
    {
     "name": "stderr",
     "output_type": "stream",
     "text": [
      "100%|██████████| 20/20 [00:00<00:00, 56.54it/s]\n",
      "/voyager/projects/edebrouwer/.conda/envs/orthopoly/lib/python3.9/site-packages/pytorch_lightning/trainer/connectors/accelerator_connector.py:445: LightningDeprecationWarning: Setting `Trainer(gpus=1)` is deprecated in v1.7 and will be removed in v2.0. Please use `Trainer(accelerator='gpu', devices=1)` instead.\n",
      "  rank_zero_deprecation(\n",
      "/voyager/projects/edebrouwer/.conda/envs/orthopoly/lib/python3.9/site-packages/pytorch_lightning/loops/utilities.py:93: PossibleUserWarning: `max_epochs` was not set. Setting it to 1000 epochs. To train without an epoch limit, set `max_epochs=-1`.\n",
      "  rank_zero_warn(\n",
      "GPU available: True (cuda), used: True\n",
      "TPU available: False, using: 0 TPU cores\n",
      "IPU available: False, using: 0 IPUs\n",
      "HPU available: False, using: 0 HPUs\n",
      "LOCAL_RANK: 0 - CUDA_VISIBLE_DEVICES: [0,1,2,3]\n"
     ]
    },
    {
     "name": "stdout",
     "output_type": "stream",
     "text": [
      "Predicting DataLoader 0: 100%|██████████| 23/23 [00:00<00:00, 143.26it/s]\n"
     ]
    },
    {
     "name": "stderr",
     "output_type": "stream",
     "text": [
      "/voyager/projects/edebrouwer/.conda/envs/orthopoly/lib/python3.9/site-packages/pytorch_lightning/utilities/parsing.py:261: UserWarning: Attribute 'init_model' is an instance of `nn.Module` and is already saved during checkpointing. It is recommended to ignore them using `self.save_hyperparameters(ignore=['init_model'])`.\n",
      "  rank_zero_warn(\n",
      "Exception ignored in: <function _MultiProcessingDataLoaderIter.__del__ at 0x7f11c0f9f9d0>\n",
      "Traceback (most recent call last):\n",
      "  File \"/voyager/projects/edebrouwer/.conda/envs/orthopoly/lib/python3.9/site-packages/torch/utils/data/dataloader.py\", line 1481, in __del__\n",
      "    self._shutdown_workers()\n",
      "  File \"/voyager/projects/edebrouwer/.conda/envs/orthopoly/lib/python3.9/site-packages/torch/utils/data/dataloader.py\", line 1412, in _shutdown_workers\n",
      "    if not self._shutdown:\n",
      "AttributeError: '_MultiProcessingDataLoaderIter' object has no attribute '_shutdown'\n",
      "Exception ignored in: <function _MultiProcessingDataLoaderIter.__del__ at 0x7f11c0f9f9d0>\n",
      "Traceback (most recent call last):\n",
      "  File \"/voyager/projects/edebrouwer/.conda/envs/orthopoly/lib/python3.9/site-packages/torch/utils/data/dataloader.py\", line 1481, in __del__\n",
      "    self._shutdown_workers()\n",
      "  File \"/voyager/projects/edebrouwer/.conda/envs/orthopoly/lib/python3.9/site-packages/torch/utils/data/dataloader.py\", line 1412, in _shutdown_workers\n",
      "    if not self._shutdown:\n",
      "AttributeError: '_MultiProcessingDataLoaderIter' object has no attribute '_shutdown'\n"
     ]
    },
    {
     "name": "stdout",
     "output_type": "stream",
     "text": [
      "Pre-computing ODE Projection embeddings....\n"
     ]
    },
    {
     "name": "stderr",
     "output_type": "stream",
     "text": [
      "100%|██████████| 20/20 [00:00<00:00, 52.67it/s]\n"
     ]
    },
    {
     "name": "stdout",
     "output_type": "stream",
     "text": [
      "Pre-computing ODE Projection embeddings....\n"
     ]
    },
    {
     "name": "stderr",
     "output_type": "stream",
     "text": [
      "100%|██████████| 20/20 [00:00<00:00, 52.93it/s]\n",
      "/voyager/projects/edebrouwer/.conda/envs/orthopoly/lib/python3.9/site-packages/pytorch_lightning/trainer/connectors/accelerator_connector.py:445: LightningDeprecationWarning: Setting `Trainer(gpus=1)` is deprecated in v1.7 and will be removed in v2.0. Please use `Trainer(accelerator='gpu', devices=1)` instead.\n",
      "  rank_zero_deprecation(\n",
      "/voyager/projects/edebrouwer/.conda/envs/orthopoly/lib/python3.9/site-packages/pytorch_lightning/loops/utilities.py:93: PossibleUserWarning: `max_epochs` was not set. Setting it to 1000 epochs. To train without an epoch limit, set `max_epochs=-1`.\n",
      "  rank_zero_warn(\n",
      "GPU available: True (cuda), used: True\n",
      "TPU available: False, using: 0 TPU cores\n",
      "IPU available: False, using: 0 IPUs\n",
      "HPU available: False, using: 0 HPUs\n",
      "LOCAL_RANK: 0 - CUDA_VISIBLE_DEVICES: [0,1,2,3]\n"
     ]
    },
    {
     "name": "stdout",
     "output_type": "stream",
     "text": [
      "Predicting DataLoader 0: 100%|██████████| 23/23 [00:00<00:00, 155.72it/s]\n",
      "{'0.3': [0.883484954513646], '0.4': [0.8540937718684395], '0.5': [0.8992302309307207], '0.6': [0.9062281315605318]}\n"
     ]
    }
   ],
   "source": [
    "sweep_id = \"1vc3k85v\"\n",
    "device = torch.device(\"cuda\")\n",
    "multivariate = True\n",
    "regression_mode = False\n",
    "api= wandb.Api()\n",
    "sweep = api.sweep(\"edebrouwer/orthopoly/\"+sweep_id)\n",
    "#init_sweep_id = \"edebrouwer/orthopoly/t77q79lw\"\n",
    "runs = sweep.runs\n",
    "\n",
    "model_cls = RNNClassification\n",
    "init_model_cls = RNN\n",
    "#irregular_rates = [0.6, 0.7, 0.8, 0.9, 1.0]\n",
    "irregular_rates = [0.3, 0.4, 0.5, 0.6]\n",
    "seed = 421\n",
    "acc_dict = {}\n",
    "\n",
    "def data_cls_choice(data_type, init_model):\n",
    "    if data_type == \"SimpleTraj\":\n",
    "        data_cls = SimpleTrajDataModule(**init_model.hparams)\n",
    "    elif data_type == \"pMNIST\":\n",
    "        data_cls = pMNISTDataModule(**init_model.hparams)\n",
    "    elif data_type == \"Character\":\n",
    "        data_cls = CharacterTrajDataModule(**init_model.hparams)\n",
    "    return data_cls\n",
    "\n",
    "for irregular_rate in irregular_rates:\n",
    "    \n",
    "    accs_ = []\n",
    "    run_sub = [r for r in runs if (r.config[\"irregular_rate\"]==irregular_rate) and (r.config.get(\"multivariate\",None)==multivariate) and (r.config.get(\"regression_mode\",False)==regression_mode)]\n",
    "\n",
    "    for run in run_sub:\n",
    "        fname = [f.name for f in run.files() if \"ckpt\" in f.name][0]\n",
    "        run.file(fname).download(replace = True, root = \".\")\n",
    "         \n",
    "        checkpoint = torch.load(\n",
    "        fname, map_location=lambda storage, loc: storage)\n",
    "        checkpoint[\"hyper_parameters\"].pop(\"callbacks\", None)\n",
    "        checkpoint[\"hyper_parameters\"].pop(\"logger\", None)\n",
    "        checkpoint[\"hyper_parameters\"].pop(\"wandb_id_file_path\", None)\n",
    "        checkpoint.pop(\"callbacks\",None)\n",
    "        checkpoint_ = {\"state_dict\":checkpoint[\"state_dict\"],\"hyper_parameters\":checkpoint[\"hyper_parameters\"]}\n",
    "        checkpoint_[\"hyper_parameters\"].pop(\"init_model\",None)\n",
    "        \n",
    "        init_model = get_init_model(checkpoint[\"hyper_parameters\"][\"init_sweep_id\"],init_model_cls,checkpoint[\"hyper_parameters\"][\"irregular_rate\"],checkpoint[\"hyper_parameters\"][\"seed\"],checkpoint[\"hyper_parameters\"].get(\"multivariate\", False))\n",
    "        \n",
    "        model = _load_state(model_cls, checkpoint_,init_model = init_model).to(device)\n",
    "        os.remove(fname)\n",
    "        \n",
    "        dataset = data_cls_choice(model.hparams.data_type, init_model = model)\n",
    "        dataset.prepare_data()\n",
    "    \n",
    "        trainer = pl.Trainer(gpus=1,logger = None)\n",
    "        \n",
    "        outputs = trainer.predict(model,dataset.test_dataloader())\n",
    "\n",
    "        preds = torch.cat([x[\"preds\"] for x in outputs])\n",
    "        Y = torch.cat([x[\"Y\"] for x in outputs])\n",
    "        T = torch.cat([x[\"T\"] for x in outputs])\n",
    "        labels = torch.cat([x[\"labels\"] for x in outputs])\n",
    "        \n",
    "        if len(preds.shape)>1:\n",
    "            preds = torch.nn.functional.softmax(preds, dim=-1).argmax(-1)\n",
    "            accuracy = accuracy_score(labels.long().cpu().numpy(), preds.cpu().numpy())\n",
    "        else:\n",
    "            accuracy = roc_auc_score(labels.long().cpu().numpy(),preds.cpu().numpy())\n",
    "        #print(accuracy)\n",
    "        \n",
    "        accs_.append(accuracy)\n",
    "    \n",
    "    acc_dict[f\"{irregular_rate}\"]=accs_\n",
    "print(acc_dict)"
   ]
  },
  {
   "cell_type": "markdown",
   "id": "a035b9e8-f874-433e-a0b1-d8836b2930fa",
   "metadata": {},
   "source": [
    "# Forecasting"
   ]
  },
  {
   "cell_type": "code",
   "execution_count": 1,
   "id": "69cbfe60-f914-4ca0-8c20-df3c1ff1f1da",
   "metadata": {},
   "outputs": [
    {
     "ename": "NameError",
     "evalue": "name 'wandb' is not defined",
     "output_type": "error",
     "traceback": [
      "\u001b[0;31m---------------------------------------------------------------------------\u001b[0m",
      "\u001b[0;31mNameError\u001b[0m                                 Traceback (most recent call last)",
      "\u001b[1;32m/h/299/edebrouwer/Projects/orthopoly/notebooks/Results.ipynb Cell 14\u001b[0m in \u001b[0;36m<cell line: 3>\u001b[0;34m()\u001b[0m\n\u001b[1;32m      <a href='vscode-notebook-cell://ssh-remote%2Bvoyager/h/299/edebrouwer/Projects/orthopoly/notebooks/Results.ipynb#X16sdnNjb2RlLXJlbW90ZQ%3D%3D?line=0'>1</a>\u001b[0m sweep_id \u001b[39m=\u001b[39m \u001b[39m\"\u001b[39m\u001b[39mc6yoaram\u001b[39m\u001b[39m\"\u001b[39m\n\u001b[1;32m      <a href='vscode-notebook-cell://ssh-remote%2Bvoyager/h/299/edebrouwer/Projects/orthopoly/notebooks/Results.ipynb#X16sdnNjb2RlLXJlbW90ZQ%3D%3D?line=1'>2</a>\u001b[0m multivariate \u001b[39m=\u001b[39m \u001b[39mNone\u001b[39;00m\n\u001b[0;32m----> <a href='vscode-notebook-cell://ssh-remote%2Bvoyager/h/299/edebrouwer/Projects/orthopoly/notebooks/Results.ipynb#X16sdnNjb2RlLXJlbW90ZQ%3D%3D?line=2'>3</a>\u001b[0m api\u001b[39m=\u001b[39m wandb\u001b[39m.\u001b[39mApi()\n\u001b[1;32m      <a href='vscode-notebook-cell://ssh-remote%2Bvoyager/h/299/edebrouwer/Projects/orthopoly/notebooks/Results.ipynb#X16sdnNjb2RlLXJlbW90ZQ%3D%3D?line=3'>4</a>\u001b[0m sweep \u001b[39m=\u001b[39m api\u001b[39m.\u001b[39msweep(\u001b[39m\"\u001b[39m\u001b[39medebrouwer/orthopoly/\u001b[39m\u001b[39m\"\u001b[39m\u001b[39m+\u001b[39msweep_id)\n\u001b[1;32m      <a href='vscode-notebook-cell://ssh-remote%2Bvoyager/h/299/edebrouwer/Projects/orthopoly/notebooks/Results.ipynb#X16sdnNjb2RlLXJlbW90ZQ%3D%3D?line=4'>5</a>\u001b[0m \u001b[39m#init_sweep_id = \"edebrouwer/orthopoly/t77q79lw\"\u001b[39;00m\n",
      "\u001b[0;31mNameError\u001b[0m: name 'wandb' is not defined"
     ]
    }
   ],
   "source": [
    "sweep_id = \"c6yoaram\"\n",
    "multivariate = None\n",
    "api= wandb.Api()\n",
    "sweep = api.sweep(\"edebrouwer/orthopoly/\"+sweep_id)\n",
    "#init_sweep_id = \"edebrouwer/orthopoly/t77q79lw\"\n",
    "runs = sweep.runs\n",
    "\n",
    "model_cls = NODExt\n",
    "irregular_rates = [0.6, 0.7, 0.8, 0.9, 1.0]\n",
    "seed = 421\n",
    "acc_dict = {}\n",
    "\n",
    "def data_cls_choice(data_type, hparams):\n",
    "    if data_type == \"SimpleTraj\":\n",
    "        data_cls = SimpleTrajDataModule(**hparams, forecast_mode = True)\n",
    "    elif data_type == \"pMNIST\":\n",
    "        data_cls = pMNISTDataModule(**hparams, forecast_mode = True)\n",
    "    elif data_type == \"Character\":\n",
    "        data_cls = CharacterTrajDataModule(**hparams, forecast_mode = True)\n",
    "    return data_cls\n",
    "\n",
    "for irregular_rate in irregular_rates:\n",
    "    \n",
    "    accs_ = []\n",
    "    run_sub = [r for r in runs if (r.config[\"irregular_rate\"]==irregular_rate) and (r.config.get(\"multivariate\",None)==multivariate)]\n",
    "\n",
    "    for run in run_sub:\n",
    "        fname = [f.name for f in run.files() if \"ckpt\" in f.name][0]\n",
    "        run.file(fname).download(replace = True, root = \".\")\n",
    "         \n",
    "        checkpoint = torch.load(\n",
    "        fname, map_location=lambda storage, loc: storage)\n",
    "        checkpoint[\"hyper_parameters\"].pop(\"callbacks\", None)\n",
    "        checkpoint[\"hyper_parameters\"].pop(\"logger\", None)\n",
    "        checkpoint[\"hyper_parameters\"].pop(\"wandb_id_file_path\", None)\n",
    "        checkpoint.pop(\"callbacks\",None)\n",
    "        checkpoint_ = {\"state_dict\":checkpoint[\"state_dict\"],\"hyper_parameters\":checkpoint[\"hyper_parameters\"]}\n",
    "        checkpoint_[\"hyper_parameters\"].pop(\"init_model\",None)\n",
    "        \n",
    "        input_dim = checkpoint[\"hyper_parameters\"].pop(\"input_dim\",None)\n",
    "                \n",
    "        dataset = data_cls_choice(checkpoint[\"hyper_parameters\"][\"data_type\"],checkpoint[\"hyper_parameters\"])\n",
    "\n",
    "        if input_dim is None:\n",
    "            model = _load_state(model_cls, checkpoint_, output_dim = dataset.num_dims)\n",
    "\n",
    "            #init_model = CNODExt( **checkpoint[\"hyper_parameters\"],output_dim = checkpoint[\"hyper_parameters\"][\"num_dims\"])\n",
    "        else:\n",
    "            model = _load_state(model_cls, checkpoint_, output_dim = input_dim)\n",
    "            #init_model = CNODExt(output_dim = input_dim, **checkpoint[\"hyper_parameters\"])\n",
    "        \n",
    "               \n",
    "        #model = model_cls.load_from_checkpoint(fname)\n",
    "        os.remove(fname)\n",
    "        \n",
    "        #dataset.pre_compute_ode = False\n",
    "        dataset.prepare_data()\n",
    "    \n",
    "        trainer = pl.Trainer(gpus=1,logger = None)\n",
    "        \n",
    "        outputs = trainer.predict(model,dataset.test_dataloader())\n",
    "\n",
    "        preds = torch.cat([x[\"preds\"] for x in outputs])\n",
    "        Y = torch.cat([x[\"Y\"] for x in outputs])\n",
    "        T = torch.cat([x[\"T\"] for x in outputs])\n",
    "        labels = torch.cat([x[\"labels\"] for x in outputs])\n",
    "        \n",
    "        if len(preds.shape)>1:\n",
    "            preds = torch.nn.functional.softmax(preds, dim=-1).argmax(-1)\n",
    "            accuracy = accuracy_score(labels.long().cpu().numpy(), preds.cpu().numpy())\n",
    "        else:\n",
    "            accuracy = roc_auc_score(labels.long().cpu().numpy(),preds.cpu().numpy())\n",
    "        #print(accuracy)\n",
    "        \n",
    "        accs_.append(accuracy)\n",
    "    \n",
    "    acc_dict[f\"{irregular_rate}\"]=accs_\n",
    "print(acc_dict)"
   ]
  },
  {
   "cell_type": "code",
   "execution_count": null,
   "id": "f2087516-9e48-40f8-b073-e4eb2267933c",
   "metadata": {},
   "outputs": [],
   "source": []
  }
 ],
 "metadata": {
  "kernelspec": {
   "display_name": "Python 3.9.12 ('orthopoly')",
   "language": "python",
   "name": "python3"
  },
  "language_info": {
   "codemirror_mode": {
    "name": "ipython",
    "version": 3
   },
   "file_extension": ".py",
   "mimetype": "text/x-python",
   "name": "python",
   "nbconvert_exporter": "python",
   "pygments_lexer": "ipython3",
   "version": "3.9.12"
  },
  "vscode": {
   "interpreter": {
    "hash": "67cecf8adde82ad4ed3b6cac25ef25194846fdf20e9220680f503d39ba83999b"
   }
  }
 },
 "nbformat": 4,
 "nbformat_minor": 5
}
