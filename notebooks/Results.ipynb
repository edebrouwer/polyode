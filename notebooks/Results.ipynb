{
 "cells": [
  {
   "cell_type": "code",
   "execution_count": 2,
   "id": "9146798c-b507-446c-8927-4842816b0a37",
   "metadata": {},
   "outputs": [
    {
     "name": "stderr",
     "output_type": "stream",
     "text": [
      "/voyager/projects/edebrouwer/.conda/envs/orthopoly/lib/python3.9/site-packages/tqdm/auto.py:22: TqdmWarning: IProgress not found. Please update jupyter and ipywidgets. See https://ipywidgets.readthedocs.io/en/stable/user_install.html\n",
      "  from .autonotebook import tqdm as notebook_tqdm\n"
     ]
    }
   ],
   "source": [
    "import wandb\n",
    "import os\n",
    "import pytorch_lightning as pl\n",
    "import torch\n",
    "import numpy as np\n",
    "from legendre.models.spline_cnode import SplineCNODEClass\n",
    "from legendre.models.cnode_ext import CNODExtClassification, CNODExt\n",
    "from legendre.models.node_ext import NODExtClassification, NODExt\n",
    "from legendre.models.node_mod import NODEClassification, NODE\n",
    "from legendre.models.rnn import RNNClassification, RNN\n",
    "from legendre.models.hippo import HIPPO, HippoClassification\n",
    "from legendre.data_utils.simple_path_utils import SimpleTrajDataModule\n",
    "from legendre.data_utils.pMNIST_utils import pMNISTDataModule\n",
    "from legendre.data_utils.character_utils import CharacterTrajDataModule\n",
    "from legendre.data_utils.mimic_utils import MIMICDataModule\n",
    "from legendre.data_utils.lorenz_utils import LorenzDataModule\n",
    "from legendre.train_scripts.classif import get_init_model\n",
    "from sklearn.metrics import accuracy_score, roc_auc_score\n",
    "from pytorch_lightning.core.saving import _load_state\n",
    "\n",
    "%load_ext autoreload\n",
    "%autoreload 2\n",
    "\n",
    "\n",
    "def mean_dict(d):\n",
    "    return {k:sum(v)/len(v) for k,v in d.items() if len(v)>0}\n",
    "def std_dict(d):\n",
    "    return {k:np.std(np.array(v)) for k,v in d.items() if len(v)>0}\n",
    "\n",
    "def process_dict(d):\n",
    "    m_dict = mean_dict(d)\n",
    "    s_dict = std_dict(d)\n",
    "    return {k: f\"${v:.3f} \\\\pm {s_dict[k]:.3f}$\" for k,v in m_dict.items() if len(k)>0}"
   ]
  },
  {
   "cell_type": "markdown",
   "id": "53e40ae0-37f1-4717-a169-93532a1d7e7e",
   "metadata": {},
   "source": [
    "# Classification"
   ]
  },
  {
   "cell_type": "markdown",
   "id": "fc146580-d049-41f1-8c1a-c06b1c288fa4",
   "metadata": {},
   "source": [
    "## SplineCNODE"
   ]
  },
  {
   "cell_type": "code",
   "execution_count": 10,
   "id": "0b93b1c0-0e9c-43d2-9a09-dfd434931ca1",
   "metadata": {},
   "outputs": [
    {
     "name": "stdout",
     "output_type": "stream",
     "text": [
      "Pre-computing ODE Projection embeddings....\n"
     ]
    },
    {
     "name": "stderr",
     "output_type": "stream",
     "text": [
      "100%|██████████| 20/20 [00:11<00:00,  1.69it/s]\n",
      "GPU available: True (cuda), used: True\n",
      "TPU available: False, using: 0 TPU cores\n",
      "IPU available: False, using: 0 IPUs\n",
      "HPU available: False, using: 0 HPUs\n",
      "LOCAL_RANK: 0 - CUDA_VISIBLE_DEVICES: [0,1,2,3]\n"
     ]
    },
    {
     "name": "stdout",
     "output_type": "stream",
     "text": [
      "Predicting DataLoader 0: 100%|██████████| 2/2 [00:00<00:00, 19.99it/s] \n",
      "Pre-computing ODE Projection embeddings....\n"
     ]
    },
    {
     "name": "stderr",
     "output_type": "stream",
     "text": [
      "100%|██████████| 20/20 [00:10<00:00,  1.85it/s]\n",
      "GPU available: True (cuda), used: True\n",
      "TPU available: False, using: 0 TPU cores\n",
      "IPU available: False, using: 0 IPUs\n",
      "HPU available: False, using: 0 HPUs\n",
      "LOCAL_RANK: 0 - CUDA_VISIBLE_DEVICES: [0,1,2,3]\n"
     ]
    },
    {
     "name": "stdout",
     "output_type": "stream",
     "text": [
      "Predicting DataLoader 0: 100%|██████████| 2/2 [00:00<00:00, 14.51it/s] \n",
      "Pre-computing ODE Projection embeddings....\n"
     ]
    },
    {
     "name": "stderr",
     "output_type": "stream",
     "text": [
      "100%|██████████| 20/20 [00:11<00:00,  1.77it/s]\n",
      "GPU available: True (cuda), used: True\n",
      "TPU available: False, using: 0 TPU cores\n",
      "IPU available: False, using: 0 IPUs\n",
      "HPU available: False, using: 0 HPUs\n",
      "LOCAL_RANK: 0 - CUDA_VISIBLE_DEVICES: [0,1,2,3]\n"
     ]
    },
    {
     "name": "stdout",
     "output_type": "stream",
     "text": [
      "Predicting DataLoader 0: 100%|██████████| 2/2 [00:00<00:00, 15.10it/s] \n",
      "{'0.3': [tensor(0.8652), tensor(0.7028), tensor(0.7937)]}\n",
      "{'0.3': '$0.787 \\\\pm 0.066$'}\n",
      "Pre-computing ODE Projection embeddings....\n"
     ]
    },
    {
     "name": "stderr",
     "output_type": "stream",
     "text": [
      "100%|██████████| 20/20 [00:11<00:00,  1.78it/s]\n",
      "GPU available: True (cuda), used: True\n",
      "TPU available: False, using: 0 TPU cores\n",
      "IPU available: False, using: 0 IPUs\n",
      "HPU available: False, using: 0 HPUs\n",
      "LOCAL_RANK: 0 - CUDA_VISIBLE_DEVICES: [0,1,2,3]\n"
     ]
    },
    {
     "name": "stdout",
     "output_type": "stream",
     "text": [
      "Predicting DataLoader 0: 100%|██████████| 2/2 [00:00<00:00, 17.22it/s] \n",
      "Pre-computing ODE Projection embeddings....\n"
     ]
    },
    {
     "name": "stderr",
     "output_type": "stream",
     "text": [
      "100%|██████████| 20/20 [00:11<00:00,  1.75it/s]\n",
      "GPU available: True (cuda), used: True\n",
      "TPU available: False, using: 0 TPU cores\n",
      "IPU available: False, using: 0 IPUs\n",
      "HPU available: False, using: 0 HPUs\n",
      "LOCAL_RANK: 0 - CUDA_VISIBLE_DEVICES: [0,1,2,3]\n"
     ]
    },
    {
     "name": "stdout",
     "output_type": "stream",
     "text": [
      "Predicting DataLoader 0: 100%|██████████| 2/2 [00:00<00:00, 14.92it/s] \n",
      "Pre-computing ODE Projection embeddings....\n"
     ]
    },
    {
     "name": "stderr",
     "output_type": "stream",
     "text": [
      "100%|██████████| 20/20 [00:10<00:00,  1.84it/s]\n",
      "GPU available: True (cuda), used: True\n",
      "TPU available: False, using: 0 TPU cores\n",
      "IPU available: False, using: 0 IPUs\n",
      "HPU available: False, using: 0 HPUs\n",
      "LOCAL_RANK: 0 - CUDA_VISIBLE_DEVICES: [0,1,2,3]\n"
     ]
    },
    {
     "name": "stdout",
     "output_type": "stream",
     "text": [
      "Predicting DataLoader 0: 100%|██████████| 2/2 [00:00<00:00, 21.12it/s] \n",
      "{'0.3': [tensor(0.8652), tensor(0.7028), tensor(0.7937)], '0.4': [tensor(0.7999), tensor(0.8259), tensor(0.7349)]}\n",
      "{'0.3': '$0.787 \\\\pm 0.066$', '0.4': '$0.787 \\\\pm 0.038$'}\n",
      "Pre-computing ODE Projection embeddings....\n"
     ]
    },
    {
     "name": "stderr",
     "output_type": "stream",
     "text": [
      "100%|██████████| 20/20 [00:11<00:00,  1.72it/s]\n",
      "GPU available: True (cuda), used: True\n",
      "TPU available: False, using: 0 TPU cores\n",
      "IPU available: False, using: 0 IPUs\n",
      "HPU available: False, using: 0 HPUs\n",
      "LOCAL_RANK: 0 - CUDA_VISIBLE_DEVICES: [0,1,2,3]\n"
     ]
    },
    {
     "name": "stdout",
     "output_type": "stream",
     "text": [
      "Predicting DataLoader 0: 100%|██████████| 2/2 [00:00<00:00, 20.26it/s] \n",
      "Pre-computing ODE Projection embeddings....\n"
     ]
    },
    {
     "name": "stderr",
     "output_type": "stream",
     "text": [
      "100%|██████████| 20/20 [00:10<00:00,  1.82it/s]\n",
      "GPU available: True (cuda), used: True\n",
      "TPU available: False, using: 0 TPU cores\n",
      "IPU available: False, using: 0 IPUs\n",
      "HPU available: False, using: 0 HPUs\n",
      "LOCAL_RANK: 0 - CUDA_VISIBLE_DEVICES: [0,1,2,3]\n"
     ]
    },
    {
     "name": "stdout",
     "output_type": "stream",
     "text": [
      "Predicting DataLoader 0: 100%|██████████| 2/2 [00:00<00:00, 16.67it/s] \n",
      "Pre-computing ODE Projection embeddings....\n"
     ]
    },
    {
     "name": "stderr",
     "output_type": "stream",
     "text": [
      "100%|██████████| 20/20 [00:11<00:00,  1.73it/s]\n",
      "GPU available: True (cuda), used: True\n",
      "TPU available: False, using: 0 TPU cores\n",
      "IPU available: False, using: 0 IPUs\n",
      "HPU available: False, using: 0 HPUs\n",
      "LOCAL_RANK: 0 - CUDA_VISIBLE_DEVICES: [0,1,2,3]\n"
     ]
    },
    {
     "name": "stdout",
     "output_type": "stream",
     "text": [
      "Predicting DataLoader 0: 100%|██████████| 2/2 [00:00<00:00, 19.47it/s] \n",
      "{'0.3': [tensor(0.8652), tensor(0.7028), tensor(0.7937)], '0.4': [tensor(0.7999), tensor(0.8259), tensor(0.7349)], '0.5': [tensor(0.7523), tensor(0.7519), tensor(0.8274)]}\n",
      "{'0.3': '$0.787 \\\\pm 0.066$', '0.4': '$0.787 \\\\pm 0.038$', '0.5': '$0.777 \\\\pm 0.036$'}\n"
     ]
    }
   ],
   "source": [
    "#from urllib.parse import non_hierarchical\n",
    "sweep_id = \"v4vdss0h\"\n",
    "multivariate = None\n",
    "regression_mode = True\n",
    "spline_type = \"Linear\"\n",
    "api= wandb.Api()\n",
    "sweep = api.sweep(\"edebrouwer/orthopoly/\"+sweep_id)\n",
    "runs = sweep.runs\n",
    "\n",
    "model_cls = SplineCNODEClass\n",
    "irregular_rates = [0.3,0.4,0.5]\n",
    "#irregular_rates = [0.7,0.8,0.9,1.0]\n",
    "acc_dict = {}\n",
    "\n",
    "def data_cls_choice(data_type):\n",
    "    if data_type == \"SimpleTraj\":\n",
    "        data_cls = SimpleTrajDataModule(**model.hparams)\n",
    "    elif data_type == \"pMNIST\":\n",
    "        data_cls = pMNISTDataModule(**model.hparams)\n",
    "    elif data_type == \"Character\":\n",
    "        data_cls = CharacterTrajDataModule(**model.hparams)\n",
    "    elif data_type == \"Lorenz\":\n",
    "        data_cls = LorenzDataModule(**model.hparams)\n",
    "    return data_cls\n",
    "\n",
    "\n",
    "for irregular_rate in irregular_rates:\n",
    "\n",
    "    accs_ = []\n",
    "    \n",
    "    run_sub = [r for r in runs if (r.config[\"irregular_rate\"]==irregular_rate) and (r.config.get(\"multivariate\",None)==multivariate) and (r.config.get(\"regression_mode\",False)==regression_mode) & (r.config.get(\"spline_type\",\"Hermite\")==spline_type)]\n",
    "\n",
    "    for run in run_sub:\n",
    "        fname = [f.name for f in run.files() if \"ckpt\" in f.name][0]\n",
    "        run.file(fname).download(replace = True, root = \".\")\n",
    "        checkpoint = torch.load(fname, map_location=lambda storage, loc: storage)\n",
    "        hparams = checkpoint[\"hyper_parameters\"]\n",
    "        model = model_cls.load_from_checkpoint(fname,num_dims = hparams.get(\"num_dims\",1))\n",
    "        os.remove(fname)\n",
    "        dataset = data_cls_choice(model.hparams.data_type)\n",
    "        dataset.prepare_data()\n",
    "        \n",
    "        trainer = pl.Trainer(gpus=1)\n",
    "        outputs = trainer.predict(model,dataset.test_dataloader())\n",
    "\n",
    "        preds = torch.cat([x[\"preds\"] for x in outputs])\n",
    "        Y = torch.cat([x[\"Y\"] for x in outputs])\n",
    "        T = torch.cat([x[\"T\"] for x in outputs])\n",
    "        labels = torch.cat([x[\"labels\"] for x in outputs])\n",
    "        \n",
    "        if checkpoint[\"hyper_parameters\"].get(\"regression_mode\",False):\n",
    "            accuracy = torch.nn.MSELoss()(preds,labels)\n",
    "        else:\n",
    "            if len(preds.shape)>1:\n",
    "                preds = torch.nn.functional.softmax(preds, dim=-1).argmax(-1)\n",
    "                accuracy = accuracy_score(labels.long().cpu().numpy(), preds.cpu().numpy())\n",
    "            else:\n",
    "                accuracy = roc_auc_score(labels.long().cpu().numpy(),preds.cpu().numpy())\n",
    "        #print(accuracy)\n",
    "        \n",
    "        accs_.append(accuracy)\n",
    "        \n",
    "    acc_dict[f\"{irregular_rate}\"]=accs_\n",
    "    print(acc_dict)\n",
    "    print(process_dict(acc_dict))"
   ]
  },
  {
   "cell_type": "markdown",
   "id": "b9505362-c4a7-4ae3-b1bc-b89c17942c31",
   "metadata": {
    "tags": []
   },
   "source": [
    "## CNODExt"
   ]
  },
  {
   "cell_type": "code",
   "execution_count": 7,
   "id": "40af0f2c-e815-4bef-a813-4d936f410fce",
   "metadata": {},
   "outputs": [
    {
     "name": "stderr",
     "output_type": "stream",
     "text": [
      "Exception ignored in: <function _MultiProcessingDataLoaderIter.__del__ at 0x7fda0ae6d280>\n",
      "Traceback (most recent call last):\n",
      "  File \"/voyager/projects/edebrouwer/.conda/envs/orthopoly/lib/python3.9/site-packages/torch/utils/data/dataloader.py\", line 1481, in __del__\n",
      "    self._shutdown_workers()\n",
      "  File \"/voyager/projects/edebrouwer/.conda/envs/orthopoly/lib/python3.9/site-packages/torch/utils/data/dataloader.py\", line 1412, in _shutdown_workers\n",
      "    if not self._shutdown:\n",
      "AttributeError: '_MultiProcessingDataLoaderIter' object has no attribute '_shutdown'\n",
      "Exception ignored in: <function _MultiProcessingDataLoaderIter.__del__ at 0x7fda0ae6d280>\n",
      "Traceback (most recent call last):\n",
      "  File \"/voyager/projects/edebrouwer/.conda/envs/orthopoly/lib/python3.9/site-packages/torch/utils/data/dataloader.py\", line 1481, in __del__\n",
      "    self._shutdown_workers()\n",
      "  File \"/voyager/projects/edebrouwer/.conda/envs/orthopoly/lib/python3.9/site-packages/torch/utils/data/dataloader.py\", line 1412, in _shutdown_workers\n",
      "    if not self._shutdown:\n",
      "AttributeError: '_MultiProcessingDataLoaderIter' object has no attribute '_shutdown'\n",
      "/voyager/projects/edebrouwer/.conda/envs/orthopoly/lib/python3.9/site-packages/pytorch_lightning/utilities/parsing.py:261: UserWarning: Attribute 'init_model' is an instance of `nn.Module` and is already saved during checkpointing. It is recommended to ignore them using `self.save_hyperparameters(ignore=['init_model'])`.\n",
      "  rank_zero_warn(\n"
     ]
    },
    {
     "name": "stdout",
     "output_type": "stream",
     "text": [
      "Pre-computing ODE Projection embeddings....\n"
     ]
    },
    {
     "name": "stderr",
     "output_type": "stream",
     "text": [
      "  0%|          | 0/20 [00:00<?, ?it/s]/voyager/projects/edebrouwer/.conda/envs/orthopoly/lib/python3.9/site-packages/torchdiffeq/_impl/fixed_adams.py:220: UserWarning: Functional iteration did not converge. Solution may be incorrect.\n",
      "  warnings.warn('Functional iteration did not converge. Solution may be incorrect.')\n",
      "100%|██████████| 20/20 [00:07<00:00,  2.82it/s]\n",
      "/voyager/projects/edebrouwer/.conda/envs/orthopoly/lib/python3.9/site-packages/pytorch_lightning/trainer/connectors/accelerator_connector.py:445: LightningDeprecationWarning: Setting `Trainer(gpus=1)` is deprecated in v1.7 and will be removed in v2.0. Please use `Trainer(accelerator='gpu', devices=1)` instead.\n",
      "  rank_zero_deprecation(\n",
      "/voyager/projects/edebrouwer/.conda/envs/orthopoly/lib/python3.9/site-packages/pytorch_lightning/loops/utilities.py:93: PossibleUserWarning: `max_epochs` was not set. Setting it to 1000 epochs. To train without an epoch limit, set `max_epochs=-1`.\n",
      "  rank_zero_warn(\n",
      "GPU available: True (cuda), used: True\n",
      "TPU available: False, using: 0 TPU cores\n",
      "IPU available: False, using: 0 IPUs\n",
      "HPU available: False, using: 0 HPUs\n",
      "/voyager/projects/edebrouwer/.conda/envs/orthopoly/lib/python3.9/site-packages/pytorch_lightning/utilities/parsing.py:107: UserWarning: attribute 'init_model' removed from hparams because it cannot be pickled\n",
      "  rank_zero_warn(f\"attribute '{k}' removed from hparams because it cannot be pickled\")\n",
      "LOCAL_RANK: 0 - CUDA_VISIBLE_DEVICES: [0,1,2,3]\n"
     ]
    },
    {
     "name": "stdout",
     "output_type": "stream",
     "text": [
      "Predicting DataLoader 0: 100%|██████████| 2/2 [00:00<00:00, 26.01it/s] \n"
     ]
    },
    {
     "name": "stderr",
     "output_type": "stream",
     "text": [
      "Exception ignored in: <function _MultiProcessingDataLoaderIter.__del__ at 0x7fda0ae6d280>\n",
      "Traceback (most recent call last):\n",
      "  File \"/voyager/projects/edebrouwer/.conda/envs/orthopoly/lib/python3.9/site-packages/torch/utils/data/dataloader.py\", line 1481, in __del__\n",
      "    self._shutdown_workers()\n",
      "  File \"/voyager/projects/edebrouwer/.conda/envs/orthopoly/lib/python3.9/site-packages/torch/utils/data/dataloader.py\", line 1412, in _shutdown_workers\n",
      "    if not self._shutdown:\n",
      "AttributeError: '_MultiProcessingDataLoaderIter' object has no attribute '_shutdown'\n",
      "Exception ignored in: <function _MultiProcessingDataLoaderIter.__del__ at 0x7fda0ae6d280>\n",
      "Traceback (most recent call last):\n",
      "  File \"/voyager/projects/edebrouwer/.conda/envs/orthopoly/lib/python3.9/site-packages/torch/utils/data/dataloader.py\", line 1481, in __del__\n",
      "    self._shutdown_workers()\n",
      "  File \"/voyager/projects/edebrouwer/.conda/envs/orthopoly/lib/python3.9/site-packages/torch/utils/data/dataloader.py\", line 1412, in _shutdown_workers\n",
      "    if not self._shutdown:\n",
      "AttributeError: '_MultiProcessingDataLoaderIter' object has no attribute '_shutdown'\n"
     ]
    },
    {
     "name": "stdout",
     "output_type": "stream",
     "text": [
      "Pre-computing ODE Projection embeddings....\n"
     ]
    },
    {
     "name": "stderr",
     "output_type": "stream",
     "text": [
      "100%|██████████| 20/20 [00:07<00:00,  2.77it/s]\n",
      "GPU available: True (cuda), used: True\n",
      "TPU available: False, using: 0 TPU cores\n",
      "IPU available: False, using: 0 IPUs\n",
      "HPU available: False, using: 0 HPUs\n",
      "LOCAL_RANK: 0 - CUDA_VISIBLE_DEVICES: [0,1,2,3]\n"
     ]
    },
    {
     "name": "stdout",
     "output_type": "stream",
     "text": [
      "Predicting DataLoader 0: 100%|██████████| 2/2 [00:00<00:00, 24.55it/s] \n",
      "Pre-computing ODE Projection embeddings....\n"
     ]
    },
    {
     "name": "stderr",
     "output_type": "stream",
     "text": [
      "  5%|▌         | 1/20 [00:00<00:07,  2.67it/s]Exception ignored in: <function _MultiProcessingDataLoaderIter.__del__ at 0x7fda0ae6d280>\n",
      "Traceback (most recent call last):\n",
      "  File \"/voyager/projects/edebrouwer/.conda/envs/orthopoly/lib/python3.9/site-packages/torch/utils/data/dataloader.py\", line 1481, in __del__\n",
      "    self._shutdown_workers()\n",
      "  File \"/voyager/projects/edebrouwer/.conda/envs/orthopoly/lib/python3.9/site-packages/torch/utils/data/dataloader.py\", line 1412, in _shutdown_workers\n",
      "    if not self._shutdown:\n",
      "AttributeError: '_MultiProcessingDataLoaderIter' object has no attribute '_shutdown'\n",
      "Exception ignored in: <function _MultiProcessingDataLoaderIter.__del__ at 0x7fda0ae6d280>\n",
      "Traceback (most recent call last):\n",
      "  File \"/voyager/projects/edebrouwer/.conda/envs/orthopoly/lib/python3.9/site-packages/torch/utils/data/dataloader.py\", line 1481, in __del__\n",
      "    self._shutdown_workers()\n",
      "  File \"/voyager/projects/edebrouwer/.conda/envs/orthopoly/lib/python3.9/site-packages/torch/utils/data/dataloader.py\", line 1412, in _shutdown_workers\n",
      "    if not self._shutdown:\n",
      "AttributeError: '_MultiProcessingDataLoaderIter' object has no attribute '_shutdown'\n",
      "100%|██████████| 20/20 [00:07<00:00,  2.85it/s]\n",
      "GPU available: True (cuda), used: True\n",
      "TPU available: False, using: 0 TPU cores\n",
      "IPU available: False, using: 0 IPUs\n",
      "HPU available: False, using: 0 HPUs\n",
      "LOCAL_RANK: 0 - CUDA_VISIBLE_DEVICES: [0,1,2,3]\n"
     ]
    },
    {
     "name": "stdout",
     "output_type": "stream",
     "text": [
      "Predicting DataLoader 0: 100%|██████████| 2/2 [00:00<00:00, 23.97it/s] \n"
     ]
    },
    {
     "name": "stderr",
     "output_type": "stream",
     "text": [
      "Exception ignored in: <function _MultiProcessingDataLoaderIter.__del__ at 0x7fda0ae6d280>\n",
      "Traceback (most recent call last):\n",
      "  File \"/voyager/projects/edebrouwer/.conda/envs/orthopoly/lib/python3.9/site-packages/torch/utils/data/dataloader.py\", line 1481, in __del__\n",
      "    self._shutdown_workers()\n",
      "  File \"/voyager/projects/edebrouwer/.conda/envs/orthopoly/lib/python3.9/site-packages/torch/utils/data/dataloader.py\", line 1412, in _shutdown_workers\n",
      "    if not self._shutdown:\n",
      "AttributeError: '_MultiProcessingDataLoaderIter' object has no attribute '_shutdown'\n",
      "Exception ignored in: <function _MultiProcessingDataLoaderIter.__del__ at 0x7fda0ae6d280>\n",
      "Traceback (most recent call last):\n",
      "  File \"/voyager/projects/edebrouwer/.conda/envs/orthopoly/lib/python3.9/site-packages/torch/utils/data/dataloader.py\", line 1481, in __del__\n",
      "    self._shutdown_workers()\n",
      "  File \"/voyager/projects/edebrouwer/.conda/envs/orthopoly/lib/python3.9/site-packages/torch/utils/data/dataloader.py\", line 1412, in _shutdown_workers\n",
      "    if not self._shutdown:\n",
      "AttributeError: '_MultiProcessingDataLoaderIter' object has no attribute '_shutdown'\n"
     ]
    },
    {
     "name": "stdout",
     "output_type": "stream",
     "text": [
      "Pre-computing ODE Projection embeddings....\n"
     ]
    },
    {
     "name": "stderr",
     "output_type": "stream",
     "text": [
      "100%|██████████| 20/20 [00:07<00:00,  2.83it/s]\n",
      "GPU available: True (cuda), used: True\n",
      "TPU available: False, using: 0 TPU cores\n",
      "IPU available: False, using: 0 IPUs\n",
      "HPU available: False, using: 0 HPUs\n",
      "LOCAL_RANK: 0 - CUDA_VISIBLE_DEVICES: [0,1,2,3]\n"
     ]
    },
    {
     "name": "stdout",
     "output_type": "stream",
     "text": [
      "Predicting DataLoader 0: 100%|██████████| 2/2 [00:00<00:00, 26.44it/s] \n",
      "Pre-computing ODE Projection embeddings....\n"
     ]
    },
    {
     "name": "stderr",
     "output_type": "stream",
     "text": [
      "  5%|▌         | 1/20 [00:00<00:07,  2.66it/s]Exception ignored in: <function _MultiProcessingDataLoaderIter.__del__ at 0x7fda0ae6d280>\n",
      "Traceback (most recent call last):\n",
      "  File \"/voyager/projects/edebrouwer/.conda/envs/orthopoly/lib/python3.9/site-packages/torch/utils/data/dataloader.py\", line 1481, in __del__\n",
      "    self._shutdown_workers()\n",
      "  File \"/voyager/projects/edebrouwer/.conda/envs/orthopoly/lib/python3.9/site-packages/torch/utils/data/dataloader.py\", line 1412, in _shutdown_workers\n",
      "    if not self._shutdown:\n",
      "AttributeError: '_MultiProcessingDataLoaderIter' object has no attribute '_shutdown'\n",
      "Exception ignored in: <function _MultiProcessingDataLoaderIter.__del__ at 0x7fda0ae6d280>\n",
      "Traceback (most recent call last):\n",
      "  File \"/voyager/projects/edebrouwer/.conda/envs/orthopoly/lib/python3.9/site-packages/torch/utils/data/dataloader.py\", line 1481, in __del__\n",
      "    self._shutdown_workers()\n",
      "  File \"/voyager/projects/edebrouwer/.conda/envs/orthopoly/lib/python3.9/site-packages/torch/utils/data/dataloader.py\", line 1412, in _shutdown_workers\n",
      "    if not self._shutdown:\n",
      "AttributeError: '_MultiProcessingDataLoaderIter' object has no attribute '_shutdown'\n",
      "100%|██████████| 20/20 [00:07<00:00,  2.78it/s]\n",
      "GPU available: True (cuda), used: True\n",
      "TPU available: False, using: 0 TPU cores\n",
      "IPU available: False, using: 0 IPUs\n",
      "HPU available: False, using: 0 HPUs\n",
      "LOCAL_RANK: 0 - CUDA_VISIBLE_DEVICES: [0,1,2,3]\n"
     ]
    },
    {
     "name": "stdout",
     "output_type": "stream",
     "text": [
      "Predicting DataLoader 0: 100%|██████████| 2/2 [00:00<00:00, 24.72it/s] \n"
     ]
    },
    {
     "name": "stderr",
     "output_type": "stream",
     "text": [
      "Exception ignored in: <function _MultiProcessingDataLoaderIter.__del__ at 0x7fda0ae6d280>\n",
      "Traceback (most recent call last):\n",
      "  File \"/voyager/projects/edebrouwer/.conda/envs/orthopoly/lib/python3.9/site-packages/torch/utils/data/dataloader.py\", line 1481, in __del__\n",
      "    self._shutdown_workers()\n",
      "  File \"/voyager/projects/edebrouwer/.conda/envs/orthopoly/lib/python3.9/site-packages/torch/utils/data/dataloader.py\", line 1412, in _shutdown_workers\n",
      "    if not self._shutdown:\n",
      "AttributeError: '_MultiProcessingDataLoaderIter' object has no attribute '_shutdown'\n",
      "Exception ignored in: <function _MultiProcessingDataLoaderIter.__del__ at 0x7fda0ae6d280>\n",
      "Traceback (most recent call last):\n",
      "  File \"/voyager/projects/edebrouwer/.conda/envs/orthopoly/lib/python3.9/site-packages/torch/utils/data/dataloader.py\", line 1481, in __del__\n",
      "    self._shutdown_workers()\n",
      "  File \"/voyager/projects/edebrouwer/.conda/envs/orthopoly/lib/python3.9/site-packages/torch/utils/data/dataloader.py\", line 1412, in _shutdown_workers\n",
      "    if not self._shutdown:\n",
      "AttributeError: '_MultiProcessingDataLoaderIter' object has no attribute '_shutdown'\n"
     ]
    },
    {
     "name": "stdout",
     "output_type": "stream",
     "text": [
      "Pre-computing ODE Projection embeddings....\n"
     ]
    },
    {
     "name": "stderr",
     "output_type": "stream",
     "text": [
      "100%|██████████| 20/20 [00:07<00:00,  2.83it/s]\n",
      "GPU available: True (cuda), used: True\n",
      "TPU available: False, using: 0 TPU cores\n",
      "IPU available: False, using: 0 IPUs\n",
      "HPU available: False, using: 0 HPUs\n",
      "LOCAL_RANK: 0 - CUDA_VISIBLE_DEVICES: [0,1,2,3]\n"
     ]
    },
    {
     "name": "stdout",
     "output_type": "stream",
     "text": [
      "Predicting DataLoader 0: 100%|██████████| 2/2 [00:00<00:00, 26.27it/s] \n",
      "Pre-computing ODE Projection embeddings....\n"
     ]
    },
    {
     "name": "stderr",
     "output_type": "stream",
     "text": [
      "  0%|          | 0/20 [00:00<?, ?it/s]Exception ignored in: <function _MultiProcessingDataLoaderIter.__del__ at 0x7fda0ae6d280>\n",
      "Traceback (most recent call last):\n",
      "  File \"/voyager/projects/edebrouwer/.conda/envs/orthopoly/lib/python3.9/site-packages/torch/utils/data/dataloader.py\", line 1481, in __del__\n",
      "    self._shutdown_workers()\n",
      "  File \"/voyager/projects/edebrouwer/.conda/envs/orthopoly/lib/python3.9/site-packages/torch/utils/data/dataloader.py\", line 1412, in _shutdown_workers\n",
      "    if not self._shutdown:\n",
      "AttributeError: '_MultiProcessingDataLoaderIter' object has no attribute '_shutdown'\n",
      "Exception ignored in: <function _MultiProcessingDataLoaderIter.__del__ at 0x7fda0ae6d280>\n",
      "Traceback (most recent call last):\n",
      "  File \"/voyager/projects/edebrouwer/.conda/envs/orthopoly/lib/python3.9/site-packages/torch/utils/data/dataloader.py\", line 1481, in __del__\n",
      "    self._shutdown_workers()\n",
      "  File \"/voyager/projects/edebrouwer/.conda/envs/orthopoly/lib/python3.9/site-packages/torch/utils/data/dataloader.py\", line 1412, in _shutdown_workers\n",
      "    if not self._shutdown:\n",
      "AttributeError: '_MultiProcessingDataLoaderIter' object has no attribute '_shutdown'\n",
      "100%|██████████| 20/20 [00:07<00:00,  2.82it/s]\n",
      "GPU available: True (cuda), used: True\n",
      "TPU available: False, using: 0 TPU cores\n",
      "IPU available: False, using: 0 IPUs\n",
      "HPU available: False, using: 0 HPUs\n",
      "LOCAL_RANK: 0 - CUDA_VISIBLE_DEVICES: [0,1,2,3]\n"
     ]
    },
    {
     "name": "stdout",
     "output_type": "stream",
     "text": [
      "Predicting DataLoader 0: 100%|██████████| 2/2 [00:00<00:00, 23.71it/s] \n"
     ]
    },
    {
     "name": "stderr",
     "output_type": "stream",
     "text": [
      "Exception ignored in: <function _MultiProcessingDataLoaderIter.__del__ at 0x7fda0ae6d280>\n",
      "Traceback (most recent call last):\n",
      "  File \"/voyager/projects/edebrouwer/.conda/envs/orthopoly/lib/python3.9/site-packages/torch/utils/data/dataloader.py\", line 1481, in __del__\n",
      "    self._shutdown_workers()\n",
      "  File \"/voyager/projects/edebrouwer/.conda/envs/orthopoly/lib/python3.9/site-packages/torch/utils/data/dataloader.py\", line 1412, in _shutdown_workers\n",
      "    if not self._shutdown:\n",
      "AttributeError: '_MultiProcessingDataLoaderIter' object has no attribute '_shutdown'\n",
      "Exception ignored in: <function _MultiProcessingDataLoaderIter.__del__ at 0x7fda0ae6d280>\n",
      "Traceback (most recent call last):\n",
      "  File \"/voyager/projects/edebrouwer/.conda/envs/orthopoly/lib/python3.9/site-packages/torch/utils/data/dataloader.py\", line 1481, in __del__\n",
      "    self._shutdown_workers()\n",
      "  File \"/voyager/projects/edebrouwer/.conda/envs/orthopoly/lib/python3.9/site-packages/torch/utils/data/dataloader.py\", line 1412, in _shutdown_workers\n",
      "    if not self._shutdown:\n",
      "AttributeError: '_MultiProcessingDataLoaderIter' object has no attribute '_shutdown'\n"
     ]
    },
    {
     "name": "stdout",
     "output_type": "stream",
     "text": [
      "Pre-computing ODE Projection embeddings....\n"
     ]
    },
    {
     "name": "stderr",
     "output_type": "stream",
     "text": [
      "100%|██████████| 20/20 [00:07<00:00,  2.86it/s]\n",
      "GPU available: True (cuda), used: True\n",
      "TPU available: False, using: 0 TPU cores\n",
      "IPU available: False, using: 0 IPUs\n",
      "HPU available: False, using: 0 HPUs\n",
      "LOCAL_RANK: 0 - CUDA_VISIBLE_DEVICES: [0,1,2,3]\n"
     ]
    },
    {
     "name": "stdout",
     "output_type": "stream",
     "text": [
      "Predicting DataLoader 0: 100%|██████████| 2/2 [00:00<00:00, 23.34it/s] \n",
      "Pre-computing ODE Projection embeddings....\n"
     ]
    },
    {
     "name": "stderr",
     "output_type": "stream",
     "text": [
      "  0%|          | 0/20 [00:00<?, ?it/s]Exception ignored in: <function _MultiProcessingDataLoaderIter.__del__ at 0x7fda0ae6d280>\n",
      "Traceback (most recent call last):\n",
      "  File \"/voyager/projects/edebrouwer/.conda/envs/orthopoly/lib/python3.9/site-packages/torch/utils/data/dataloader.py\", line 1481, in __del__\n",
      "    self._shutdown_workers()\n",
      "  File \"/voyager/projects/edebrouwer/.conda/envs/orthopoly/lib/python3.9/site-packages/torch/utils/data/dataloader.py\", line 1412, in _shutdown_workers\n",
      "    if not self._shutdown:\n",
      "AttributeError: '_MultiProcessingDataLoaderIter' object has no attribute '_shutdown'\n",
      "Exception ignored in: <function _MultiProcessingDataLoaderIter.__del__ at 0x7fda0ae6d280>\n",
      "Traceback (most recent call last):\n",
      "  File \"/voyager/projects/edebrouwer/.conda/envs/orthopoly/lib/python3.9/site-packages/torch/utils/data/dataloader.py\", line 1481, in __del__\n",
      "    self._shutdown_workers()\n",
      "  File \"/voyager/projects/edebrouwer/.conda/envs/orthopoly/lib/python3.9/site-packages/torch/utils/data/dataloader.py\", line 1412, in _shutdown_workers\n",
      "    if not self._shutdown:\n",
      "AttributeError: '_MultiProcessingDataLoaderIter' object has no attribute '_shutdown'\n",
      "100%|██████████| 20/20 [00:07<00:00,  2.81it/s]\n",
      "GPU available: True (cuda), used: True\n",
      "TPU available: False, using: 0 TPU cores\n",
      "IPU available: False, using: 0 IPUs\n",
      "HPU available: False, using: 0 HPUs\n",
      "LOCAL_RANK: 0 - CUDA_VISIBLE_DEVICES: [0,1,2,3]\n"
     ]
    },
    {
     "name": "stdout",
     "output_type": "stream",
     "text": [
      "Predicting DataLoader 0: 100%|██████████| 2/2 [00:00<00:00, 25.33it/s] \n",
      "{'0.3': [tensor(0.0486), tensor(0.0368), tensor(0.0287)], '0.4': [tensor(0.0249), tensor(0.0213), tensor(0.0167)], '0.5': [tensor(0.0132), tensor(0.0093), tensor(0.0115)]}\n",
      "{'0.3': '$0.038 \\\\pm 0.008$', '0.4': '$0.021 \\\\pm 0.003$', '0.5': '$0.011 \\\\pm 0.002$'}\n"
     ]
    }
   ],
   "source": [
    "sweep_id = \"apwiz3xd\"\n",
    "regression_mode = True\n",
    "api= wandb.Api()\n",
    "sweep = api.sweep(\"edebrouwer/orthopoly/\"+sweep_id)\n",
    "#init_sweep_id = \"edebrouwer/orthopoly/t77q79lw\"\n",
    "runs = sweep.runs\n",
    "\n",
    "model_cls = CNODExtClassification\n",
    "init_model_cls = CNODExt\n",
    "irregular_rates = [0.3, 0.4, 0.5]\n",
    "#irregular_rates = [0.7, 0.8, 0.9, 1.0]\n",
    "#irregular_rates = [1.0]\n",
    "device = torch.device(\"cuda\")\n",
    "seed = 421\n",
    "acc_dict = {}\n",
    "\n",
    "def data_cls_choice(data_type, init_model):\n",
    "    if data_type == \"SimpleTraj\":\n",
    "        data_cls = SimpleTrajDataModule(**init_model.hparams)\n",
    "    elif data_type == \"pMNIST\":\n",
    "        data_cls = pMNISTDataModule(**init_model.hparams)\n",
    "    elif data_type == \"Character\":\n",
    "        data_cls = CharacterTrajDataModule(**init_model.hparams)\n",
    "    elif data_type == \"MIMIC\":\n",
    "        data_cls = MIMICDataModule(**init_model.hparams)\n",
    "    elif data_type == \"Lorenz\":\n",
    "        data_cls = LorenzDataModule(**init_model.hparams)\n",
    "    return data_cls\n",
    "\n",
    "for irregular_rate in irregular_rates:\n",
    "    \n",
    "    accs_ = []\n",
    "    run_sub = [r for r in runs if (r.config[\"irregular_rate\"]==irregular_rate)   and  (r.config.get(\"regression_mode\",False)==regression_mode) ]\n",
    "\n",
    "    for run in run_sub:\n",
    "        fname = [f.name for f in run.files() if \"ckpt\" in f.name][0]\n",
    "        run.file(fname).download(replace = True, root = \".\")\n",
    "         \n",
    "        checkpoint = torch.load(\n",
    "        fname, map_location=lambda storage, loc: storage)\n",
    "        checkpoint[\"hyper_parameters\"].pop(\"callbacks\", None)\n",
    "        checkpoint[\"hyper_parameters\"].pop(\"logger\", None)\n",
    "        checkpoint[\"hyper_parameters\"].pop(\"wandb_id_file_path\", None)\n",
    "        checkpoint.pop(\"callbacks\",None)\n",
    "        checkpoint_ = {\"state_dict\":checkpoint[\"state_dict\"],\"hyper_parameters\":checkpoint[\"hyper_parameters\"]}\n",
    "        checkpoint_[\"hyper_parameters\"].pop(\"init_model\",None)\n",
    "\n",
    "        init_model = get_init_model(checkpoint[\"hyper_parameters\"][\"init_sweep_id\"],init_model_cls,checkpoint[\"hyper_parameters\"][\"irregular_rate\"],checkpoint[\"hyper_parameters\"][\"seed\"],checkpoint[\"hyper_parameters\"].get(\"multivariate\", False))\n",
    "        \n",
    "        model = _load_state(model_cls, checkpoint_,init_model = init_model).to(device)\n",
    "               \n",
    "        os.remove(fname)\n",
    "        \n",
    "        dataset = data_cls_choice(model.hparams.data_type, init_model = model)\n",
    "        dataset.set_test_only()\n",
    "        dataset.prepare_data()\n",
    "    \n",
    "        trainer = pl.Trainer(gpus=1,logger = None)\n",
    "        \n",
    "        outputs = trainer.predict(model,dataset.test_dataloader())\n",
    "\n",
    "        preds = torch.cat([x[\"preds\"] for x in outputs])\n",
    "        Y = torch.cat([x[\"Y\"] for x in outputs])\n",
    "        T = torch.cat([x[\"T\"] for x in outputs])\n",
    "        labels = torch.cat([x[\"labels\"] for x in outputs])\n",
    "        \n",
    "        if checkpoint[\"hyper_parameters\"].get(\"regression_mode\",False):\n",
    "            accuracy = torch.nn.MSELoss()(preds,labels)\n",
    "        else:\n",
    "            if len(preds.shape)>1:\n",
    "                preds = torch.nn.functional.softmax(preds, dim=-1).argmax(-1)\n",
    "                accuracy = accuracy_score(labels.long().cpu().numpy(), preds.cpu().numpy())\n",
    "            else:\n",
    "                accuracy = roc_auc_score(labels.long().cpu().numpy(),preds.cpu().numpy())\n",
    "        \n",
    "        accs_.append(accuracy)\n",
    "    \n",
    "    acc_dict[f\"{irregular_rate}\"]=accs_\n",
    "print(acc_dict)\n",
    "print(process_dict(acc_dict))"
   ]
  },
  {
   "cell_type": "markdown",
   "id": "de79458d-0ba5-4185-9a05-53d912c6f160",
   "metadata": {
    "jp-MarkdownHeadingCollapsed": true,
    "tags": []
   },
   "source": [
    "## Hippo"
   ]
  },
  {
   "cell_type": "code",
   "execution_count": 3,
   "id": "2d5db15a-1802-4adc-893a-26569269f0d3",
   "metadata": {},
   "outputs": [
    {
     "name": "stderr",
     "output_type": "stream",
     "text": [
      "/voyager/projects/edebrouwer/.conda/envs/orthopoly/lib/python3.9/site-packages/pytorch_lightning/trainer/connectors/accelerator_connector.py:445: LightningDeprecationWarning: Setting `Trainer(gpus=1)` is deprecated in v1.7 and will be removed in v2.0. Please use `Trainer(accelerator='gpu', devices=1)` instead.\n",
      "  rank_zero_deprecation(\n",
      "/voyager/projects/edebrouwer/.conda/envs/orthopoly/lib/python3.9/site-packages/pytorch_lightning/loops/utilities.py:93: PossibleUserWarning: `max_epochs` was not set. Setting it to 1000 epochs. To train without an epoch limit, set `max_epochs=-1`.\n",
      "  rank_zero_warn(\n",
      "GPU available: True (cuda), used: True\n",
      "TPU available: False, using: 0 TPU cores\n",
      "IPU available: False, using: 0 IPUs\n",
      "HPU available: False, using: 0 HPUs\n",
      "LOCAL_RANK: 0 - CUDA_VISIBLE_DEVICES: [0,1,2,3]\n"
     ]
    },
    {
     "name": "stdout",
     "output_type": "stream",
     "text": [
      "Predicting DataLoader 0: 100%|██████████| 2/2 [00:00<00:00,  7.07it/s]\n"
     ]
    },
    {
     "name": "stderr",
     "output_type": "stream",
     "text": [
      "/voyager/projects/edebrouwer/.conda/envs/orthopoly/lib/python3.9/site-packages/torch/nn/modules/loss.py:530: UserWarning: Using a target size (torch.Size([250])) that is different to the input size (torch.Size([250, 1])). This will likely lead to incorrect results due to broadcasting. Please ensure they have the same size.\n",
      "  return F.mse_loss(input, target, reduction=self.reduction)\n",
      "GPU available: True (cuda), used: True\n",
      "TPU available: False, using: 0 TPU cores\n",
      "IPU available: False, using: 0 IPUs\n",
      "HPU available: False, using: 0 HPUs\n",
      "LOCAL_RANK: 0 - CUDA_VISIBLE_DEVICES: [0,1,2,3]\n"
     ]
    },
    {
     "name": "stdout",
     "output_type": "stream",
     "text": [
      "Predicting DataLoader 0: 100%|██████████| 2/2 [00:00<00:00,  5.47it/s]\n"
     ]
    },
    {
     "name": "stderr",
     "output_type": "stream",
     "text": [
      "GPU available: True (cuda), used: True\n",
      "TPU available: False, using: 0 TPU cores\n",
      "IPU available: False, using: 0 IPUs\n",
      "HPU available: False, using: 0 HPUs\n",
      "LOCAL_RANK: 0 - CUDA_VISIBLE_DEVICES: [0,1,2,3]\n"
     ]
    },
    {
     "name": "stdout",
     "output_type": "stream",
     "text": [
      "Predicting DataLoader 0: 100%|██████████| 2/2 [00:00<00:00,  5.78it/s]\n"
     ]
    },
    {
     "name": "stderr",
     "output_type": "stream",
     "text": [
      "GPU available: True (cuda), used: True\n",
      "TPU available: False, using: 0 TPU cores\n",
      "IPU available: False, using: 0 IPUs\n",
      "HPU available: False, using: 0 HPUs\n",
      "LOCAL_RANK: 0 - CUDA_VISIBLE_DEVICES: [0,1,2,3]\n"
     ]
    },
    {
     "name": "stdout",
     "output_type": "stream",
     "text": [
      "Predicting DataLoader 0: 100%|██████████| 2/2 [00:00<00:00,  6.51it/s]\n"
     ]
    },
    {
     "name": "stderr",
     "output_type": "stream",
     "text": [
      "GPU available: True (cuda), used: True\n",
      "TPU available: False, using: 0 TPU cores\n",
      "IPU available: False, using: 0 IPUs\n",
      "HPU available: False, using: 0 HPUs\n",
      "LOCAL_RANK: 0 - CUDA_VISIBLE_DEVICES: [0,1,2,3]\n"
     ]
    },
    {
     "name": "stdout",
     "output_type": "stream",
     "text": [
      "Predicting DataLoader 0: 100%|██████████| 2/2 [00:00<00:00,  5.86it/s]\n"
     ]
    },
    {
     "name": "stderr",
     "output_type": "stream",
     "text": [
      "GPU available: True (cuda), used: True\n",
      "TPU available: False, using: 0 TPU cores\n",
      "IPU available: False, using: 0 IPUs\n",
      "HPU available: False, using: 0 HPUs\n",
      "LOCAL_RANK: 0 - CUDA_VISIBLE_DEVICES: [0,1,2,3]\n"
     ]
    },
    {
     "name": "stdout",
     "output_type": "stream",
     "text": [
      "Predicting DataLoader 0: 100%|██████████| 2/2 [00:00<00:00,  6.81it/s]\n"
     ]
    },
    {
     "name": "stderr",
     "output_type": "stream",
     "text": [
      "GPU available: True (cuda), used: True\n",
      "TPU available: False, using: 0 TPU cores\n",
      "IPU available: False, using: 0 IPUs\n",
      "HPU available: False, using: 0 HPUs\n",
      "LOCAL_RANK: 0 - CUDA_VISIBLE_DEVICES: [0,1,2,3]\n"
     ]
    },
    {
     "name": "stdout",
     "output_type": "stream",
     "text": [
      "Predicting DataLoader 0: 100%|██████████| 2/2 [00:00<00:00,  6.55it/s]\n"
     ]
    },
    {
     "name": "stderr",
     "output_type": "stream",
     "text": [
      "GPU available: True (cuda), used: True\n",
      "TPU available: False, using: 0 TPU cores\n",
      "IPU available: False, using: 0 IPUs\n",
      "HPU available: False, using: 0 HPUs\n",
      "LOCAL_RANK: 0 - CUDA_VISIBLE_DEVICES: [0,1,2,3]\n"
     ]
    },
    {
     "name": "stdout",
     "output_type": "stream",
     "text": [
      "Predicting DataLoader 0: 100%|██████████| 2/2 [00:00<00:00,  6.72it/s]\n"
     ]
    },
    {
     "name": "stderr",
     "output_type": "stream",
     "text": [
      "GPU available: True (cuda), used: True\n",
      "TPU available: False, using: 0 TPU cores\n",
      "IPU available: False, using: 0 IPUs\n",
      "HPU available: False, using: 0 HPUs\n",
      "LOCAL_RANK: 0 - CUDA_VISIBLE_DEVICES: [0,1,2,3]\n"
     ]
    },
    {
     "name": "stdout",
     "output_type": "stream",
     "text": [
      "Predicting DataLoader 0: 100%|██████████| 2/2 [00:00<00:00,  6.99it/s]\n",
      "{'0.3': [tensor(1.9604), tensor(1.8589), tensor(2.0101)], '0.4': [tensor(1.9190), tensor(1.8837), tensor(1.5984)], '0.5': [tensor(1.7212), tensor(1.7034), tensor(1.6540)]}\n",
      "{'0.3': '$1.943 \\\\pm 0.063$', '0.4': '$1.800 \\\\pm 0.144$', '0.5': '$1.693 \\\\pm 0.028$'}\n"
     ]
    }
   ],
   "source": [
    "sweep_id = \"vzu6ezhf\"\n",
    "multivariate = None\n",
    "regression_mode = True\n",
    "api= wandb.Api()\n",
    "sweep = api.sweep(\"edebrouwer/orthopoly/\"+sweep_id)\n",
    "runs = sweep.runs\n",
    "\n",
    "model_cls = HIPPO\n",
    "\n",
    "irregular_rates = [0.3, 0.4, 0.5]\n",
    "#irregular_rates= [0.7,0.8,0.9,1.0]\n",
    "#irregular_rates = [1.0]\n",
    "seed = 421\n",
    "acc_dict = {}\n",
    "\n",
    "def data_cls_choice(data_type):\n",
    "    if \"forecast_mode\" in model.hparams:\n",
    "        model.hparams.pop(\"forecast_mode\")\n",
    "    if data_type == \"SimpleTraj\":\n",
    "        data_cls = SimpleTrajDataModule(**model.hparams, forecast_mode=True)\n",
    "    elif data_type == \"pMNIST\":\n",
    "        data_cls = pMNISTDataModule(**model.hparams, forecast_mode=True)\n",
    "    elif data_type == \"Character\":\n",
    "        data_cls = CharacterTrajDataModule(**model.hparams, forecast_mode = True)\n",
    "    elif data_type == \"Lorenz\":\n",
    "        data_cls = LorenzDataModule(**model.hparams,forecast_mode = True)\n",
    "    elif data_type == \"MIMIC\":\n",
    "        data_cls = MIMICDataModule(**model.hparams, forecast_mode = True)\n",
    "    return data_cls\n",
    "\n",
    "for irregular_rate in irregular_rates:\n",
    "    \n",
    "    accs_ = []\n",
    "    run_sub = [r for r in runs if (r.config[\"irregular_rate\"]==irregular_rate) and (r.config.get(\"multivariate\",None)==multivariate) and (r.config.get(\"regression_mode\",False)==regression_mode)]\n",
    "\n",
    "    for run in run_sub:\n",
    "        fname = [f.name for f in run.files() if \"ckpt\" in f.name][0]\n",
    "        run.file(fname).download(replace = True, root = \".\")\n",
    "        checkpoint = torch.load(fname, map_location=lambda storage, loc: storage)\n",
    "        hparams = checkpoint[\"hyper_parameters\"]\n",
    "        model = model_cls.load_from_checkpoint(fname,num_dims = hparams.get(\"num_dims\",1))\n",
    "        os.remove(fname)\n",
    "        dataset = data_cls_choice(model.hparams.data_type)\n",
    "        dataset.prepare_data()\n",
    "        \n",
    "        trainer = pl.Trainer(gpus=1)\n",
    "        outputs = trainer.predict(model,dataset.test_dataloader())\n",
    "\n",
    "        preds = torch.cat([x[\"preds\"] for x in outputs])\n",
    "        #Y = torch.cat([x[\"Y\"] for x in outputs])\n",
    "        #T = torch.cat([x[\"T\"] for x in outputs])\n",
    "        labels = torch.cat([x[\"labels\"] for x in outputs])\n",
    "        \n",
    "        if checkpoint[\"hyper_parameters\"].get(\"regression_mode\",False):\n",
    "            import ipdb; ipdb.set_trace()\n",
    "            accuracy = torch.nn.MSELoss()(preds,labels)\n",
    "        else:\n",
    "            #if len(preds.shape)>1:\n",
    "            #    preds = torch.nn.functional.softmax(preds, dim=-1).argmax(-1)\n",
    "            #    accuracy = accuracy_score(labels.long().cpu().numpy(), preds.cpu().numpy())\n",
    "            #else:\n",
    "            accuracy = roc_auc_score(labels.long().cpu().numpy(),preds.cpu().numpy())\n",
    "            print(accuracy)\n",
    "            #print(accuracy)\n",
    "        \n",
    "        accs_.append(accuracy)\n",
    "    \n",
    "    acc_dict[f\"{irregular_rate}\"]=accs_\n",
    "print(acc_dict)\n",
    "print(process_dict(acc_dict))"
   ]
  },
  {
   "cell_type": "markdown",
   "id": "fc2e373d",
   "metadata": {},
   "source": [
    "## Hippo-RNN"
   ]
  },
  {
   "cell_type": "code",
   "execution_count": 14,
   "id": "0035796c",
   "metadata": {},
   "outputs": [
    {
     "name": "stderr",
     "output_type": "stream",
     "text": [
      "Exception ignored in: <function _MultiProcessingDataLoaderIter.__del__ at 0x7fda0ae6d280>\n",
      "Traceback (most recent call last):\n",
      "  File \"/voyager/projects/edebrouwer/.conda/envs/orthopoly/lib/python3.9/site-packages/torch/utils/data/dataloader.py\", line 1481, in __del__\n",
      "    self._shutdown_workers()\n",
      "  File \"/voyager/projects/edebrouwer/.conda/envs/orthopoly/lib/python3.9/site-packages/torch/utils/data/dataloader.py\", line 1412, in _shutdown_workers\n",
      "    if not self._shutdown:\n",
      "AttributeError: '_MultiProcessingDataLoaderIter' object has no attribute '_shutdown'\n",
      "Exception ignored in: <function _MultiProcessingDataLoaderIter.__del__ at 0x7fda0ae6d280>\n",
      "Traceback (most recent call last):\n",
      "  File \"/voyager/projects/edebrouwer/.conda/envs/orthopoly/lib/python3.9/site-packages/torch/utils/data/dataloader.py\", line 1481, in __del__\n",
      "    self._shutdown_workers()\n",
      "  File \"/voyager/projects/edebrouwer/.conda/envs/orthopoly/lib/python3.9/site-packages/torch/utils/data/dataloader.py\", line 1412, in _shutdown_workers\n",
      "    if not self._shutdown:\n",
      "AttributeError: '_MultiProcessingDataLoaderIter' object has no attribute '_shutdown'\n",
      "/voyager/projects/edebrouwer/.conda/envs/orthopoly/lib/python3.9/site-packages/pytorch_lightning/utilities/parsing.py:261: UserWarning: Attribute 'init_model' is an instance of `nn.Module` and is already saved during checkpointing. It is recommended to ignore them using `self.save_hyperparameters(ignore=['init_model'])`.\n",
      "  rank_zero_warn(\n"
     ]
    },
    {
     "name": "stdout",
     "output_type": "stream",
     "text": [
      "Pre-computing ODE Projection embeddings....\n"
     ]
    },
    {
     "name": "stderr",
     "output_type": "stream",
     "text": [
      "100%|██████████| 20/20 [00:03<00:00,  6.13it/s]\n",
      "/voyager/projects/edebrouwer/.conda/envs/orthopoly/lib/python3.9/site-packages/pytorch_lightning/trainer/connectors/accelerator_connector.py:445: LightningDeprecationWarning: Setting `Trainer(gpus=1)` is deprecated in v1.7 and will be removed in v2.0. Please use `Trainer(accelerator='gpu', devices=1)` instead.\n",
      "  rank_zero_deprecation(\n",
      "/voyager/projects/edebrouwer/.conda/envs/orthopoly/lib/python3.9/site-packages/pytorch_lightning/loops/utilities.py:93: PossibleUserWarning: `max_epochs` was not set. Setting it to 1000 epochs. To train without an epoch limit, set `max_epochs=-1`.\n",
      "  rank_zero_warn(\n",
      "GPU available: True (cuda), used: True\n",
      "TPU available: False, using: 0 TPU cores\n",
      "IPU available: False, using: 0 IPUs\n",
      "HPU available: False, using: 0 HPUs\n",
      "LOCAL_RANK: 0 - CUDA_VISIBLE_DEVICES: [0,1,2,3]\n"
     ]
    },
    {
     "name": "stdout",
     "output_type": "stream",
     "text": [
      "Predicting DataLoader 0: 100%|██████████| 2/2 [00:00<00:00, 11.05it/s] \n"
     ]
    },
    {
     "name": "stderr",
     "output_type": "stream",
     "text": [
      "Exception ignored in: <function _MultiProcessingDataLoaderIter.__del__ at 0x7fda0ae6d280>\n",
      "Traceback (most recent call last):\n",
      "  File \"/voyager/projects/edebrouwer/.conda/envs/orthopoly/lib/python3.9/site-packages/torch/utils/data/dataloader.py\", line 1481, in __del__\n",
      "    self._shutdown_workers()\n",
      "  File \"/voyager/projects/edebrouwer/.conda/envs/orthopoly/lib/python3.9/site-packages/torch/utils/data/dataloader.py\", line 1412, in _shutdown_workers\n",
      "    if not self._shutdown:\n",
      "AttributeError: '_MultiProcessingDataLoaderIter' object has no attribute '_shutdown'\n",
      "Exception ignored in: <function _MultiProcessingDataLoaderIter.__del__ at 0x7fda0ae6d280>\n",
      "Traceback (most recent call last):\n",
      "  File \"/voyager/projects/edebrouwer/.conda/envs/orthopoly/lib/python3.9/site-packages/torch/utils/data/dataloader.py\", line 1481, in __del__\n",
      "    self._shutdown_workers()\n",
      "  File \"/voyager/projects/edebrouwer/.conda/envs/orthopoly/lib/python3.9/site-packages/torch/utils/data/dataloader.py\", line 1412, in _shutdown_workers\n",
      "    if not self._shutdown:\n",
      "AttributeError: '_MultiProcessingDataLoaderIter' object has no attribute '_shutdown'\n",
      "Exception ignored in: <function _MultiProcessingDataLoaderIter.__del__ at 0x7fda0ae6d280>\n",
      "Traceback (most recent call last):\n",
      "  File \"/voyager/projects/edebrouwer/.conda/envs/orthopoly/lib/python3.9/site-packages/torch/utils/data/dataloader.py\", line 1481, in __del__\n",
      "    self._shutdown_workers()\n",
      "  File \"/voyager/projects/edebrouwer/.conda/envs/orthopoly/lib/python3.9/site-packages/torch/utils/data/dataloader.py\", line 1412, in _shutdown_workers\n",
      "    if not self._shutdown:\n",
      "AttributeError: '_MultiProcessingDataLoaderIter' object has no attribute '_shutdown'\n",
      "Exception ignored in: <function _MultiProcessingDataLoaderIter.__del__ at 0x7fda0ae6d280>\n",
      "Traceback (most recent call last):\n",
      "  File \"/voyager/projects/edebrouwer/.conda/envs/orthopoly/lib/python3.9/site-packages/torch/utils/data/dataloader.py\", line 1481, in __del__\n",
      "    self._shutdown_workers()\n",
      "  File \"/voyager/projects/edebrouwer/.conda/envs/orthopoly/lib/python3.9/site-packages/torch/utils/data/dataloader.py\", line 1412, in _shutdown_workers\n",
      "    if not self._shutdown:\n",
      "AttributeError: '_MultiProcessingDataLoaderIter' object has no attribute '_shutdown'\n"
     ]
    },
    {
     "name": "stdout",
     "output_type": "stream",
     "text": [
      "Pre-computing ODE Projection embeddings....\n"
     ]
    },
    {
     "name": "stderr",
     "output_type": "stream",
     "text": [
      "100%|██████████| 20/20 [00:02<00:00,  9.14it/s]\n",
      "GPU available: True (cuda), used: True\n",
      "TPU available: False, using: 0 TPU cores\n",
      "IPU available: False, using: 0 IPUs\n",
      "HPU available: False, using: 0 HPUs\n",
      "LOCAL_RANK: 0 - CUDA_VISIBLE_DEVICES: [0,1,2,3]\n"
     ]
    },
    {
     "name": "stdout",
     "output_type": "stream",
     "text": [
      "Predicting DataLoader 0: 100%|██████████| 2/2 [00:00<00:00, 10.95it/s] \n",
      "Pre-computing ODE Projection embeddings....\n"
     ]
    },
    {
     "name": "stderr",
     "output_type": "stream",
     "text": [
      "100%|██████████| 20/20 [00:02<00:00,  7.25it/s]\n",
      "GPU available: True (cuda), used: True\n",
      "TPU available: False, using: 0 TPU cores\n",
      "IPU available: False, using: 0 IPUs\n",
      "HPU available: False, using: 0 HPUs\n",
      "LOCAL_RANK: 0 - CUDA_VISIBLE_DEVICES: [0,1,2,3]\n"
     ]
    },
    {
     "name": "stdout",
     "output_type": "stream",
     "text": [
      "Predicting DataLoader 0: 100%|██████████| 2/2 [00:00<00:00, 12.14it/s] \n"
     ]
    },
    {
     "name": "stderr",
     "output_type": "stream",
     "text": [
      "Exception ignored in: <function _MultiProcessingDataLoaderIter.__del__ at 0x7fda0ae6d280>\n",
      "Traceback (most recent call last):\n",
      "  File \"/voyager/projects/edebrouwer/.conda/envs/orthopoly/lib/python3.9/site-packages/torch/utils/data/dataloader.py\", line 1481, in __del__\n",
      "    self._shutdown_workers()\n",
      "  File \"/voyager/projects/edebrouwer/.conda/envs/orthopoly/lib/python3.9/site-packages/torch/utils/data/dataloader.py\", line 1412, in _shutdown_workers\n",
      "    if not self._shutdown:\n",
      "AttributeError: '_MultiProcessingDataLoaderIter' object has no attribute '_shutdown'\n",
      "Exception ignored in: <function _MultiProcessingDataLoaderIter.__del__ at 0x7fda0ae6d280>\n",
      "Traceback (most recent call last):\n",
      "  File \"/voyager/projects/edebrouwer/.conda/envs/orthopoly/lib/python3.9/site-packages/torch/utils/data/dataloader.py\", line 1481, in __del__\n",
      "    self._shutdown_workers()\n",
      "  File \"/voyager/projects/edebrouwer/.conda/envs/orthopoly/lib/python3.9/site-packages/torch/utils/data/dataloader.py\", line 1412, in _shutdown_workers\n",
      "    if not self._shutdown:\n",
      "AttributeError: '_MultiProcessingDataLoaderIter' object has no attribute '_shutdown'\n",
      "Exception ignored in: <function _MultiProcessingDataLoaderIter.__del__ at 0x7fda0ae6d280>\n",
      "Traceback (most recent call last):\n",
      "  File \"/voyager/projects/edebrouwer/.conda/envs/orthopoly/lib/python3.9/site-packages/torch/utils/data/dataloader.py\", line 1481, in __del__\n",
      "    self._shutdown_workers()\n",
      "  File \"/voyager/projects/edebrouwer/.conda/envs/orthopoly/lib/python3.9/site-packages/torch/utils/data/dataloader.py\", line 1412, in _shutdown_workers\n",
      "    if not self._shutdown:\n",
      "AttributeError: '_MultiProcessingDataLoaderIter' object has no attribute '_shutdown'\n",
      "Exception ignored in: <function _MultiProcessingDataLoaderIter.__del__ at 0x7fda0ae6d280>\n",
      "Traceback (most recent call last):\n",
      "  File \"/voyager/projects/edebrouwer/.conda/envs/orthopoly/lib/python3.9/site-packages/torch/utils/data/dataloader.py\", line 1481, in __del__\n",
      "    self._shutdown_workers()\n",
      "  File \"/voyager/projects/edebrouwer/.conda/envs/orthopoly/lib/python3.9/site-packages/torch/utils/data/dataloader.py\", line 1412, in _shutdown_workers\n",
      "    if not self._shutdown:\n",
      "AttributeError: '_MultiProcessingDataLoaderIter' object has no attribute '_shutdown'\n"
     ]
    },
    {
     "name": "stdout",
     "output_type": "stream",
     "text": [
      "Pre-computing ODE Projection embeddings....\n"
     ]
    },
    {
     "name": "stderr",
     "output_type": "stream",
     "text": [
      "100%|██████████| 20/20 [00:01<00:00, 10.45it/s]\n",
      "GPU available: True (cuda), used: True\n",
      "TPU available: False, using: 0 TPU cores\n",
      "IPU available: False, using: 0 IPUs\n",
      "HPU available: False, using: 0 HPUs\n",
      "LOCAL_RANK: 0 - CUDA_VISIBLE_DEVICES: [0,1,2,3]\n"
     ]
    },
    {
     "name": "stdout",
     "output_type": "stream",
     "text": [
      "Predicting DataLoader 0: 100%|██████████| 2/2 [00:00<00:00, 10.64it/s] \n",
      "Pre-computing ODE Projection embeddings....\n"
     ]
    },
    {
     "name": "stderr",
     "output_type": "stream",
     "text": [
      "100%|██████████| 20/20 [00:02<00:00,  9.84it/s]\n",
      "GPU available: True (cuda), used: True\n",
      "TPU available: False, using: 0 TPU cores\n",
      "IPU available: False, using: 0 IPUs\n",
      "HPU available: False, using: 0 HPUs\n",
      "LOCAL_RANK: 0 - CUDA_VISIBLE_DEVICES: [0,1,2,3]\n"
     ]
    },
    {
     "name": "stdout",
     "output_type": "stream",
     "text": [
      "Predicting DataLoader 0: 100%|██████████| 2/2 [00:00<00:00,  9.87it/s] \n"
     ]
    },
    {
     "name": "stderr",
     "output_type": "stream",
     "text": [
      "Exception ignored in: <function _MultiProcessingDataLoaderIter.__del__ at 0x7fda0ae6d280>\n",
      "Traceback (most recent call last):\n",
      "  File \"/voyager/projects/edebrouwer/.conda/envs/orthopoly/lib/python3.9/site-packages/torch/utils/data/dataloader.py\", line 1481, in __del__\n",
      "    self._shutdown_workers()\n",
      "  File \"/voyager/projects/edebrouwer/.conda/envs/orthopoly/lib/python3.9/site-packages/torch/utils/data/dataloader.py\", line 1412, in _shutdown_workers\n",
      "    if not self._shutdown:\n",
      "AttributeError: '_MultiProcessingDataLoaderIter' object has no attribute '_shutdown'\n",
      "Exception ignored in: <function _MultiProcessingDataLoaderIter.__del__ at 0x7fda0ae6d280>\n",
      "Traceback (most recent call last):\n",
      "  File \"/voyager/projects/edebrouwer/.conda/envs/orthopoly/lib/python3.9/site-packages/torch/utils/data/dataloader.py\", line 1481, in __del__\n",
      "    self._shutdown_workers()\n",
      "  File \"/voyager/projects/edebrouwer/.conda/envs/orthopoly/lib/python3.9/site-packages/torch/utils/data/dataloader.py\", line 1412, in _shutdown_workers\n",
      "    if not self._shutdown:\n",
      "AttributeError: '_MultiProcessingDataLoaderIter' object has no attribute '_shutdown'\n",
      "Exception ignored in: <function _MultiProcessingDataLoaderIter.__del__ at 0x7fda0ae6d280>\n",
      "Traceback (most recent call last):\n",
      "  File \"/voyager/projects/edebrouwer/.conda/envs/orthopoly/lib/python3.9/site-packages/torch/utils/data/dataloader.py\", line 1481, in __del__\n",
      "    self._shutdown_workers()\n",
      "  File \"/voyager/projects/edebrouwer/.conda/envs/orthopoly/lib/python3.9/site-packages/torch/utils/data/dataloader.py\", line 1412, in _shutdown_workers\n",
      "    if not self._shutdown:\n",
      "AttributeError: '_MultiProcessingDataLoaderIter' object has no attribute '_shutdown'\n",
      "Exception ignored in: <function _MultiProcessingDataLoaderIter.__del__ at 0x7fda0ae6d280>\n",
      "Traceback (most recent call last):\n",
      "  File \"/voyager/projects/edebrouwer/.conda/envs/orthopoly/lib/python3.9/site-packages/torch/utils/data/dataloader.py\", line 1481, in __del__\n",
      "    self._shutdown_workers()\n",
      "  File \"/voyager/projects/edebrouwer/.conda/envs/orthopoly/lib/python3.9/site-packages/torch/utils/data/dataloader.py\", line 1412, in _shutdown_workers\n",
      "    if not self._shutdown:\n",
      "AttributeError: '_MultiProcessingDataLoaderIter' object has no attribute '_shutdown'\n"
     ]
    },
    {
     "name": "stdout",
     "output_type": "stream",
     "text": [
      "Pre-computing ODE Projection embeddings....\n"
     ]
    },
    {
     "name": "stderr",
     "output_type": "stream",
     "text": [
      "100%|██████████| 20/20 [00:02<00:00,  6.71it/s]\n",
      "GPU available: True (cuda), used: True\n",
      "TPU available: False, using: 0 TPU cores\n",
      "IPU available: False, using: 0 IPUs\n",
      "HPU available: False, using: 0 HPUs\n",
      "LOCAL_RANK: 0 - CUDA_VISIBLE_DEVICES: [0,1,2,3]\n"
     ]
    },
    {
     "name": "stdout",
     "output_type": "stream",
     "text": [
      "Predicting DataLoader 0: 100%|██████████| 2/2 [00:00<00:00, 12.15it/s] \n",
      "Pre-computing ODE Projection embeddings....\n"
     ]
    },
    {
     "name": "stderr",
     "output_type": "stream",
     "text": [
      "100%|██████████| 20/20 [00:03<00:00,  6.56it/s]\n",
      "GPU available: True (cuda), used: True\n",
      "TPU available: False, using: 0 TPU cores\n",
      "IPU available: False, using: 0 IPUs\n",
      "HPU available: False, using: 0 HPUs\n",
      "LOCAL_RANK: 0 - CUDA_VISIBLE_DEVICES: [0,1,2,3]\n"
     ]
    },
    {
     "name": "stdout",
     "output_type": "stream",
     "text": [
      "Predicting DataLoader 0: 100%|██████████| 2/2 [00:00<00:00, 11.32it/s] \n"
     ]
    },
    {
     "name": "stderr",
     "output_type": "stream",
     "text": [
      "Exception ignored in: <function _MultiProcessingDataLoaderIter.__del__ at 0x7fda0ae6d280>\n",
      "Traceback (most recent call last):\n",
      "  File \"/voyager/projects/edebrouwer/.conda/envs/orthopoly/lib/python3.9/site-packages/torch/utils/data/dataloader.py\", line 1481, in __del__\n",
      "    self._shutdown_workers()\n",
      "  File \"/voyager/projects/edebrouwer/.conda/envs/orthopoly/lib/python3.9/site-packages/torch/utils/data/dataloader.py\", line 1412, in _shutdown_workers\n",
      "    if not self._shutdown:\n",
      "AttributeError: '_MultiProcessingDataLoaderIter' object has no attribute '_shutdown'\n",
      "Exception ignored in: <function _MultiProcessingDataLoaderIter.__del__ at 0x7fda0ae6d280>\n",
      "Traceback (most recent call last):\n",
      "  File \"/voyager/projects/edebrouwer/.conda/envs/orthopoly/lib/python3.9/site-packages/torch/utils/data/dataloader.py\", line 1481, in __del__\n",
      "    self._shutdown_workers()\n",
      "  File \"/voyager/projects/edebrouwer/.conda/envs/orthopoly/lib/python3.9/site-packages/torch/utils/data/dataloader.py\", line 1412, in _shutdown_workers\n",
      "    if not self._shutdown:\n",
      "AttributeError: '_MultiProcessingDataLoaderIter' object has no attribute '_shutdown'\n",
      "Exception ignored in: <function _MultiProcessingDataLoaderIter.__del__ at 0x7fda0ae6d280>\n",
      "Traceback (most recent call last):\n",
      "  File \"/voyager/projects/edebrouwer/.conda/envs/orthopoly/lib/python3.9/site-packages/torch/utils/data/dataloader.py\", line 1481, in __del__\n",
      "    self._shutdown_workers()\n",
      "  File \"/voyager/projects/edebrouwer/.conda/envs/orthopoly/lib/python3.9/site-packages/torch/utils/data/dataloader.py\", line 1412, in _shutdown_workers\n",
      "    if not self._shutdown:\n",
      "AttributeError: '_MultiProcessingDataLoaderIter' object has no attribute '_shutdown'\n",
      "Exception ignored in: <function _MultiProcessingDataLoaderIter.__del__ at 0x7fda0ae6d280>\n",
      "Traceback (most recent call last):\n",
      "  File \"/voyager/projects/edebrouwer/.conda/envs/orthopoly/lib/python3.9/site-packages/torch/utils/data/dataloader.py\", line 1481, in __del__\n",
      "    self._shutdown_workers()\n",
      "  File \"/voyager/projects/edebrouwer/.conda/envs/orthopoly/lib/python3.9/site-packages/torch/utils/data/dataloader.py\", line 1412, in _shutdown_workers\n",
      "    if not self._shutdown:\n",
      "AttributeError: '_MultiProcessingDataLoaderIter' object has no attribute '_shutdown'\n"
     ]
    },
    {
     "name": "stdout",
     "output_type": "stream",
     "text": [
      "Pre-computing ODE Projection embeddings....\n"
     ]
    },
    {
     "name": "stderr",
     "output_type": "stream",
     "text": [
      "100%|██████████| 20/20 [00:02<00:00,  6.77it/s]\n",
      "GPU available: True (cuda), used: True\n",
      "TPU available: False, using: 0 TPU cores\n",
      "IPU available: False, using: 0 IPUs\n",
      "HPU available: False, using: 0 HPUs\n",
      "LOCAL_RANK: 0 - CUDA_VISIBLE_DEVICES: [0,1,2,3]\n"
     ]
    },
    {
     "name": "stdout",
     "output_type": "stream",
     "text": [
      "Predicting DataLoader 0: 100%|██████████| 2/2 [00:00<00:00, 13.60it/s] \n",
      "Pre-computing ODE Projection embeddings....\n"
     ]
    },
    {
     "name": "stderr",
     "output_type": "stream",
     "text": [
      "100%|██████████| 20/20 [00:02<00:00,  9.93it/s]\n",
      "GPU available: True (cuda), used: True\n",
      "TPU available: False, using: 0 TPU cores\n",
      "IPU available: False, using: 0 IPUs\n",
      "HPU available: False, using: 0 HPUs\n",
      "LOCAL_RANK: 0 - CUDA_VISIBLE_DEVICES: [0,1,2,3]\n"
     ]
    },
    {
     "name": "stdout",
     "output_type": "stream",
     "text": [
      "Predicting DataLoader 0: 100%|██████████| 2/2 [00:00<00:00, 12.35it/s] \n",
      "{'0.3': [tensor(0.2087), tensor(0.2067), tensor(0.1785)], '0.4': [tensor(0.1900), tensor(0.1526), tensor(0.1383)], '0.5': [tensor(0.1175), tensor(0.0970), tensor(0.1061)]}\n",
      "{'0.3': '$0.198 \\\\pm 0.014$', '0.4': '$0.160 \\\\pm 0.022$', '0.5': '$0.107 \\\\pm 0.008$'}\n"
     ]
    }
   ],
   "source": [
    "sweep_id = \"et71zf2x\"\n",
    "device = torch.device(\"cuda\")\n",
    "multivariate = None\n",
    "regression_mode = True\n",
    "api= wandb.Api()\n",
    "sweep = api.sweep(\"edebrouwer/orthopoly/\"+sweep_id)\n",
    "#init_sweep_id = \"edebrouwer/orthopoly/t77q79lw\"\n",
    "runs = sweep.runs\n",
    "\n",
    "model_cls = HippoClassification\n",
    "init_model_cls = HIPPO\n",
    "#irregular_rates= [1.0]\n",
    "irregular_rates = [0.3, 0.4, 0.5]#, 0.9, 1.0]\n",
    "#irregular_rates = [0.7, 0.8, 0.9, 1.0]#, 0.9, 1.0]\n",
    "seed = 421\n",
    "acc_dict = {}\n",
    "\n",
    "def data_cls_choice(data_type, init_model):\n",
    "    if data_type == \"SimpleTraj\":\n",
    "        data_cls = SimpleTrajDataModule(**init_model.hparams)\n",
    "    elif data_type == \"pMNIST\":\n",
    "        data_cls = pMNISTDataModule(**init_model.hparams)\n",
    "    elif data_type == \"Character\":\n",
    "        data_cls = CharacterTrajDataModule(**init_model.hparams)\n",
    "    elif data_type == \"MIMIC\":\n",
    "        data_cls = MIMICDataModule(**init_model.hparams)\n",
    "    elif data_type == \"Lorenz\":\n",
    "        data_cls = LorenzDataModule(**init_model.hparams)\n",
    "    return data_cls\n",
    "\n",
    "for irregular_rate in irregular_rates:\n",
    "    \n",
    "    accs_ = []\n",
    "    run_sub = [r for r in runs if (r.config[\"irregular_rate\"]==irregular_rate) and (r.config.get(\"multivariate\",None)==multivariate) and (r.config.get(\"regression_mode\",False)==regression_mode)]\n",
    "\n",
    "    for run in run_sub:\n",
    "        fname = [f.name for f in run.files() if \"ckpt\" in f.name][0]\n",
    "        run.file(fname).download(replace = True, root = \".\")\n",
    "         \n",
    "        checkpoint = torch.load(\n",
    "        fname, map_location=lambda storage, loc: storage)\n",
    "        checkpoint[\"hyper_parameters\"].pop(\"callbacks\", None)\n",
    "        checkpoint[\"hyper_parameters\"].pop(\"logger\", None)\n",
    "        checkpoint[\"hyper_parameters\"].pop(\"wandb_id_file_path\", None)\n",
    "        checkpoint.pop(\"callbacks\",None)\n",
    "        checkpoint_ = {\"state_dict\":checkpoint[\"state_dict\"],\"hyper_parameters\":checkpoint[\"hyper_parameters\"]}\n",
    "        checkpoint_[\"hyper_parameters\"].pop(\"init_model\",None)\n",
    "        \n",
    "        #input_dim = checkpoint[\"hyper_parameters\"].pop(\"input_dim\",None)\n",
    "        #if input_dim is None:\n",
    "        #    init_model = NODExt( **checkpoint[\"hyper_parameters\"],output_dim = checkpoint[\"hyper_parameters\"][\"num_dims\"])\n",
    "        #else:\n",
    "        #    init_model = NODExt(output_dim = input_dim, **checkpoint[\"hyper_parameters\"])\n",
    "        \n",
    "        init_model = get_init_model(checkpoint[\"hyper_parameters\"][\"init_sweep_id\"],init_model_cls,checkpoint[\"hyper_parameters\"][\"irregular_rate\"],checkpoint[\"hyper_parameters\"][\"seed\"],checkpoint[\"hyper_parameters\"].get(\"multivariate\", False))\n",
    "        \n",
    "        model = _load_state(model_cls, checkpoint_,init_model = init_model).to(device)\n",
    "               \n",
    "        #model = model_cls.load_from_checkpoint(fname)\n",
    "        os.remove(fname)\n",
    "        \n",
    "        dataset = data_cls_choice(model.hparams.data_type, init_model = model)\n",
    "        #dataset.pre_compute_ode = False\n",
    "        dataset.set_test_only()\n",
    "        dataset.prepare_data()\n",
    "    \n",
    "        trainer = pl.Trainer(gpus=1,logger = None)\n",
    "        \n",
    "        outputs = trainer.predict(model,dataset.test_dataloader())\n",
    "\n",
    "        preds = torch.cat([x[\"preds\"] for x in outputs])\n",
    "        Y = torch.cat([x[\"Y\"] for x in outputs])\n",
    "        T = torch.cat([x[\"T\"] for x in outputs])\n",
    "        labels = torch.cat([x[\"labels\"] for x in outputs])\n",
    "        \n",
    "        if checkpoint[\"hyper_parameters\"].get(\"regression_mode\",False):\n",
    "            accuracy = torch.nn.MSELoss()(preds,labels)\n",
    "        else:\n",
    "            if len(preds.shape)>1:\n",
    "                preds = torch.nn.functional.softmax(preds, dim=-1).argmax(-1)\n",
    "                accuracy = accuracy_score(labels.long().cpu().numpy(), preds.cpu().numpy())\n",
    "            else:\n",
    "                accuracy = roc_auc_score(labels.long().cpu().numpy(),preds.cpu().numpy())\n",
    "        #print(accuracy)\n",
    "        \n",
    "        accs_.append(accuracy)\n",
    "    \n",
    "    acc_dict[f\"{irregular_rate}\"]=accs_\n",
    "print(acc_dict)\n",
    "print(process_dict(acc_dict))"
   ]
  },
  {
   "cell_type": "markdown",
   "id": "e2573f8b",
   "metadata": {},
   "source": [
    "## NODExt"
   ]
  },
  {
   "cell_type": "code",
   "execution_count": 10,
   "id": "bf63bcf2",
   "metadata": {},
   "outputs": [
    {
     "name": "stderr",
     "output_type": "stream",
     "text": [
      "/voyager/projects/edebrouwer/.conda/envs/orthopoly/lib/python3.9/site-packages/pytorch_lightning/utilities/parsing.py:261: UserWarning: Attribute 'init_model' is an instance of `nn.Module` and is already saved during checkpointing. It is recommended to ignore them using `self.save_hyperparameters(ignore=['init_model'])`.\n",
      "  rank_zero_warn(\n"
     ]
    },
    {
     "name": "stdout",
     "output_type": "stream",
     "text": [
      "Pre-computing ODE Projection embeddings....\n"
     ]
    },
    {
     "name": "stderr",
     "output_type": "stream",
     "text": [
      "  0%|          | 0/20 [00:00<?, ?it/s]/voyager/projects/edebrouwer/.conda/envs/orthopoly/lib/python3.9/site-packages/torchdiffeq/_impl/fixed_adams.py:220: UserWarning: Functional iteration did not converge. Solution may be incorrect.\n",
      "  warnings.warn('Functional iteration did not converge. Solution may be incorrect.')\n",
      "100%|██████████| 20/20 [00:18<00:00,  1.08it/s]\n",
      "/voyager/projects/edebrouwer/.conda/envs/orthopoly/lib/python3.9/site-packages/pytorch_lightning/trainer/connectors/accelerator_connector.py:445: LightningDeprecationWarning: Setting `Trainer(gpus=1)` is deprecated in v1.7 and will be removed in v2.0. Please use `Trainer(accelerator='gpu', devices=1)` instead.\n",
      "  rank_zero_deprecation(\n",
      "/voyager/projects/edebrouwer/.conda/envs/orthopoly/lib/python3.9/site-packages/pytorch_lightning/loops/utilities.py:93: PossibleUserWarning: `max_epochs` was not set. Setting it to 1000 epochs. To train without an epoch limit, set `max_epochs=-1`.\n",
      "  rank_zero_warn(\n",
      "GPU available: True (cuda), used: True\n",
      "TPU available: False, using: 0 TPU cores\n",
      "IPU available: False, using: 0 IPUs\n",
      "HPU available: False, using: 0 HPUs\n",
      "LOCAL_RANK: 0 - CUDA_VISIBLE_DEVICES: [0,1,2,3]\n"
     ]
    },
    {
     "name": "stdout",
     "output_type": "stream",
     "text": [
      "Predicting DataLoader 0: 100%|██████████| 2/2 [00:00<00:00, 11.28it/s] \n",
      "Pre-computing ODE Projection embeddings....\n"
     ]
    },
    {
     "name": "stderr",
     "output_type": "stream",
     "text": [
      " 20%|██        | 4/20 [00:02<00:10,  1.49it/s]Exception ignored in: <function _MultiProcessingDataLoaderIter.__del__ at 0x7fda0ae6d280>\n",
      "Traceback (most recent call last):\n",
      "  File \"/voyager/projects/edebrouwer/.conda/envs/orthopoly/lib/python3.9/site-packages/torch/utils/data/dataloader.py\", line 1481, in __del__\n",
      "    self._shutdown_workers()\n",
      "  File \"/voyager/projects/edebrouwer/.conda/envs/orthopoly/lib/python3.9/site-packages/torch/utils/data/dataloader.py\", line 1412, in _shutdown_workers\n",
      "    if not self._shutdown:\n",
      "AttributeError: '_MultiProcessingDataLoaderIter' object has no attribute '_shutdown'\n",
      "Exception ignored in: <function _MultiProcessingDataLoaderIter.__del__ at 0x7fda0ae6d280>\n",
      "Traceback (most recent call last):\n",
      "  File \"/voyager/projects/edebrouwer/.conda/envs/orthopoly/lib/python3.9/site-packages/torch/utils/data/dataloader.py\", line 1481, in __del__\n",
      "    self._shutdown_workers()\n",
      "  File \"/voyager/projects/edebrouwer/.conda/envs/orthopoly/lib/python3.9/site-packages/torch/utils/data/dataloader.py\", line 1412, in _shutdown_workers\n",
      "    if not self._shutdown:\n",
      "AttributeError: '_MultiProcessingDataLoaderIter' object has no attribute '_shutdown'\n",
      "100%|██████████| 20/20 [00:14<00:00,  1.34it/s]\n",
      "GPU available: True (cuda), used: True\n",
      "TPU available: False, using: 0 TPU cores\n",
      "IPU available: False, using: 0 IPUs\n",
      "HPU available: False, using: 0 HPUs\n",
      "LOCAL_RANK: 0 - CUDA_VISIBLE_DEVICES: [0,1,2,3]\n"
     ]
    },
    {
     "name": "stdout",
     "output_type": "stream",
     "text": [
      "Predicting DataLoader 0: 100%|██████████| 2/2 [00:00<00:00, 14.64it/s] \n",
      "Pre-computing ODE Projection embeddings....\n"
     ]
    },
    {
     "name": "stderr",
     "output_type": "stream",
     "text": [
      "  0%|          | 0/20 [00:00<?, ?it/s]Exception ignored in: <function _MultiProcessingDataLoaderIter.__del__ at 0x7fda0ae6d280>\n",
      "Traceback (most recent call last):\n",
      "  File \"/voyager/projects/edebrouwer/.conda/envs/orthopoly/lib/python3.9/site-packages/torch/utils/data/dataloader.py\", line 1481, in __del__\n",
      "    self._shutdown_workers()\n",
      "  File \"/voyager/projects/edebrouwer/.conda/envs/orthopoly/lib/python3.9/site-packages/torch/utils/data/dataloader.py\", line 1412, in _shutdown_workers\n",
      "    if not self._shutdown:\n",
      "AttributeError: '_MultiProcessingDataLoaderIter' object has no attribute '_shutdown'\n",
      "Exception ignored in: <function _MultiProcessingDataLoaderIter.__del__ at 0x7fda0ae6d280>\n",
      "Traceback (most recent call last):\n",
      "  File \"/voyager/projects/edebrouwer/.conda/envs/orthopoly/lib/python3.9/site-packages/torch/utils/data/dataloader.py\", line 1481, in __del__\n",
      "    self._shutdown_workers()\n",
      "  File \"/voyager/projects/edebrouwer/.conda/envs/orthopoly/lib/python3.9/site-packages/torch/utils/data/dataloader.py\", line 1412, in _shutdown_workers\n",
      "    if not self._shutdown:\n",
      "AttributeError: '_MultiProcessingDataLoaderIter' object has no attribute '_shutdown'\n",
      "100%|██████████| 20/20 [00:18<00:00,  1.08it/s]\n",
      "GPU available: True (cuda), used: True\n",
      "TPU available: False, using: 0 TPU cores\n",
      "IPU available: False, using: 0 IPUs\n",
      "HPU available: False, using: 0 HPUs\n",
      "LOCAL_RANK: 0 - CUDA_VISIBLE_DEVICES: [0,1,2,3]\n"
     ]
    },
    {
     "name": "stdout",
     "output_type": "stream",
     "text": [
      "Predicting DataLoader 0: 100%|██████████| 2/2 [00:00<00:00, 12.10it/s] \n"
     ]
    },
    {
     "name": "stderr",
     "output_type": "stream",
     "text": [
      "Exception ignored in: <function _MultiProcessingDataLoaderIter.__del__ at 0x7fda0ae6d280>\n",
      "Traceback (most recent call last):\n",
      "  File \"/voyager/projects/edebrouwer/.conda/envs/orthopoly/lib/python3.9/site-packages/torch/utils/data/dataloader.py\", line 1481, in __del__\n",
      "    self._shutdown_workers()\n",
      "  File \"/voyager/projects/edebrouwer/.conda/envs/orthopoly/lib/python3.9/site-packages/torch/utils/data/dataloader.py\", line 1412, in _shutdown_workers\n",
      "    if not self._shutdown:\n",
      "AttributeError: '_MultiProcessingDataLoaderIter' object has no attribute '_shutdown'\n",
      "Exception ignored in: <function _MultiProcessingDataLoaderIter.__del__ at 0x7fda0ae6d280>\n",
      "Traceback (most recent call last):\n",
      "  File \"/voyager/projects/edebrouwer/.conda/envs/orthopoly/lib/python3.9/site-packages/torch/utils/data/dataloader.py\", line 1481, in __del__\n",
      "    self._shutdown_workers()\n",
      "  File \"/voyager/projects/edebrouwer/.conda/envs/orthopoly/lib/python3.9/site-packages/torch/utils/data/dataloader.py\", line 1412, in _shutdown_workers\n",
      "    if not self._shutdown:\n",
      "AttributeError: '_MultiProcessingDataLoaderIter' object has no attribute '_shutdown'\n"
     ]
    },
    {
     "name": "stdout",
     "output_type": "stream",
     "text": [
      "Pre-computing ODE Projection embeddings....\n"
     ]
    },
    {
     "name": "stderr",
     "output_type": "stream",
     "text": [
      "100%|██████████| 20/20 [00:19<00:00,  1.01it/s]\n",
      "GPU available: True (cuda), used: True\n",
      "TPU available: False, using: 0 TPU cores\n",
      "IPU available: False, using: 0 IPUs\n",
      "HPU available: False, using: 0 HPUs\n",
      "LOCAL_RANK: 0 - CUDA_VISIBLE_DEVICES: [0,1,2,3]\n"
     ]
    },
    {
     "name": "stdout",
     "output_type": "stream",
     "text": [
      "Predicting DataLoader 0: 100%|██████████| 2/2 [00:00<00:00,  8.99it/s] \n"
     ]
    },
    {
     "name": "stderr",
     "output_type": "stream",
     "text": [
      "Exception ignored in: <function _MultiProcessingDataLoaderIter.__del__ at 0x7fda0ae6d280>\n",
      "Traceback (most recent call last):\n",
      "  File \"/voyager/projects/edebrouwer/.conda/envs/orthopoly/lib/python3.9/site-packages/torch/utils/data/dataloader.py\", line 1481, in __del__\n",
      "    self._shutdown_workers()\n",
      "  File \"/voyager/projects/edebrouwer/.conda/envs/orthopoly/lib/python3.9/site-packages/torch/utils/data/dataloader.py\", line 1412, in _shutdown_workers\n",
      "    if not self._shutdown:\n",
      "AttributeError: '_MultiProcessingDataLoaderIter' object has no attribute '_shutdown'\n",
      "Exception ignored in: <function _MultiProcessingDataLoaderIter.__del__ at 0x7fda0ae6d280>\n",
      "Traceback (most recent call last):\n",
      "  File \"/voyager/projects/edebrouwer/.conda/envs/orthopoly/lib/python3.9/site-packages/torch/utils/data/dataloader.py\", line 1481, in __del__\n",
      "    self._shutdown_workers()\n",
      "  File \"/voyager/projects/edebrouwer/.conda/envs/orthopoly/lib/python3.9/site-packages/torch/utils/data/dataloader.py\", line 1412, in _shutdown_workers\n",
      "    if not self._shutdown:\n",
      "AttributeError: '_MultiProcessingDataLoaderIter' object has no attribute '_shutdown'\n"
     ]
    },
    {
     "name": "stdout",
     "output_type": "stream",
     "text": [
      "Pre-computing ODE Projection embeddings....\n"
     ]
    },
    {
     "name": "stderr",
     "output_type": "stream",
     "text": [
      "100%|██████████| 20/20 [00:16<00:00,  1.20it/s]\n",
      "GPU available: True (cuda), used: True\n",
      "TPU available: False, using: 0 TPU cores\n",
      "IPU available: False, using: 0 IPUs\n",
      "HPU available: False, using: 0 HPUs\n",
      "LOCAL_RANK: 0 - CUDA_VISIBLE_DEVICES: [0,1,2,3]\n"
     ]
    },
    {
     "name": "stdout",
     "output_type": "stream",
     "text": [
      "Predicting DataLoader 0: 100%|██████████| 2/2 [00:00<00:00, 14.24it/s] \n",
      "Pre-computing ODE Projection embeddings....\n"
     ]
    },
    {
     "name": "stderr",
     "output_type": "stream",
     "text": [
      " 50%|█████     | 10/20 [00:10<00:10,  1.01s/it]Exception ignored in: <function _MultiProcessingDataLoaderIter.__del__ at 0x7fda0ae6d280>\n",
      "Traceback (most recent call last):\n",
      "  File \"/voyager/projects/edebrouwer/.conda/envs/orthopoly/lib/python3.9/site-packages/torch/utils/data/dataloader.py\", line 1481, in __del__\n",
      "    self._shutdown_workers()\n",
      "  File \"/voyager/projects/edebrouwer/.conda/envs/orthopoly/lib/python3.9/site-packages/torch/utils/data/dataloader.py\", line 1412, in _shutdown_workers\n",
      "    if not self._shutdown:\n",
      "AttributeError: '_MultiProcessingDataLoaderIter' object has no attribute '_shutdown'\n",
      "Exception ignored in: <function _MultiProcessingDataLoaderIter.__del__ at 0x7fda0ae6d280>\n",
      "Traceback (most recent call last):\n",
      "  File \"/voyager/projects/edebrouwer/.conda/envs/orthopoly/lib/python3.9/site-packages/torch/utils/data/dataloader.py\", line 1481, in __del__\n",
      "    self._shutdown_workers()\n",
      "  File \"/voyager/projects/edebrouwer/.conda/envs/orthopoly/lib/python3.9/site-packages/torch/utils/data/dataloader.py\", line 1412, in _shutdown_workers\n",
      "    if not self._shutdown:\n",
      "AttributeError: '_MultiProcessingDataLoaderIter' object has no attribute '_shutdown'\n",
      "100%|██████████| 20/20 [00:16<00:00,  1.19it/s]\n",
      "GPU available: True (cuda), used: True\n",
      "TPU available: False, using: 0 TPU cores\n",
      "IPU available: False, using: 0 IPUs\n",
      "HPU available: False, using: 0 HPUs\n",
      "LOCAL_RANK: 0 - CUDA_VISIBLE_DEVICES: [0,1,2,3]\n"
     ]
    },
    {
     "name": "stdout",
     "output_type": "stream",
     "text": [
      "Predicting DataLoader 0: 100%|██████████| 2/2 [00:00<00:00,  8.23it/s] \n",
      "Pre-computing ODE Projection embeddings....\n"
     ]
    },
    {
     "name": "stderr",
     "output_type": "stream",
     "text": [
      " 20%|██        | 4/20 [00:03<00:12,  1.32it/s]Exception ignored in: <function _MultiProcessingDataLoaderIter.__del__ at 0x7fda0ae6d280>\n",
      "Traceback (most recent call last):\n",
      "  File \"/voyager/projects/edebrouwer/.conda/envs/orthopoly/lib/python3.9/site-packages/torch/utils/data/dataloader.py\", line 1481, in __del__\n",
      "    self._shutdown_workers()\n",
      "  File \"/voyager/projects/edebrouwer/.conda/envs/orthopoly/lib/python3.9/site-packages/torch/utils/data/dataloader.py\", line 1412, in _shutdown_workers\n",
      "    if not self._shutdown:\n",
      "AttributeError: '_MultiProcessingDataLoaderIter' object has no attribute '_shutdown'\n",
      "Exception ignored in: <function _MultiProcessingDataLoaderIter.__del__ at 0x7fda0ae6d280>\n",
      "Traceback (most recent call last):\n",
      "  File \"/voyager/projects/edebrouwer/.conda/envs/orthopoly/lib/python3.9/site-packages/torch/utils/data/dataloader.py\", line 1481, in __del__\n",
      "    self._shutdown_workers()\n",
      "  File \"/voyager/projects/edebrouwer/.conda/envs/orthopoly/lib/python3.9/site-packages/torch/utils/data/dataloader.py\", line 1412, in _shutdown_workers\n",
      "    if not self._shutdown:\n",
      "AttributeError: '_MultiProcessingDataLoaderIter' object has no attribute '_shutdown'\n",
      "100%|██████████| 20/20 [00:19<00:00,  1.04it/s]\n",
      "GPU available: True (cuda), used: True\n",
      "TPU available: False, using: 0 TPU cores\n",
      "IPU available: False, using: 0 IPUs\n",
      "HPU available: False, using: 0 HPUs\n",
      "LOCAL_RANK: 0 - CUDA_VISIBLE_DEVICES: [0,1,2,3]\n"
     ]
    },
    {
     "name": "stdout",
     "output_type": "stream",
     "text": [
      "Predicting DataLoader 0: 100%|██████████| 2/2 [00:00<00:00, 10.06it/s] \n",
      "Pre-computing ODE Projection embeddings....\n"
     ]
    },
    {
     "name": "stderr",
     "output_type": "stream",
     "text": [
      "  0%|          | 0/20 [00:00<?, ?it/s]Exception ignored in: <function _MultiProcessingDataLoaderIter.__del__ at 0x7fda0ae6d280>\n",
      "Traceback (most recent call last):\n",
      "  File \"/voyager/projects/edebrouwer/.conda/envs/orthopoly/lib/python3.9/site-packages/torch/utils/data/dataloader.py\", line 1481, in __del__\n",
      "    self._shutdown_workers()\n",
      "  File \"/voyager/projects/edebrouwer/.conda/envs/orthopoly/lib/python3.9/site-packages/torch/utils/data/dataloader.py\", line 1412, in _shutdown_workers\n",
      "    if not self._shutdown:\n",
      "AttributeError: '_MultiProcessingDataLoaderIter' object has no attribute '_shutdown'\n",
      "Exception ignored in: <function _MultiProcessingDataLoaderIter.__del__ at 0x7fda0ae6d280>\n",
      "Traceback (most recent call last):\n",
      "  File \"/voyager/projects/edebrouwer/.conda/envs/orthopoly/lib/python3.9/site-packages/torch/utils/data/dataloader.py\", line 1481, in __del__\n",
      "    self._shutdown_workers()\n",
      "  File \"/voyager/projects/edebrouwer/.conda/envs/orthopoly/lib/python3.9/site-packages/torch/utils/data/dataloader.py\", line 1412, in _shutdown_workers\n",
      "    if not self._shutdown:\n",
      "AttributeError: '_MultiProcessingDataLoaderIter' object has no attribute '_shutdown'\n",
      "100%|██████████| 20/20 [00:20<00:00,  1.04s/it]\n",
      "GPU available: True (cuda), used: True\n",
      "TPU available: False, using: 0 TPU cores\n",
      "IPU available: False, using: 0 IPUs\n",
      "HPU available: False, using: 0 HPUs\n",
      "LOCAL_RANK: 0 - CUDA_VISIBLE_DEVICES: [0,1,2,3]\n"
     ]
    },
    {
     "name": "stdout",
     "output_type": "stream",
     "text": [
      "Predicting DataLoader 0: 100%|██████████| 2/2 [00:00<00:00,  9.92it/s] \n"
     ]
    },
    {
     "name": "stderr",
     "output_type": "stream",
     "text": [
      "Exception ignored in: <function _MultiProcessingDataLoaderIter.__del__ at 0x7fda0ae6d280>\n",
      "Traceback (most recent call last):\n",
      "  File \"/voyager/projects/edebrouwer/.conda/envs/orthopoly/lib/python3.9/site-packages/torch/utils/data/dataloader.py\", line 1481, in __del__\n",
      "    self._shutdown_workers()\n",
      "  File \"/voyager/projects/edebrouwer/.conda/envs/orthopoly/lib/python3.9/site-packages/torch/utils/data/dataloader.py\", line 1412, in _shutdown_workers\n",
      "    if not self._shutdown:\n",
      "AttributeError: '_MultiProcessingDataLoaderIter' object has no attribute '_shutdown'\n",
      "Exception ignored in: <function _MultiProcessingDataLoaderIter.__del__ at 0x7fda0ae6d280>\n",
      "Traceback (most recent call last):\n",
      "  File \"/voyager/projects/edebrouwer/.conda/envs/orthopoly/lib/python3.9/site-packages/torch/utils/data/dataloader.py\", line 1481, in __del__\n",
      "    self._shutdown_workers()\n",
      "  File \"/voyager/projects/edebrouwer/.conda/envs/orthopoly/lib/python3.9/site-packages/torch/utils/data/dataloader.py\", line 1412, in _shutdown_workers\n",
      "    if not self._shutdown:\n",
      "AttributeError: '_MultiProcessingDataLoaderIter' object has no attribute '_shutdown'\n"
     ]
    },
    {
     "name": "stdout",
     "output_type": "stream",
     "text": [
      "Pre-computing ODE Projection embeddings....\n"
     ]
    },
    {
     "name": "stderr",
     "output_type": "stream",
     "text": [
      "100%|██████████| 20/20 [00:21<00:00,  1.07s/it]\n",
      "GPU available: True (cuda), used: True\n",
      "TPU available: False, using: 0 TPU cores\n",
      "IPU available: False, using: 0 IPUs\n",
      "HPU available: False, using: 0 HPUs\n",
      "LOCAL_RANK: 0 - CUDA_VISIBLE_DEVICES: [0,1,2,3]\n"
     ]
    },
    {
     "name": "stdout",
     "output_type": "stream",
     "text": [
      "Predicting DataLoader 0: 100%|██████████| 2/2 [00:00<00:00, 11.14it/s] \n",
      "{'0.3': [tensor(0.2569), tensor(0.1916), tensor(0.1947)], '0.4': [tensor(0.2382), tensor(0.2024), tensor(0.2348)], '0.5': [tensor(0.2156), tensor(0.1986), tensor(0.1620)]}\n",
      "{'0.3': '$0.214 \\\\pm 0.030$', '0.4': '$0.225 \\\\pm 0.016$', '0.5': '$0.192 \\\\pm 0.022$'}\n"
     ]
    }
   ],
   "source": [
    "sweep_id = \"x9vkty3m\"\n",
    "device = torch.device(\"cuda\")\n",
    "multivariate = None\n",
    "regression_mode = True\n",
    "api= wandb.Api()\n",
    "sweep = api.sweep(\"edebrouwer/orthopoly/\"+sweep_id)\n",
    "#init_sweep_id = \"edebrouwer/orthopoly/t77q79lw\"\n",
    "runs = sweep.runs\n",
    "\n",
    "model_cls = NODEClassification\n",
    "init_model_cls = NODE\n",
    "irregular_rates = [0.3, 0.4, 0.5]\n",
    "#irregular_rates = [1.0]\n",
    "#irregular_rates = [0.7, 0.8, 0.9, 1.0]\n",
    "seed = 421\n",
    "acc_dict = {}\n",
    "\n",
    "def data_cls_choice(data_type, init_model):\n",
    "    if data_type == \"SimpleTraj\":\n",
    "        data_cls = SimpleTrajDataModule(**init_model.hparams)\n",
    "    elif data_type == \"pMNIST\":\n",
    "        data_cls = pMNISTDataModule(**init_model.hparams)\n",
    "    elif data_type == \"Character\":\n",
    "        data_cls = CharacterTrajDataModule(**init_model.hparams)\n",
    "    elif data_type == \"MIMIC\":\n",
    "        data_cls = MIMICDataModule(**init_model.hparams)\n",
    "    elif data_type == \"Lorenz\":\n",
    "        data_cls = LorenzDataModule(**init_model.hparams)\n",
    "    return data_cls\n",
    "\n",
    "for irregular_rate in irregular_rates:\n",
    "    \n",
    "    accs_ = []\n",
    "    run_sub = [r for r in runs if (r.config[\"irregular_rate\"]==irregular_rate) and (r.config.get(\"multivariate\",None)==multivariate) and (r.config.get(\"regression_mode\",False)==regression_mode)]\n",
    "\n",
    "    for run in run_sub:\n",
    "        fname = [f.name for f in run.files() if \"ckpt\" in f.name][0]\n",
    "        run.file(fname).download(replace = True, root = \".\")\n",
    "         \n",
    "        checkpoint = torch.load(\n",
    "        fname, map_location=lambda storage, loc: storage)\n",
    "        checkpoint[\"hyper_parameters\"].pop(\"callbacks\", None)\n",
    "        checkpoint[\"hyper_parameters\"].pop(\"logger\", None)\n",
    "        checkpoint[\"hyper_parameters\"].pop(\"wandb_id_file_path\", None)\n",
    "        checkpoint.pop(\"callbacks\",None)\n",
    "        checkpoint_ = {\"state_dict\":checkpoint[\"state_dict\"],\"hyper_parameters\":checkpoint[\"hyper_parameters\"]}\n",
    "        checkpoint_[\"hyper_parameters\"].pop(\"init_model\",None)\n",
    "        \n",
    "        #input_dim = checkpoint[\"hyper_parameters\"].pop(\"input_dim\",None)\n",
    "        #if input_dim is None:\n",
    "        #    init_model = NODExt( **checkpoint[\"hyper_parameters\"],output_dim = checkpoint[\"hyper_parameters\"][\"num_dims\"])\n",
    "        #else:\n",
    "        #    init_model = NODExt(output_dim = input_dim, **checkpoint[\"hyper_parameters\"])\n",
    "        \n",
    "        init_model = get_init_model(checkpoint[\"hyper_parameters\"][\"init_sweep_id\"],init_model_cls,checkpoint[\"hyper_parameters\"][\"irregular_rate\"],checkpoint[\"hyper_parameters\"][\"seed\"],checkpoint[\"hyper_parameters\"].get(\"multivariate\", False))\n",
    "        \n",
    "        model = _load_state(model_cls, checkpoint_,init_model = init_model).to(device)\n",
    "               \n",
    "        #model = model_cls.load_from_checkpoint(fname)\n",
    "        os.remove(fname)\n",
    "        \n",
    "        dataset = data_cls_choice(model.hparams.data_type, init_model = model)\n",
    "        #dataset.pre_compute_ode = False\n",
    "        dataset.set_test_only()\n",
    "        dataset.prepare_data()\n",
    "    \n",
    "        trainer = pl.Trainer(gpus=1,logger = None)\n",
    "        \n",
    "        outputs = trainer.predict(model,dataset.test_dataloader())\n",
    "\n",
    "        preds = torch.cat([x[\"preds\"] for x in outputs])\n",
    "        Y = torch.cat([x[\"Y\"] for x in outputs])\n",
    "        T = torch.cat([x[\"T\"] for x in outputs])\n",
    "        labels = torch.cat([x[\"labels\"] for x in outputs])\n",
    "        \n",
    "        if checkpoint[\"hyper_parameters\"].get(\"regression_mode\",False):\n",
    "            accuracy = torch.nn.MSELoss()(preds,labels)\n",
    "        else:\n",
    "            if len(preds.shape)>1:\n",
    "                preds = torch.nn.functional.softmax(preds, dim=-1).argmax(-1)\n",
    "                accuracy = accuracy_score(labels.long().cpu().numpy(), preds.cpu().numpy())\n",
    "            else:\n",
    "                accuracy = roc_auc_score(labels.long().cpu().numpy(),preds.cpu().numpy())\n",
    "        #print(accuracy)\n",
    "        \n",
    "        accs_.append(accuracy)\n",
    "    \n",
    "    acc_dict[f\"{irregular_rate}\"]=accs_\n",
    "print(acc_dict)\n",
    "print(process_dict(acc_dict))"
   ]
  },
  {
   "cell_type": "markdown",
   "id": "bf92e827",
   "metadata": {},
   "source": [
    "## RNN"
   ]
  },
  {
   "cell_type": "code",
   "execution_count": 15,
   "id": "ebdedb81",
   "metadata": {},
   "outputs": [
    {
     "name": "stderr",
     "output_type": "stream",
     "text": [
      "/voyager/projects/edebrouwer/.conda/envs/orthopoly/lib/python3.9/site-packages/pytorch_lightning/utilities/parsing.py:261: UserWarning: Attribute 'init_model' is an instance of `nn.Module` and is already saved during checkpointing. It is recommended to ignore them using `self.save_hyperparameters(ignore=['init_model'])`.\n",
      "  rank_zero_warn(\n",
      "Exception ignored in: <function _MultiProcessingDataLoaderIter.__del__ at 0x7f11c0f9f9d0>\n",
      "Traceback (most recent call last):\n",
      "  File \"/voyager/projects/edebrouwer/.conda/envs/orthopoly/lib/python3.9/site-packages/torch/utils/data/dataloader.py\", line 1481, in __del__\n",
      "    self._shutdown_workers()\n",
      "  File \"/voyager/projects/edebrouwer/.conda/envs/orthopoly/lib/python3.9/site-packages/torch/utils/data/dataloader.py\", line 1412, in _shutdown_workers\n",
      "    if not self._shutdown:\n",
      "AttributeError: '_MultiProcessingDataLoaderIter' object has no attribute '_shutdown'\n",
      "Exception ignored in: <function _MultiProcessingDataLoaderIter.__del__ at 0x7f11c0f9f9d0>\n",
      "Traceback (most recent call last):\n",
      "  File \"/voyager/projects/edebrouwer/.conda/envs/orthopoly/lib/python3.9/site-packages/torch/utils/data/dataloader.py\", line 1481, in __del__\n",
      "    self._shutdown_workers()\n",
      "  File \"/voyager/projects/edebrouwer/.conda/envs/orthopoly/lib/python3.9/site-packages/torch/utils/data/dataloader.py\", line 1412, in _shutdown_workers\n",
      "    if not self._shutdown:\n",
      "AttributeError: '_MultiProcessingDataLoaderIter' object has no attribute '_shutdown'\n"
     ]
    },
    {
     "name": "stdout",
     "output_type": "stream",
     "text": [
      "Pre-computing ODE Projection embeddings....\n"
     ]
    },
    {
     "name": "stderr",
     "output_type": "stream",
     "text": [
      "100%|██████████| 20/20 [00:00<00:00, 37.79it/s]\n"
     ]
    },
    {
     "name": "stdout",
     "output_type": "stream",
     "text": [
      "Pre-computing ODE Projection embeddings....\n"
     ]
    },
    {
     "name": "stderr",
     "output_type": "stream",
     "text": [
      "100%|██████████| 20/20 [00:00<00:00, 38.12it/s]\n",
      "/voyager/projects/edebrouwer/.conda/envs/orthopoly/lib/python3.9/site-packages/pytorch_lightning/trainer/connectors/accelerator_connector.py:445: LightningDeprecationWarning: Setting `Trainer(gpus=1)` is deprecated in v1.7 and will be removed in v2.0. Please use `Trainer(accelerator='gpu', devices=1)` instead.\n",
      "  rank_zero_deprecation(\n",
      "/voyager/projects/edebrouwer/.conda/envs/orthopoly/lib/python3.9/site-packages/pytorch_lightning/loops/utilities.py:93: PossibleUserWarning: `max_epochs` was not set. Setting it to 1000 epochs. To train without an epoch limit, set `max_epochs=-1`.\n",
      "  rank_zero_warn(\n",
      "GPU available: True (cuda), used: True\n",
      "TPU available: False, using: 0 TPU cores\n",
      "IPU available: False, using: 0 IPUs\n",
      "HPU available: False, using: 0 HPUs\n",
      "LOCAL_RANK: 0 - CUDA_VISIBLE_DEVICES: [0,1,2,3]\n"
     ]
    },
    {
     "name": "stdout",
     "output_type": "stream",
     "text": [
      "Predicting DataLoader 0: 100%|██████████| 23/23 [00:00<00:00, 111.57it/s]\n"
     ]
    },
    {
     "name": "stderr",
     "output_type": "stream",
     "text": [
      "/voyager/projects/edebrouwer/.conda/envs/orthopoly/lib/python3.9/site-packages/pytorch_lightning/utilities/parsing.py:261: UserWarning: Attribute 'init_model' is an instance of `nn.Module` and is already saved during checkpointing. It is recommended to ignore them using `self.save_hyperparameters(ignore=['init_model'])`.\n",
      "  rank_zero_warn(\n",
      "Exception ignored in: <function _MultiProcessingDataLoaderIter.__del__ at 0x7f11c0f9f9d0>\n",
      "Traceback (most recent call last):\n",
      "  File \"/voyager/projects/edebrouwer/.conda/envs/orthopoly/lib/python3.9/site-packages/torch/utils/data/dataloader.py\", line 1481, in __del__\n",
      "    self._shutdown_workers()\n",
      "  File \"/voyager/projects/edebrouwer/.conda/envs/orthopoly/lib/python3.9/site-packages/torch/utils/data/dataloader.py\", line 1412, in _shutdown_workers\n",
      "    if not self._shutdown:\n",
      "AttributeError: '_MultiProcessingDataLoaderIter' object has no attribute '_shutdown'\n",
      "Exception ignored in: <function _MultiProcessingDataLoaderIter.__del__ at 0x7f11c0f9f9d0>\n",
      "Traceback (most recent call last):\n",
      "  File \"/voyager/projects/edebrouwer/.conda/envs/orthopoly/lib/python3.9/site-packages/torch/utils/data/dataloader.py\", line 1481, in __del__\n",
      "    self._shutdown_workers()\n",
      "  File \"/voyager/projects/edebrouwer/.conda/envs/orthopoly/lib/python3.9/site-packages/torch/utils/data/dataloader.py\", line 1412, in _shutdown_workers\n",
      "    if not self._shutdown:\n",
      "AttributeError: '_MultiProcessingDataLoaderIter' object has no attribute '_shutdown'\n"
     ]
    },
    {
     "name": "stdout",
     "output_type": "stream",
     "text": [
      "Pre-computing ODE Projection embeddings....\n"
     ]
    },
    {
     "name": "stderr",
     "output_type": "stream",
     "text": [
      "100%|██████████| 20/20 [00:00<00:00, 37.70it/s]\n"
     ]
    },
    {
     "name": "stdout",
     "output_type": "stream",
     "text": [
      "Pre-computing ODE Projection embeddings....\n"
     ]
    },
    {
     "name": "stderr",
     "output_type": "stream",
     "text": [
      "100%|██████████| 20/20 [00:00<00:00, 37.70it/s]\n",
      "/voyager/projects/edebrouwer/.conda/envs/orthopoly/lib/python3.9/site-packages/pytorch_lightning/trainer/connectors/accelerator_connector.py:445: LightningDeprecationWarning: Setting `Trainer(gpus=1)` is deprecated in v1.7 and will be removed in v2.0. Please use `Trainer(accelerator='gpu', devices=1)` instead.\n",
      "  rank_zero_deprecation(\n",
      "/voyager/projects/edebrouwer/.conda/envs/orthopoly/lib/python3.9/site-packages/pytorch_lightning/loops/utilities.py:93: PossibleUserWarning: `max_epochs` was not set. Setting it to 1000 epochs. To train without an epoch limit, set `max_epochs=-1`.\n",
      "  rank_zero_warn(\n",
      "GPU available: True (cuda), used: True\n",
      "TPU available: False, using: 0 TPU cores\n",
      "IPU available: False, using: 0 IPUs\n",
      "HPU available: False, using: 0 HPUs\n",
      "LOCAL_RANK: 0 - CUDA_VISIBLE_DEVICES: [0,1,2,3]\n"
     ]
    },
    {
     "name": "stdout",
     "output_type": "stream",
     "text": [
      "Predicting DataLoader 0: 100%|██████████| 23/23 [00:00<00:00, 161.18it/s]\n"
     ]
    },
    {
     "name": "stderr",
     "output_type": "stream",
     "text": [
      "/voyager/projects/edebrouwer/.conda/envs/orthopoly/lib/python3.9/site-packages/pytorch_lightning/utilities/parsing.py:261: UserWarning: Attribute 'init_model' is an instance of `nn.Module` and is already saved during checkpointing. It is recommended to ignore them using `self.save_hyperparameters(ignore=['init_model'])`.\n",
      "  rank_zero_warn(\n",
      "Exception ignored in: <function _MultiProcessingDataLoaderIter.__del__ at 0x7f11c0f9f9d0>\n",
      "Traceback (most recent call last):\n",
      "  File \"/voyager/projects/edebrouwer/.conda/envs/orthopoly/lib/python3.9/site-packages/torch/utils/data/dataloader.py\", line 1481, in __del__\n",
      "    self._shutdown_workers()\n",
      "  File \"/voyager/projects/edebrouwer/.conda/envs/orthopoly/lib/python3.9/site-packages/torch/utils/data/dataloader.py\", line 1412, in _shutdown_workers\n",
      "    if not self._shutdown:\n",
      "AttributeError: '_MultiProcessingDataLoaderIter' object has no attribute '_shutdown'\n",
      "Exception ignored in: <function _MultiProcessingDataLoaderIter.__del__ at 0x7f11c0f9f9d0>\n",
      "Traceback (most recent call last):\n",
      "  File \"/voyager/projects/edebrouwer/.conda/envs/orthopoly/lib/python3.9/site-packages/torch/utils/data/dataloader.py\", line 1481, in __del__\n",
      "    self._shutdown_workers()\n",
      "  File \"/voyager/projects/edebrouwer/.conda/envs/orthopoly/lib/python3.9/site-packages/torch/utils/data/dataloader.py\", line 1412, in _shutdown_workers\n",
      "    if not self._shutdown:\n",
      "AttributeError: '_MultiProcessingDataLoaderIter' object has no attribute '_shutdown'\n",
      "Exception ignored in: <function _MultiProcessingDataLoaderIter.__del__ at 0x7f11c0f9f9d0>\n",
      "Traceback (most recent call last):\n",
      "  File \"/voyager/projects/edebrouwer/.conda/envs/orthopoly/lib/python3.9/site-packages/torch/utils/data/dataloader.py\", line 1481, in __del__\n",
      "    self._shutdown_workers()\n",
      "  File \"/voyager/projects/edebrouwer/.conda/envs/orthopoly/lib/python3.9/site-packages/torch/utils/data/dataloader.py\", line 1412, in _shutdown_workers\n",
      "    if not self._shutdown:\n",
      "AttributeError: '_MultiProcessingDataLoaderIter' object has no attribute '_shutdown'\n",
      "Exception ignored in: <function _MultiProcessingDataLoaderIter.__del__ at 0x7f11c0f9f9d0>\n",
      "Traceback (most recent call last):\n",
      "  File \"/voyager/projects/edebrouwer/.conda/envs/orthopoly/lib/python3.9/site-packages/torch/utils/data/dataloader.py\", line 1481, in __del__\n",
      "    self._shutdown_workers()\n",
      "  File \"/voyager/projects/edebrouwer/.conda/envs/orthopoly/lib/python3.9/site-packages/torch/utils/data/dataloader.py\", line 1412, in _shutdown_workers\n",
      "    if not self._shutdown:\n",
      "AttributeError: '_MultiProcessingDataLoaderIter' object has no attribute '_shutdown'\n",
      "Exception ignored in: <function _MultiProcessingDataLoaderIter.__del__ at 0x7f11c0f9f9d0>\n",
      "Traceback (most recent call last):\n",
      "  File \"/voyager/projects/edebrouwer/.conda/envs/orthopoly/lib/python3.9/site-packages/torch/utils/data/dataloader.py\", line 1481, in __del__\n",
      "    self._shutdown_workers()\n",
      "  File \"/voyager/projects/edebrouwer/.conda/envs/orthopoly/lib/python3.9/site-packages/torch/utils/data/dataloader.py\", line 1412, in _shutdown_workers\n",
      "    if not self._shutdown:\n",
      "AttributeError: '_MultiProcessingDataLoaderIter' object has no attribute '_shutdown'\n",
      "Exception ignored in: <function _MultiProcessingDataLoaderIter.__del__ at 0x7f11c0f9f9d0>\n",
      "Traceback (most recent call last):\n",
      "  File \"/voyager/projects/edebrouwer/.conda/envs/orthopoly/lib/python3.9/site-packages/torch/utils/data/dataloader.py\", line 1481, in __del__\n",
      "    self._shutdown_workers()\n",
      "  File \"/voyager/projects/edebrouwer/.conda/envs/orthopoly/lib/python3.9/site-packages/torch/utils/data/dataloader.py\", line 1412, in _shutdown_workers\n",
      "    if not self._shutdown:\n",
      "AttributeError: '_MultiProcessingDataLoaderIter' object has no attribute '_shutdown'\n",
      "Exception ignored in: <function _MultiProcessingDataLoaderIter.__del__ at 0x7f11c0f9f9d0>\n",
      "Traceback (most recent call last):\n",
      "  File \"/voyager/projects/edebrouwer/.conda/envs/orthopoly/lib/python3.9/site-packages/torch/utils/data/dataloader.py\", line 1481, in __del__\n",
      "    self._shutdown_workers()\n",
      "  File \"/voyager/projects/edebrouwer/.conda/envs/orthopoly/lib/python3.9/site-packages/torch/utils/data/dataloader.py\", line 1412, in _shutdown_workers\n",
      "    if not self._shutdown:\n",
      "AttributeError: '_MultiProcessingDataLoaderIter' object has no attribute '_shutdown'\n",
      "Exception ignored in: <function _MultiProcessingDataLoaderIter.__del__ at 0x7f11c0f9f9d0>\n",
      "Traceback (most recent call last):\n",
      "  File \"/voyager/projects/edebrouwer/.conda/envs/orthopoly/lib/python3.9/site-packages/torch/utils/data/dataloader.py\", line 1481, in __del__\n",
      "    self._shutdown_workers()\n",
      "  File \"/voyager/projects/edebrouwer/.conda/envs/orthopoly/lib/python3.9/site-packages/torch/utils/data/dataloader.py\", line 1412, in _shutdown_workers\n",
      "    if not self._shutdown:\n",
      "AttributeError: '_MultiProcessingDataLoaderIter' object has no attribute '_shutdown'\n",
      "Exception ignored in: <function _MultiProcessingDataLoaderIter.__del__ at 0x7f11c0f9f9d0>\n",
      "Traceback (most recent call last):\n",
      "  File \"/voyager/projects/edebrouwer/.conda/envs/orthopoly/lib/python3.9/site-packages/torch/utils/data/dataloader.py\", line 1481, in __del__\n",
      "    self._shutdown_workers()\n",
      "  File \"/voyager/projects/edebrouwer/.conda/envs/orthopoly/lib/python3.9/site-packages/torch/utils/data/dataloader.py\", line 1412, in _shutdown_workers\n",
      "    if not self._shutdown:\n",
      "AttributeError: '_MultiProcessingDataLoaderIter' object has no attribute '_shutdown'\n",
      "Exception ignored in: <function _MultiProcessingDataLoaderIter.__del__ at 0x7f11c0f9f9d0>\n",
      "Traceback (most recent call last):\n",
      "  File \"/voyager/projects/edebrouwer/.conda/envs/orthopoly/lib/python3.9/site-packages/torch/utils/data/dataloader.py\", line 1481, in __del__\n",
      "    self._shutdown_workers()\n",
      "  File \"/voyager/projects/edebrouwer/.conda/envs/orthopoly/lib/python3.9/site-packages/torch/utils/data/dataloader.py\", line 1412, in _shutdown_workers\n",
      "    if not self._shutdown:\n",
      "AttributeError: '_MultiProcessingDataLoaderIter' object has no attribute '_shutdown'\n",
      "Exception ignored in: <function _MultiProcessingDataLoaderIter.__del__ at 0x7f11c0f9f9d0>\n",
      "Traceback (most recent call last):\n",
      "  File \"/voyager/projects/edebrouwer/.conda/envs/orthopoly/lib/python3.9/site-packages/torch/utils/data/dataloader.py\", line 1481, in __del__\n",
      "    self._shutdown_workers()\n",
      "  File \"/voyager/projects/edebrouwer/.conda/envs/orthopoly/lib/python3.9/site-packages/torch/utils/data/dataloader.py\", line 1412, in _shutdown_workers\n",
      "    if not self._shutdown:\n",
      "AttributeError: '_MultiProcessingDataLoaderIter' object has no attribute '_shutdown'\n",
      "Exception ignored in: <function _MultiProcessingDataLoaderIter.__del__ at 0x7f11c0f9f9d0>\n",
      "Traceback (most recent call last):\n",
      "  File \"/voyager/projects/edebrouwer/.conda/envs/orthopoly/lib/python3.9/site-packages/torch/utils/data/dataloader.py\", line 1481, in __del__\n",
      "    self._shutdown_workers()\n",
      "  File \"/voyager/projects/edebrouwer/.conda/envs/orthopoly/lib/python3.9/site-packages/torch/utils/data/dataloader.py\", line 1412, in _shutdown_workers\n",
      "    if not self._shutdown:\n",
      "AttributeError: '_MultiProcessingDataLoaderIter' object has no attribute '_shutdown'\n"
     ]
    },
    {
     "name": "stdout",
     "output_type": "stream",
     "text": [
      "Pre-computing ODE Projection embeddings....\n"
     ]
    },
    {
     "name": "stderr",
     "output_type": "stream",
     "text": [
      "100%|██████████| 20/20 [00:00<00:00, 56.22it/s]\n"
     ]
    },
    {
     "name": "stdout",
     "output_type": "stream",
     "text": [
      "Pre-computing ODE Projection embeddings....\n"
     ]
    },
    {
     "name": "stderr",
     "output_type": "stream",
     "text": [
      "100%|██████████| 20/20 [00:00<00:00, 56.54it/s]\n",
      "/voyager/projects/edebrouwer/.conda/envs/orthopoly/lib/python3.9/site-packages/pytorch_lightning/trainer/connectors/accelerator_connector.py:445: LightningDeprecationWarning: Setting `Trainer(gpus=1)` is deprecated in v1.7 and will be removed in v2.0. Please use `Trainer(accelerator='gpu', devices=1)` instead.\n",
      "  rank_zero_deprecation(\n",
      "/voyager/projects/edebrouwer/.conda/envs/orthopoly/lib/python3.9/site-packages/pytorch_lightning/loops/utilities.py:93: PossibleUserWarning: `max_epochs` was not set. Setting it to 1000 epochs. To train without an epoch limit, set `max_epochs=-1`.\n",
      "  rank_zero_warn(\n",
      "GPU available: True (cuda), used: True\n",
      "TPU available: False, using: 0 TPU cores\n",
      "IPU available: False, using: 0 IPUs\n",
      "HPU available: False, using: 0 HPUs\n",
      "LOCAL_RANK: 0 - CUDA_VISIBLE_DEVICES: [0,1,2,3]\n"
     ]
    },
    {
     "name": "stdout",
     "output_type": "stream",
     "text": [
      "Predicting DataLoader 0: 100%|██████████| 23/23 [00:00<00:00, 143.26it/s]\n"
     ]
    },
    {
     "name": "stderr",
     "output_type": "stream",
     "text": [
      "/voyager/projects/edebrouwer/.conda/envs/orthopoly/lib/python3.9/site-packages/pytorch_lightning/utilities/parsing.py:261: UserWarning: Attribute 'init_model' is an instance of `nn.Module` and is already saved during checkpointing. It is recommended to ignore them using `self.save_hyperparameters(ignore=['init_model'])`.\n",
      "  rank_zero_warn(\n",
      "Exception ignored in: <function _MultiProcessingDataLoaderIter.__del__ at 0x7f11c0f9f9d0>\n",
      "Traceback (most recent call last):\n",
      "  File \"/voyager/projects/edebrouwer/.conda/envs/orthopoly/lib/python3.9/site-packages/torch/utils/data/dataloader.py\", line 1481, in __del__\n",
      "    self._shutdown_workers()\n",
      "  File \"/voyager/projects/edebrouwer/.conda/envs/orthopoly/lib/python3.9/site-packages/torch/utils/data/dataloader.py\", line 1412, in _shutdown_workers\n",
      "    if not self._shutdown:\n",
      "AttributeError: '_MultiProcessingDataLoaderIter' object has no attribute '_shutdown'\n",
      "Exception ignored in: <function _MultiProcessingDataLoaderIter.__del__ at 0x7f11c0f9f9d0>\n",
      "Traceback (most recent call last):\n",
      "  File \"/voyager/projects/edebrouwer/.conda/envs/orthopoly/lib/python3.9/site-packages/torch/utils/data/dataloader.py\", line 1481, in __del__\n",
      "    self._shutdown_workers()\n",
      "  File \"/voyager/projects/edebrouwer/.conda/envs/orthopoly/lib/python3.9/site-packages/torch/utils/data/dataloader.py\", line 1412, in _shutdown_workers\n",
      "    if not self._shutdown:\n",
      "AttributeError: '_MultiProcessingDataLoaderIter' object has no attribute '_shutdown'\n"
     ]
    },
    {
     "name": "stdout",
     "output_type": "stream",
     "text": [
      "Pre-computing ODE Projection embeddings....\n"
     ]
    },
    {
     "name": "stderr",
     "output_type": "stream",
     "text": [
      "100%|██████████| 20/20 [00:00<00:00, 52.67it/s]\n"
     ]
    },
    {
     "name": "stdout",
     "output_type": "stream",
     "text": [
      "Pre-computing ODE Projection embeddings....\n"
     ]
    },
    {
     "name": "stderr",
     "output_type": "stream",
     "text": [
      "100%|██████████| 20/20 [00:00<00:00, 52.93it/s]\n",
      "/voyager/projects/edebrouwer/.conda/envs/orthopoly/lib/python3.9/site-packages/pytorch_lightning/trainer/connectors/accelerator_connector.py:445: LightningDeprecationWarning: Setting `Trainer(gpus=1)` is deprecated in v1.7 and will be removed in v2.0. Please use `Trainer(accelerator='gpu', devices=1)` instead.\n",
      "  rank_zero_deprecation(\n",
      "/voyager/projects/edebrouwer/.conda/envs/orthopoly/lib/python3.9/site-packages/pytorch_lightning/loops/utilities.py:93: PossibleUserWarning: `max_epochs` was not set. Setting it to 1000 epochs. To train without an epoch limit, set `max_epochs=-1`.\n",
      "  rank_zero_warn(\n",
      "GPU available: True (cuda), used: True\n",
      "TPU available: False, using: 0 TPU cores\n",
      "IPU available: False, using: 0 IPUs\n",
      "HPU available: False, using: 0 HPUs\n",
      "LOCAL_RANK: 0 - CUDA_VISIBLE_DEVICES: [0,1,2,3]\n"
     ]
    },
    {
     "name": "stdout",
     "output_type": "stream",
     "text": [
      "Predicting DataLoader 0: 100%|██████████| 23/23 [00:00<00:00, 155.72it/s]\n",
      "{'0.3': [0.883484954513646], '0.4': [0.8540937718684395], '0.5': [0.8992302309307207], '0.6': [0.9062281315605318]}\n"
     ]
    }
   ],
   "source": [
    "sweep_id = \"1vc3k85v\"\n",
    "device = torch.device(\"cuda\")\n",
    "multivariate = True\n",
    "regression_mode = False\n",
    "api= wandb.Api()\n",
    "sweep = api.sweep(\"edebrouwer/orthopoly/\"+sweep_id)\n",
    "#init_sweep_id = \"edebrouwer/orthopoly/t77q79lw\"\n",
    "runs = sweep.runs\n",
    "\n",
    "model_cls = RNNClassification\n",
    "init_model_cls = RNN\n",
    "#irregular_rates = [0.6, 0.7, 0.8, 0.9, 1.0]\n",
    "irregular_rates = [0.3, 0.4, 0.5, 0.6]\n",
    "seed = 421\n",
    "acc_dict = {}\n",
    "\n",
    "def data_cls_choice(data_type, init_model):\n",
    "    if data_type == \"SimpleTraj\":\n",
    "        data_cls = SimpleTrajDataModule(**init_model.hparams)\n",
    "    elif data_type == \"pMNIST\":\n",
    "        data_cls = pMNISTDataModule(**init_model.hparams)\n",
    "    elif data_type == \"Character\":\n",
    "        data_cls = CharacterTrajDataModule(**init_model.hparams)\n",
    "    return data_cls\n",
    "\n",
    "for irregular_rate in irregular_rates:\n",
    "    \n",
    "    accs_ = []\n",
    "    run_sub = [r for r in runs if (r.config[\"irregular_rate\"]==irregular_rate) and (r.config.get(\"multivariate\",None)==multivariate) and (r.config.get(\"regression_mode\",False)==regression_mode)]\n",
    "\n",
    "    for run in run_sub:\n",
    "        fname = [f.name for f in run.files() if \"ckpt\" in f.name][0]\n",
    "        run.file(fname).download(replace = True, root = \".\")\n",
    "         \n",
    "        checkpoint = torch.load(\n",
    "        fname, map_location=lambda storage, loc: storage)\n",
    "        checkpoint[\"hyper_parameters\"].pop(\"callbacks\", None)\n",
    "        checkpoint[\"hyper_parameters\"].pop(\"logger\", None)\n",
    "        checkpoint[\"hyper_parameters\"].pop(\"wandb_id_file_path\", None)\n",
    "        checkpoint.pop(\"callbacks\",None)\n",
    "        checkpoint_ = {\"state_dict\":checkpoint[\"state_dict\"],\"hyper_parameters\":checkpoint[\"hyper_parameters\"]}\n",
    "        checkpoint_[\"hyper_parameters\"].pop(\"init_model\",None)\n",
    "        \n",
    "        init_model = get_init_model(checkpoint[\"hyper_parameters\"][\"init_sweep_id\"],init_model_cls,checkpoint[\"hyper_parameters\"][\"irregular_rate\"],checkpoint[\"hyper_parameters\"][\"seed\"],checkpoint[\"hyper_parameters\"].get(\"multivariate\", False))\n",
    "        \n",
    "        model = _load_state(model_cls, checkpoint_,init_model = init_model).to(device)\n",
    "        os.remove(fname)\n",
    "        \n",
    "        dataset = data_cls_choice(model.hparams.data_type, init_model = model)\n",
    "        dataset.prepare_data()\n",
    "    \n",
    "        trainer = pl.Trainer(gpus=1,logger = None)\n",
    "        \n",
    "        outputs = trainer.predict(model,dataset.test_dataloader())\n",
    "\n",
    "        preds = torch.cat([x[\"preds\"] for x in outputs])\n",
    "        Y = torch.cat([x[\"Y\"] for x in outputs])\n",
    "        T = torch.cat([x[\"T\"] for x in outputs])\n",
    "        labels = torch.cat([x[\"labels\"] for x in outputs])\n",
    "        \n",
    "        if len(preds.shape)>1:\n",
    "            preds = torch.nn.functional.softmax(preds, dim=-1).argmax(-1)\n",
    "            accuracy = accuracy_score(labels.long().cpu().numpy(), preds.cpu().numpy())\n",
    "        else:\n",
    "            accuracy = roc_auc_score(labels.long().cpu().numpy(),preds.cpu().numpy())\n",
    "        #print(accuracy)\n",
    "        \n",
    "        accs_.append(accuracy)\n",
    "    \n",
    "    acc_dict[f\"{irregular_rate}\"]=accs_\n",
    "print(acc_dict)"
   ]
  },
  {
   "cell_type": "markdown",
   "id": "a035b9e8-f874-433e-a0b1-d8836b2930fa",
   "metadata": {},
   "source": [
    "# Forecasting"
   ]
  },
  {
   "cell_type": "code",
   "execution_count": 4,
   "id": "69cbfe60-f914-4ca0-8c20-df3c1ff1f1da",
   "metadata": {},
   "outputs": [],
   "source": [
    "sweep_id = \"2l62tcyx\"\n",
    "multivariate = None\n",
    "api= wandb.Api()\n",
    "sweep = api.sweep(\"edebrouwer/orthopoly/\"+sweep_id)\n",
    "#init_sweep_id = \"edebrouwer/orthopoly/t77q79lw\"\n",
    "runs = sweep.runs\n",
    "\n",
    "model_cls = HIPPO\n",
    "#irregular_rates = [0.6, 0.7, 0.8, 0.9, 1.0]\n",
    "irregular_rates = [1.0]\n",
    "acc_dict = {}\n",
    "acc_rec_dict = {}\n",
    "\n",
    "def data_cls_choice(data_type, hparams):\n",
    "    if \"forecast_mode\" in hparams:\n",
    "        hparams.pop(\"forecast_mode\")\n",
    "    if data_type == \"SimpleTraj\":\n",
    "        data_cls = SimpleTrajDataModule(**hparams, forecast_mode = True)\n",
    "    elif data_type == \"pMNIST\":\n",
    "        data_cls = pMNISTDataModule(**hparams, forecast_mode = True)\n",
    "    elif data_type == \"Character\":\n",
    "        data_cls = CharacterTrajDataModule(**hparams, forecast_mode = True)\n",
    "    elif data_type == \"MIMIC\":\n",
    "        data_cls = MIMICDataModule(**hparams,forecast_mode = True)\n",
    "    elif data_type == \"Lorenz\":\n",
    "        data_cls = LorenzDataModule(**hparams, forecast_mode = True)\n",
    "    return data_cls\n",
    "\n",
    "for irregular_rate in irregular_rates:\n",
    "    \n",
    "    accs_ = []\n",
    "    accs_rec_ = []\n",
    "    run_sub = [r for r in runs if (r.config[\"irregular_rate\"]==irregular_rate) and (r.config.get(\"multivariate\",None)==multivariate)]\n",
    "\n",
    "    for run in run_sub:\n",
    "        fname = [f.name for f in run.files() if \"ckpt\" in f.name][0]\n",
    "        run.file(fname).download(replace = True, root = \".\")\n",
    "        model = model_cls.load_from_checkpoint(fname)\n",
    "                \n",
    "        dataset = data_cls_choice(model.hparams[\"data_type\"],model.hparams)\n",
    "\n",
    "        #model = model_cls.load_from_checkpoint(fname)\n",
    "        os.remove(fname)\n",
    "        \n",
    "        #dataset.pre_compute_ode = False\n",
    "        dataset.prepare_data()\n",
    "    \n",
    "        trainer = pl.Trainer(gpus=1,logger = None)\n",
    "        \n",
    "        outputs = trainer.predict(model,dataset.test_dataloader())\n",
    "\n",
    "        Y_future = torch.cat([x[\"Y_future\"] for x in outputs])\n",
    "        preds = torch.cat([x[\"preds\"] for x in outputs])\n",
    "        mask_future = torch.cat([x[\"mask_future\"] for x in outputs])\n",
    "        uncertainty_pred = None\n",
    "        Y_rec = torch.cat([x[\"Y_rec\"] for x in outputs])\n",
    "        pred_rec = torch.cat([x[\"pred_rec\"] for x in outputs])\n",
    "        mask_rec = torch.cat([x[\"mask_rec\"] for x in outputs])\n",
    "\n",
    "        # uncertainty_pred = torch.cat([x[\"uncertainty_pred\"] for x in outputs])\n",
    "\n",
    "        mse = model.compute_loss(Y_future, preds, mask_future)\n",
    "        mse_rec = model.compute_loss(Y_rec, pred_rec, mask_rec)\n",
    "        \n",
    "        accs_.append(mse)\n",
    "        accs_rec_.append(mse_rec)\n",
    "    \n",
    "    acc_dict[f\"{irregular_rate}\"]=accs_\n",
    "    acc_rec_dict[f\"{irregular_rate}\"]=accs_rec_\n",
    "print(acc_dict)\n",
    "print(process_dict(acc_dict))\n",
    "print(acc_rec_dict)\n",
    "print(process_dict(acc_rec_dict))"
   ]
  },
  {
   "cell_type": "code",
   "execution_count": 3,
   "id": "f2087516-9e48-40f8-b073-e4eb2267933c",
   "metadata": {},
   "outputs": [
    {
     "data": {
      "text/plain": [
       "torch.Size([4790, 24, 10])"
      ]
     },
     "execution_count": 3,
     "metadata": {},
     "output_type": "execute_result"
    }
   ],
   "source": [
    "Y_future.shape"
   ]
  },
  {
   "cell_type": "code",
   "execution_count": 4,
   "id": "4ca9f95f",
   "metadata": {},
   "outputs": [
    {
     "data": {
      "text/plain": [
       "torch.Size([4790, 1])"
      ]
     },
     "execution_count": 4,
     "metadata": {},
     "output_type": "execute_result"
    }
   ],
   "source": [
    "preds.shape"
   ]
  },
  {
   "cell_type": "code",
   "execution_count": 8,
   "id": "3499555a",
   "metadata": {},
   "outputs": [
    {
     "data": {
      "text/plain": [
       "torch.Size([4790, 12, 10])"
      ]
     },
     "execution_count": 8,
     "metadata": {},
     "output_type": "execute_result"
    }
   ],
   "source": [
    "mask_rec.shape"
   ]
  },
  {
   "cell_type": "code",
   "execution_count": 12,
   "id": "72e9c17d",
   "metadata": {},
   "outputs": [],
   "source": [
    "last_idx = mask_rec.shape[1] - torch.flip(mask_rec,dims=(1,)).argmax(1) - 1"
   ]
  },
  {
   "cell_type": "code",
   "execution_count": 16,
   "id": "961ec7a1",
   "metadata": {},
   "outputs": [
    {
     "data": {
      "text/plain": [
       "torch.Size([4790, 1, 10])"
      ]
     },
     "execution_count": 16,
     "metadata": {},
     "output_type": "execute_result"
    }
   ],
   "source": [
    "torch.gather(Y_rec,dim=1, index = last_idx.unsqueeze(1)).shape"
   ]
  },
  {
   "cell_type": "code",
   "execution_count": 17,
   "id": "7f6cb99d",
   "metadata": {},
   "outputs": [
    {
     "data": {
      "text/plain": [
       "torch.Size([4790, 12, 10])"
      ]
     },
     "execution_count": 17,
     "metadata": {},
     "output_type": "execute_result"
    }
   ],
   "source": [
    "Y_rec.shape"
   ]
  },
  {
   "cell_type": "code",
   "execution_count": null,
   "id": "b9e1f500",
   "metadata": {},
   "outputs": [],
   "source": []
  }
 ],
 "metadata": {
  "kernelspec": {
   "display_name": "Python 3.9.12 ('orthopoly')",
   "language": "python",
   "name": "python3"
  },
  "language_info": {
   "codemirror_mode": {
    "name": "ipython",
    "version": 3
   },
   "file_extension": ".py",
   "mimetype": "text/x-python",
   "name": "python",
   "nbconvert_exporter": "python",
   "pygments_lexer": "ipython3",
   "version": "3.9.12"
  },
  "vscode": {
   "interpreter": {
    "hash": "67cecf8adde82ad4ed3b6cac25ef25194846fdf20e9220680f503d39ba83999b"
   }
  }
 },
 "nbformat": 4,
 "nbformat_minor": 5
}
