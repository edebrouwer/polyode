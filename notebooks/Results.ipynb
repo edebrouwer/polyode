{
 "cells": [
  {
   "cell_type": "code",
   "execution_count": 2,
   "id": "9146798c-b507-446c-8927-4842816b0a37",
   "metadata": {},
   "outputs": [
    {
     "name": "stderr",
     "output_type": "stream",
     "text": [
      "/ssd003/home/edebrouw/Projects/Legendre/.venv/lib/python3.9/site-packages/tqdm/auto.py:22: TqdmWarning: IProgress not found. Please update jupyter and ipywidgets. See https://ipywidgets.readthedocs.io/en/stable/user_install.html\n",
      "  from .autonotebook import tqdm as notebook_tqdm\n",
      "/ssd003/home/edebrouw/Projects/Legendre/.venv/lib/python3.9/site-packages/torchvision/io/image.py:13: UserWarning: Failed to load image Python extension: /ssd003/home/edebrouw/Projects/Legendre/.venv/lib/python3.9/site-packages/torchvision/image.so: undefined symbol: _ZNK3c1010TensorImpl36is_contiguous_nondefault_policy_implENS_12MemoryFormatE\n",
      "  warn(f\"Failed to load image Python extension: {e}\")\n"
     ]
    }
   ],
   "source": [
    "import wandb\n",
    "import os\n",
    "import pytorch_lightning as pl\n",
    "import torch\n",
    "from legendre.models.spline_cnode import SplineCNODEClass\n",
    "from legendre.models.cnode_ext import CNODExtClassification, CNODExt\n",
    "from legendre.models.hippo import HIPPO\n",
    "from legendre.data_utils.simple_path_utils import SimpleTrajDataModule\n",
    "from legendre.data_utils.pMNIST_utils import pMNISTDataModule\n",
    "from legendre.data_utils.character_utils import CharacterTrajDataModule\n",
    "from sklearn.metrics import accuracy_score, roc_auc_score\n",
    "from pytorch_lightning.core.saving import _load_state"
   ]
  },
  {
   "cell_type": "markdown",
   "id": "53e40ae0-37f1-4717-a169-93532a1d7e7e",
   "metadata": {},
   "source": [
    "# Classification"
   ]
  },
  {
   "cell_type": "markdown",
   "id": "fc146580-d049-41f1-8c1a-c06b1c288fa4",
   "metadata": {},
   "source": [
    "## SplineCNODE"
   ]
  },
  {
   "cell_type": "code",
   "execution_count": 2,
   "id": "0b93b1c0-0e9c-43d2-9a09-dfd434931ca1",
   "metadata": {},
   "outputs": [
    {
     "name": "stdout",
     "output_type": "stream",
     "text": [
      "Pre-computing ODE Projection embeddings....\n"
     ]
    },
    {
     "name": "stderr",
     "output_type": "stream",
     "text": [
      "  0%|          | 0/20 [00:00<?, ?it/s]/ssd003/home/edebrouw/Projects/Legendre/.venv/lib/python3.9/site-packages/torchdiffeq/_impl/misc.py:11: UserWarning: Dopri5Solver: Unexpected arguments {'step_size': 0.05}\n",
      "  warnings.warn('{}: Unexpected arguments {}'.format(solver.__class__.__name__, unused_kwargs))\n",
      "100%|██████████| 20/20 [04:23<00:00, 13.17s/it]\n"
     ]
    },
    {
     "name": "stdout",
     "output_type": "stream",
     "text": [
      "Pre-computing ODE Projection embeddings....\n"
     ]
    },
    {
     "name": "stderr",
     "output_type": "stream",
     "text": [
      "100%|██████████| 20/20 [04:25<00:00, 13.28s/it]\n",
      "/ssd003/home/edebrouw/Projects/Legendre/.venv/lib/python3.9/site-packages/pytorch_lightning/trainer/connectors/accelerator_connector.py:445: LightningDeprecationWarning: Setting `Trainer(gpus=1)` is deprecated in v1.7 and will be removed in v2.0. Please use `Trainer(accelerator='gpu', devices=1)` instead.\n",
      "  rank_zero_deprecation(\n",
      "/ssd003/home/edebrouw/Projects/Legendre/.venv/lib/python3.9/site-packages/pytorch_lightning/loops/utilities.py:93: PossibleUserWarning: `max_epochs` was not set. Setting it to 1000 epochs. To train without an epoch limit, set `max_epochs=-1`.\n",
      "  rank_zero_warn(\n",
      "GPU available: True (cuda), used: True\n",
      "TPU available: False, using: 0 TPU cores\n",
      "IPU available: False, using: 0 IPUs\n",
      "HPU available: False, using: 0 HPUs\n",
      "LOCAL_RANK: 0 - CUDA_VISIBLE_DEVICES: [0]\n"
     ]
    },
    {
     "name": "stdout",
     "output_type": "stream",
     "text": [
      "Predicting DataLoader 0: 100%|██████████| 23/23 [00:00<00:00, 104.50it/s]\n"
     ]
    }
   ],
   "source": [
    "sweep_id = \"94ldi5sg\"\n",
    "multivariate = True\n",
    "api= wandb.Api()\n",
    "sweep = api.sweep(\"edebrouwer/orthopoly/\"+sweep_id)\n",
    "runs = sweep.runs\n",
    "\n",
    "model_cls = SplineCNODEClass\n",
    "irregular_rates = [0.5]\n",
    "acc_dict = {}\n",
    "\n",
    "def data_cls_choice(data_type):\n",
    "    if data_type == \"SimpleTraj\":\n",
    "        data_cls = SimpleTrajDataModule(**model.hparams)\n",
    "    elif data_type == \"pMNIST\":\n",
    "        data_cls = pMNISTDataModule(**model.hparams)\n",
    "    elif data_type == \"Character\":\n",
    "        data_cls = CharacterTrajDataModule(**model.hparams)\n",
    "    return data_cls\n",
    "\n",
    "for irregular_rate in irregular_rates:\n",
    "    \n",
    "    accs_ = []\n",
    "    run_sub = [r for r in runs if (r.config[\"irregular_rate\"]==irregular_rate) and (r.config.get(\"multivariate\",None)==multivariate)]\n",
    "\n",
    "    for run in run_sub:\n",
    "        fname = [f.name for f in run.files() if \"ckpt\" in f.name][0]\n",
    "        run.file(fname).download(replace = True, root = \".\")\n",
    "        checkpoint = torch.load(fname, map_location=lambda storage, loc: storage)\n",
    "        hparams = checkpoint[\"hyper_parameters\"]\n",
    "        model = model_cls.load_from_checkpoint(fname,num_dims = hparams.get(\"num_dims\",1))\n",
    "        os.remove(fname)\n",
    "        dataset = data_cls_choice(model.hparams.data_type)\n",
    "        dataset.prepare_data()\n",
    "        \n",
    "        trainer = pl.Trainer(gpus=1)\n",
    "        outputs = trainer.predict(model,dataset.test_dataloader())\n",
    "\n",
    "        preds = torch.cat([x[\"preds\"] for x in outputs])\n",
    "        Y = torch.cat([x[\"Y\"] for x in outputs])\n",
    "        T = torch.cat([x[\"T\"] for x in outputs])\n",
    "        labels = torch.cat([x[\"labels\"] for x in outputs])\n",
    "        \n",
    "        if len(preds.shape)>1:\n",
    "            preds = torch.nn.functional.softmax(preds, dim=-1).argmax(-1)\n",
    "            accuracy = accuracy_score(labels.long().cpu().numpy(), preds.cpu().numpy())\n",
    "        else:\n",
    "            accuracy = roc_auc_score(labels.long().cpu().numpy(),preds.cpu().numpy())\n",
    "        #print(accuracy)\n",
    "        \n",
    "        accs_.append(accuracy)\n",
    "    \n",
    "    acc_dict[f\"{irregular_rate}\"]=accs_"
   ]
  },
  {
   "cell_type": "code",
   "execution_count": 3,
   "id": "7a432c00-11f2-42de-9d94-b5a452eb74a5",
   "metadata": {},
   "outputs": [
    {
     "data": {
      "text/plain": [
       "{'0.5': [0.9692092372288313]}"
      ]
     },
     "execution_count": 3,
     "metadata": {},
     "output_type": "execute_result"
    }
   ],
   "source": [
    "acc_dict"
   ]
  },
  {
   "cell_type": "markdown",
   "id": "b9505362-c4a7-4ae3-b1bc-b89c17942c31",
   "metadata": {
    "tags": []
   },
   "source": [
    "## CNODExt"
   ]
  },
  {
   "cell_type": "code",
   "execution_count": 13,
   "id": "40af0f2c-e815-4bef-a813-4d936f410fce",
   "metadata": {},
   "outputs": [
    {
     "name": "stderr",
     "output_type": "stream",
     "text": [
      "Exception ignored in: <function _MultiProcessingDataLoaderIter.__del__ at 0x7fbbe32e1b80>\n",
      "Traceback (most recent call last):\n",
      "  File \"/ssd003/home/edebrouw/Projects/Legendre/.venv/lib/python3.9/site-packages/torch/utils/data/dataloader.py\", line 1510, in __del__\n",
      "    self._shutdown_workers()\n",
      "  File \"/ssd003/home/edebrouw/Projects/Legendre/.venv/lib/python3.9/site-packages/torch/utils/data/dataloader.py\", line 1441, in _shutdown_workers\n",
      "    if not self._shutdown:\n",
      "AttributeError: '_MultiProcessingDataLoaderIter' object has no attribute '_shutdown'\n",
      "Exception ignored in: <function _MultiProcessingDataLoaderIter.__del__ at 0x7fbbe32e1b80>\n",
      "Traceback (most recent call last):\n",
      "  File \"/ssd003/home/edebrouw/Projects/Legendre/.venv/lib/python3.9/site-packages/torch/utils/data/dataloader.py\", line 1510, in __del__\n",
      "    self._shutdown_workers()\n",
      "  File \"/ssd003/home/edebrouw/Projects/Legendre/.venv/lib/python3.9/site-packages/torch/utils/data/dataloader.py\", line 1441, in _shutdown_workers\n",
      "    if not self._shutdown:\n",
      "AttributeError: '_MultiProcessingDataLoaderIter' object has no attribute '_shutdown'\n"
     ]
    },
    {
     "name": "stdout",
     "output_type": "stream",
     "text": [
      "Pre-computing ODE Projection embeddings....\n"
     ]
    },
    {
     "name": "stderr",
     "output_type": "stream",
     "text": [
      "100%|██████████| 20/20 [04:49<00:00, 14.48s/it]\n"
     ]
    },
    {
     "name": "stdout",
     "output_type": "stream",
     "text": [
      "Pre-computing ODE Projection embeddings....\n"
     ]
    },
    {
     "name": "stderr",
     "output_type": "stream",
     "text": [
      "100%|██████████| 20/20 [04:48<00:00, 14.41s/it]\n",
      "/ssd003/home/edebrouw/Projects/Legendre/.venv/lib/python3.9/site-packages/pytorch_lightning/trainer/connectors/accelerator_connector.py:445: LightningDeprecationWarning: Setting `Trainer(gpus=1)` is deprecated in v1.7 and will be removed in v2.0. Please use `Trainer(accelerator='gpu', devices=1)` instead.\n",
      "  rank_zero_deprecation(\n",
      "/ssd003/home/edebrouw/Projects/Legendre/.venv/lib/python3.9/site-packages/pytorch_lightning/loops/utilities.py:93: PossibleUserWarning: `max_epochs` was not set. Setting it to 1000 epochs. To train without an epoch limit, set `max_epochs=-1`.\n",
      "  rank_zero_warn(\n",
      "GPU available: True (cuda), used: True\n",
      "TPU available: False, using: 0 TPU cores\n",
      "IPU available: False, using: 0 IPUs\n",
      "HPU available: False, using: 0 HPUs\n",
      "LOCAL_RANK: 0 - CUDA_VISIBLE_DEVICES: [0]\n"
     ]
    },
    {
     "name": "stdout",
     "output_type": "stream",
     "text": [
      "Predicting DataLoader 0: 100%|██████████| 23/23 [00:00<00:00, 109.57it/s]\n"
     ]
    },
    {
     "name": "stderr",
     "output_type": "stream",
     "text": [
      "/ssd003/home/edebrouw/Projects/Legendre/.venv/lib/python3.9/site-packages/pytorch_lightning/utilities/parsing.py:261: UserWarning: Attribute 'init_model' is an instance of `nn.Module` and is already saved during checkpointing. It is recommended to ignore them using `self.save_hyperparameters(ignore=['init_model'])`.\n",
      "  rank_zero_warn(\n"
     ]
    },
    {
     "name": "stdout",
     "output_type": "stream",
     "text": [
      "Pre-computing ODE Projection embeddings....\n"
     ]
    },
    {
     "name": "stderr",
     "output_type": "stream",
     "text": [
      "  0%|          | 0/20 [00:00<?, ?it/s]/ssd003/home/edebrouw/Projects/Legendre/.venv/lib/python3.9/site-packages/torchdiffeq/_impl/misc.py:11: UserWarning: Dopri5Solver: Unexpected arguments {'step_size': 0.05}\n",
      "  warnings.warn('{}: Unexpected arguments {}'.format(solver.__class__.__name__, unused_kwargs))\n",
      "100%|██████████| 20/20 [04:47<00:00, 14.39s/it]\n"
     ]
    },
    {
     "name": "stdout",
     "output_type": "stream",
     "text": [
      "Pre-computing ODE Projection embeddings....\n"
     ]
    },
    {
     "name": "stderr",
     "output_type": "stream",
     "text": [
      "100%|██████████| 20/20 [04:47<00:00, 14.37s/it]\n",
      "/ssd003/home/edebrouw/Projects/Legendre/.venv/lib/python3.9/site-packages/pytorch_lightning/trainer/connectors/accelerator_connector.py:445: LightningDeprecationWarning: Setting `Trainer(gpus=1)` is deprecated in v1.7 and will be removed in v2.0. Please use `Trainer(accelerator='gpu', devices=1)` instead.\n",
      "  rank_zero_deprecation(\n",
      "/ssd003/home/edebrouw/Projects/Legendre/.venv/lib/python3.9/site-packages/pytorch_lightning/loops/utilities.py:93: PossibleUserWarning: `max_epochs` was not set. Setting it to 1000 epochs. To train without an epoch limit, set `max_epochs=-1`.\n",
      "  rank_zero_warn(\n",
      "Exception ignored in: <function _MultiProcessingDataLoaderIter.__del__ at 0x7fbbe32e1b80>\n",
      "Traceback (most recent call last):\n",
      "  File \"/ssd003/home/edebrouw/Projects/Legendre/.venv/lib/python3.9/site-packages/torch/utils/data/dataloader.py\", line 1510, in __del__\n",
      "    self._shutdown_workers()\n",
      "  File \"/ssd003/home/edebrouw/Projects/Legendre/.venv/lib/python3.9/site-packages/torch/utils/data/dataloader.py\", line 1441, in _shutdown_workers\n",
      "    if not self._shutdown:\n",
      "AttributeError: '_MultiProcessingDataLoaderIter' object has no attribute '_shutdown'\n",
      "Exception ignored in: <function _MultiProcessingDataLoaderIter.__del__ at 0x7fbbe32e1b80>\n",
      "Traceback (most recent call last):\n",
      "  File \"/ssd003/home/edebrouw/Projects/Legendre/.venv/lib/python3.9/site-packages/torch/utils/data/dataloader.py\", line 1510, in __del__\n",
      "    self._shutdown_workers()\n",
      "  File \"/ssd003/home/edebrouw/Projects/Legendre/.venv/lib/python3.9/site-packages/torch/utils/data/dataloader.py\", line 1441, in _shutdown_workers\n",
      "    if not self._shutdown:\n",
      "AttributeError: '_MultiProcessingDataLoaderIter' object has no attribute '_shutdown'\n",
      "GPU available: True (cuda), used: True\n",
      "TPU available: False, using: 0 TPU cores\n",
      "IPU available: False, using: 0 IPUs\n",
      "HPU available: False, using: 0 HPUs\n",
      "LOCAL_RANK: 0 - CUDA_VISIBLE_DEVICES: [0]\n"
     ]
    },
    {
     "name": "stdout",
     "output_type": "stream",
     "text": [
      "Predicting DataLoader 0: 100%|██████████| 23/23 [00:00<00:00, 111.64it/s]\n"
     ]
    },
    {
     "name": "stderr",
     "output_type": "stream",
     "text": [
      "/ssd003/home/edebrouw/Projects/Legendre/.venv/lib/python3.9/site-packages/pytorch_lightning/utilities/parsing.py:261: UserWarning: Attribute 'init_model' is an instance of `nn.Module` and is already saved during checkpointing. It is recommended to ignore them using `self.save_hyperparameters(ignore=['init_model'])`.\n",
      "  rank_zero_warn(\n",
      "Exception ignored in: <function _MultiProcessingDataLoaderIter.__del__ at 0x7fbbe32e1b80>\n",
      "Traceback (most recent call last):\n",
      "  File \"/ssd003/home/edebrouw/Projects/Legendre/.venv/lib/python3.9/site-packages/torch/utils/data/dataloader.py\", line 1510, in __del__\n",
      "    self._shutdown_workers()\n",
      "  File \"/ssd003/home/edebrouw/Projects/Legendre/.venv/lib/python3.9/site-packages/torch/utils/data/dataloader.py\", line 1441, in _shutdown_workers\n",
      "    if not self._shutdown:\n",
      "AttributeError: '_MultiProcessingDataLoaderIter' object has no attribute '_shutdown'\n",
      "Exception ignored in: <function _MultiProcessingDataLoaderIter.__del__ at 0x7fbbe32e1b80>\n",
      "Traceback (most recent call last):\n",
      "  File \"/ssd003/home/edebrouw/Projects/Legendre/.venv/lib/python3.9/site-packages/torch/utils/data/dataloader.py\", line 1510, in __del__\n",
      "    self._shutdown_workers()\n",
      "  File \"/ssd003/home/edebrouw/Projects/Legendre/.venv/lib/python3.9/site-packages/torch/utils/data/dataloader.py\", line 1441, in _shutdown_workers\n",
      "    if not self._shutdown:\n",
      "AttributeError: '_MultiProcessingDataLoaderIter' object has no attribute '_shutdown'\n"
     ]
    },
    {
     "name": "stdout",
     "output_type": "stream",
     "text": [
      "Pre-computing ODE Projection embeddings....\n"
     ]
    },
    {
     "name": "stderr",
     "output_type": "stream",
     "text": [
      "  0%|          | 0/20 [00:00<?, ?it/s]/ssd003/home/edebrouw/Projects/Legendre/.venv/lib/python3.9/site-packages/torchdiffeq/_impl/misc.py:11: UserWarning: Dopri5Solver: Unexpected arguments {'step_size': 0.05}\n",
      "  warnings.warn('{}: Unexpected arguments {}'.format(solver.__class__.__name__, unused_kwargs))\n",
      "100%|██████████| 20/20 [05:03<00:00, 15.15s/it]\n"
     ]
    },
    {
     "name": "stdout",
     "output_type": "stream",
     "text": [
      "Pre-computing ODE Projection embeddings....\n"
     ]
    },
    {
     "name": "stderr",
     "output_type": "stream",
     "text": [
      "100%|██████████| 20/20 [05:02<00:00, 15.11s/it]\n",
      "/ssd003/home/edebrouw/Projects/Legendre/.venv/lib/python3.9/site-packages/pytorch_lightning/trainer/connectors/accelerator_connector.py:445: LightningDeprecationWarning: Setting `Trainer(gpus=1)` is deprecated in v1.7 and will be removed in v2.0. Please use `Trainer(accelerator='gpu', devices=1)` instead.\n",
      "  rank_zero_deprecation(\n",
      "/ssd003/home/edebrouw/Projects/Legendre/.venv/lib/python3.9/site-packages/pytorch_lightning/loops/utilities.py:93: PossibleUserWarning: `max_epochs` was not set. Setting it to 1000 epochs. To train without an epoch limit, set `max_epochs=-1`.\n",
      "  rank_zero_warn(\n",
      "GPU available: True (cuda), used: True\n",
      "TPU available: False, using: 0 TPU cores\n",
      "IPU available: False, using: 0 IPUs\n",
      "HPU available: False, using: 0 HPUs\n",
      "LOCAL_RANK: 0 - CUDA_VISIBLE_DEVICES: [0]\n"
     ]
    },
    {
     "name": "stdout",
     "output_type": "stream",
     "text": [
      "Predicting DataLoader 0: 100%|██████████| 23/23 [00:00<00:00, 109.07it/s]\n"
     ]
    },
    {
     "name": "stderr",
     "output_type": "stream",
     "text": [
      "/ssd003/home/edebrouw/Projects/Legendre/.venv/lib/python3.9/site-packages/pytorch_lightning/utilities/parsing.py:261: UserWarning: Attribute 'init_model' is an instance of `nn.Module` and is already saved during checkpointing. It is recommended to ignore them using `self.save_hyperparameters(ignore=['init_model'])`.\n",
      "  rank_zero_warn(\n"
     ]
    },
    {
     "name": "stdout",
     "output_type": "stream",
     "text": [
      "Pre-computing ODE Projection embeddings....\n"
     ]
    },
    {
     "name": "stderr",
     "output_type": "stream",
     "text": [
      "  0%|          | 0/20 [00:00<?, ?it/s]/ssd003/home/edebrouw/Projects/Legendre/.venv/lib/python3.9/site-packages/torchdiffeq/_impl/misc.py:11: UserWarning: Dopri5Solver: Unexpected arguments {'step_size': 0.05}\n",
      "  warnings.warn('{}: Unexpected arguments {}'.format(solver.__class__.__name__, unused_kwargs))\n",
      "100%|██████████| 20/20 [05:23<00:00, 16.16s/it]\n"
     ]
    },
    {
     "name": "stdout",
     "output_type": "stream",
     "text": [
      "Pre-computing ODE Projection embeddings....\n"
     ]
    },
    {
     "name": "stderr",
     "output_type": "stream",
     "text": [
      "100%|██████████| 20/20 [05:17<00:00, 15.88s/it]\n",
      "/ssd003/home/edebrouw/Projects/Legendre/.venv/lib/python3.9/site-packages/pytorch_lightning/trainer/connectors/accelerator_connector.py:445: LightningDeprecationWarning: Setting `Trainer(gpus=1)` is deprecated in v1.7 and will be removed in v2.0. Please use `Trainer(accelerator='gpu', devices=1)` instead.\n",
      "  rank_zero_deprecation(\n",
      "/ssd003/home/edebrouw/Projects/Legendre/.venv/lib/python3.9/site-packages/pytorch_lightning/loops/utilities.py:93: PossibleUserWarning: `max_epochs` was not set. Setting it to 1000 epochs. To train without an epoch limit, set `max_epochs=-1`.\n",
      "  rank_zero_warn(\n",
      "GPU available: True (cuda), used: True\n",
      "TPU available: False, using: 0 TPU cores\n",
      "IPU available: False, using: 0 IPUs\n",
      "HPU available: False, using: 0 HPUs\n",
      "LOCAL_RANK: 0 - CUDA_VISIBLE_DEVICES: [0]\n"
     ]
    },
    {
     "name": "stdout",
     "output_type": "stream",
     "text": [
      "Predicting DataLoader 0: 100%|██████████| 23/23 [00:00<00:00, 114.76it/s]\n",
      "{'0.3': [0.9072778166550035], '0.4': [0.9429671098670399], '0.5': [0.9503149055283415], '0.6': [0.9657102869139258]}\n"
     ]
    }
   ],
   "source": [
    "sweep_id = \"ej2hbh5g\"\n",
    "api= wandb.Api()\n",
    "sweep = api.sweep(\"edebrouwer/orthopoly/\"+sweep_id)\n",
    "#init_sweep_id = \"edebrouwer/orthopoly/t77q79lw\"\n",
    "runs = sweep.runs\n",
    "\n",
    "model_cls = CNODExtClassification\n",
    "init_model_cls = CNODExt\n",
    "irregular_rates = [0.3, 0.4, 0.5, 0.6]\n",
    "seed = 421\n",
    "acc_dict = {}\n",
    "\n",
    "def data_cls_choice(data_type, init_model):\n",
    "    if data_type == \"SimpleTraj\":\n",
    "        data_cls = SimpleTrajDataModule(**init_model.hparams)\n",
    "    elif data_type == \"pMNIST\":\n",
    "        data_cls = pMNISTDataModule(**init_model.hparams)\n",
    "    elif data_type == \"Character\":\n",
    "        data_cls = CharacterTrajDataModule(**init_model.hparams)\n",
    "    return data_cls\n",
    "\n",
    "for irregular_rate in irregular_rates:\n",
    "    \n",
    "    accs_ = []\n",
    "    run_sub = [r for r in runs if (r.config[\"irregular_rate\"]==irregular_rate)]\n",
    "\n",
    "    for run in run_sub:\n",
    "        fname = [f.name for f in run.files() if \"ckpt\" in f.name][0]\n",
    "        run.file(fname).download(replace = True, root = \".\")\n",
    "         \n",
    "        checkpoint = torch.load(\n",
    "        fname, map_location=lambda storage, loc: storage)\n",
    "        checkpoint[\"hyper_parameters\"].pop(\"callbacks\", None)\n",
    "        checkpoint[\"hyper_parameters\"].pop(\"logger\", None)\n",
    "        checkpoint[\"hyper_parameters\"].pop(\"wandb_id_file_path\", None)\n",
    "        checkpoint.pop(\"callbacks\",None)\n",
    "        checkpoint_ = {\"state_dict\":checkpoint[\"state_dict\"],\"hyper_parameters\":checkpoint[\"hyper_parameters\"]}\n",
    "        checkpoint_[\"hyper_parameters\"].pop(\"init_model\",None)\n",
    "        \n",
    "        input_dim = checkpoint[\"hyper_parameters\"].pop(\"input_dim\",None)\n",
    "        if input_dim is None:\n",
    "            init_model = CNODExt( **checkpoint[\"hyper_parameters\"],output_dim = checkpoint[\"hyper_parameters\"][\"num_dims\"])\n",
    "        else:\n",
    "            init_model = CNODExt(output_dim = input_dim, **checkpoint[\"hyper_parameters\"])\n",
    "        \n",
    "        model = _load_state(model_cls, checkpoint_,init_model = init_model)\n",
    "               \n",
    "        #model = model_cls.load_from_checkpoint(fname)\n",
    "        os.remove(fname)\n",
    "        \n",
    "        dataset = data_cls_choice(model.hparams.data_type, init_model = model)\n",
    "        #dataset.pre_compute_ode = False\n",
    "        dataset.prepare_data()\n",
    "    \n",
    "        trainer = pl.Trainer(gpus=1,logger = None)\n",
    "        \n",
    "        outputs = trainer.predict(model,dataset.test_dataloader())\n",
    "\n",
    "        preds = torch.cat([x[\"preds\"] for x in outputs])\n",
    "        Y = torch.cat([x[\"Y\"] for x in outputs])\n",
    "        T = torch.cat([x[\"T\"] for x in outputs])\n",
    "        labels = torch.cat([x[\"labels\"] for x in outputs])\n",
    "        \n",
    "        if len(preds.shape)>1:\n",
    "            preds = torch.nn.functional.softmax(preds, dim=-1).argmax(-1)\n",
    "            accuracy = accuracy_score(labels.long().cpu().numpy(), preds.cpu().numpy())\n",
    "        else:\n",
    "            accuracy = roc_auc_score(labels.long().cpu().numpy(),preds.cpu().numpy())\n",
    "        #print(accuracy)\n",
    "        \n",
    "        accs_.append(accuracy)\n",
    "    \n",
    "    acc_dict[f\"{irregular_rate}\"]=accs_\n",
    "print(acc_dict)"
   ]
  },
  {
   "cell_type": "code",
   "execution_count": 14,
   "id": "597a7ed0-d0c3-44a3-8387-84b111fac6b4",
   "metadata": {},
   "outputs": [
    {
     "data": {
      "text/plain": [
       "{'0.3': [0.9072778166550035],\n",
       " '0.4': [0.9429671098670399],\n",
       " '0.5': [0.9503149055283415],\n",
       " '0.6': [0.9657102869139258]}"
      ]
     },
     "execution_count": 14,
     "metadata": {},
     "output_type": "execute_result"
    }
   ],
   "source": [
    "acc_dict"
   ]
  },
  {
   "cell_type": "markdown",
   "id": "de79458d-0ba5-4185-9a05-53d912c6f160",
   "metadata": {
    "jp-MarkdownHeadingCollapsed": true,
    "tags": []
   },
   "source": [
    "## Hippo"
   ]
  },
  {
   "cell_type": "code",
   "execution_count": 12,
   "id": "2d5db15a-1802-4adc-893a-26569269f0d3",
   "metadata": {},
   "outputs": [
    {
     "name": "stderr",
     "output_type": "stream",
     "text": [
      "/ssd003/home/edebrouw/Projects/Legendre/.venv/lib/python3.9/site-packages/pytorch_lightning/trainer/connectors/accelerator_connector.py:445: LightningDeprecationWarning: Setting `Trainer(gpus=1)` is deprecated in v1.7 and will be removed in v2.0. Please use `Trainer(accelerator='gpu', devices=1)` instead.\n",
      "  rank_zero_deprecation(\n",
      "/ssd003/home/edebrouw/Projects/Legendre/.venv/lib/python3.9/site-packages/pytorch_lightning/loops/utilities.py:93: PossibleUserWarning: `max_epochs` was not set. Setting it to 1000 epochs. To train without an epoch limit, set `max_epochs=-1`.\n",
      "  rank_zero_warn(\n",
      "GPU available: True (cuda), used: True\n",
      "TPU available: False, using: 0 TPU cores\n",
      "IPU available: False, using: 0 IPUs\n",
      "HPU available: False, using: 0 HPUs\n",
      "LOCAL_RANK: 0 - CUDA_VISIBLE_DEVICES: [0]\n"
     ]
    },
    {
     "name": "stdout",
     "output_type": "stream",
     "text": [
      "Predicting DataLoader 0: 100%|██████████| 23/23 [00:00<00:00, 28.80it/s]\n"
     ]
    },
    {
     "name": "stderr",
     "output_type": "stream",
     "text": [
      "/ssd003/home/edebrouw/Projects/Legendre/.venv/lib/python3.9/site-packages/pytorch_lightning/trainer/connectors/accelerator_connector.py:445: LightningDeprecationWarning: Setting `Trainer(gpus=1)` is deprecated in v1.7 and will be removed in v2.0. Please use `Trainer(accelerator='gpu', devices=1)` instead.\n",
      "  rank_zero_deprecation(\n",
      "/ssd003/home/edebrouw/Projects/Legendre/.venv/lib/python3.9/site-packages/pytorch_lightning/loops/utilities.py:93: PossibleUserWarning: `max_epochs` was not set. Setting it to 1000 epochs. To train without an epoch limit, set `max_epochs=-1`.\n",
      "  rank_zero_warn(\n",
      "GPU available: True (cuda), used: True\n",
      "TPU available: False, using: 0 TPU cores\n",
      "IPU available: False, using: 0 IPUs\n",
      "HPU available: False, using: 0 HPUs\n",
      "LOCAL_RANK: 0 - CUDA_VISIBLE_DEVICES: [0]\n"
     ]
    },
    {
     "name": "stdout",
     "output_type": "stream",
     "text": [
      "Predicting DataLoader 0: 100%|██████████| 23/23 [00:00<00:00, 29.72it/s]\n"
     ]
    },
    {
     "name": "stderr",
     "output_type": "stream",
     "text": [
      "/ssd003/home/edebrouw/Projects/Legendre/.venv/lib/python3.9/site-packages/pytorch_lightning/trainer/connectors/accelerator_connector.py:445: LightningDeprecationWarning: Setting `Trainer(gpus=1)` is deprecated in v1.7 and will be removed in v2.0. Please use `Trainer(accelerator='gpu', devices=1)` instead.\n",
      "  rank_zero_deprecation(\n",
      "/ssd003/home/edebrouw/Projects/Legendre/.venv/lib/python3.9/site-packages/pytorch_lightning/loops/utilities.py:93: PossibleUserWarning: `max_epochs` was not set. Setting it to 1000 epochs. To train without an epoch limit, set `max_epochs=-1`.\n",
      "  rank_zero_warn(\n",
      "GPU available: True (cuda), used: True\n",
      "TPU available: False, using: 0 TPU cores\n",
      "IPU available: False, using: 0 IPUs\n",
      "HPU available: False, using: 0 HPUs\n",
      "LOCAL_RANK: 0 - CUDA_VISIBLE_DEVICES: [0]\n"
     ]
    },
    {
     "name": "stdout",
     "output_type": "stream",
     "text": [
      "Predicting DataLoader 0: 100%|██████████| 23/23 [00:00<00:00, 28.50it/s]\n"
     ]
    },
    {
     "name": "stderr",
     "output_type": "stream",
     "text": [
      "/ssd003/home/edebrouw/Projects/Legendre/.venv/lib/python3.9/site-packages/pytorch_lightning/trainer/connectors/accelerator_connector.py:445: LightningDeprecationWarning: Setting `Trainer(gpus=1)` is deprecated in v1.7 and will be removed in v2.0. Please use `Trainer(accelerator='gpu', devices=1)` instead.\n",
      "  rank_zero_deprecation(\n",
      "/ssd003/home/edebrouw/Projects/Legendre/.venv/lib/python3.9/site-packages/pytorch_lightning/loops/utilities.py:93: PossibleUserWarning: `max_epochs` was not set. Setting it to 1000 epochs. To train without an epoch limit, set `max_epochs=-1`.\n",
      "  rank_zero_warn(\n",
      "GPU available: True (cuda), used: True\n",
      "TPU available: False, using: 0 TPU cores\n",
      "IPU available: False, using: 0 IPUs\n",
      "HPU available: False, using: 0 HPUs\n",
      "LOCAL_RANK: 0 - CUDA_VISIBLE_DEVICES: [0]\n"
     ]
    },
    {
     "name": "stdout",
     "output_type": "stream",
     "text": [
      "Predicting DataLoader 0: 100%|██████████| 23/23 [00:00<00:00, 29.22it/s]\n",
      "{'0.3': [0.9153254023792862], '0.4': [0.9450664800559833], '0.5': [0.9552134359692093], '0.6': [0.9636109167249826]}\n"
     ]
    }
   ],
   "source": [
    "sweep_id = \"iycs44zs\"\n",
    "multivariate = True\n",
    "api= wandb.Api()\n",
    "sweep = api.sweep(\"edebrouwer/orthopoly/\"+sweep_id)\n",
    "runs = sweep.runs\n",
    "\n",
    "model_cls = HIPPO\n",
    "\n",
    "irregular_rates = [0.3, 0.4, 0.5, 0.6]\n",
    "seed = 421\n",
    "acc_dict = {}\n",
    "\n",
    "def data_cls_choice(data_type):\n",
    "    if data_type == \"SimpleTraj\":\n",
    "        data_cls = SimpleTrajDataModule(**model.hparams)\n",
    "    elif data_type == \"pMNIST\":\n",
    "        data_cls = pMNISTDataModule(**model.hparams)\n",
    "    elif data_type == \"Character\":\n",
    "        data_cls = CharacterTrajDataModule(**model.hparams)\n",
    "    return data_cls\n",
    "\n",
    "for irregular_rate in irregular_rates:\n",
    "    \n",
    "    accs_ = []\n",
    "    run_sub = [r for r in runs if (r.config[\"irregular_rate\"]==irregular_rate) and (r.config.get(\"multivariate\",None)==multivariate)]\n",
    "\n",
    "    for run in run_sub:\n",
    "        fname = [f.name for f in run.files() if \"ckpt\" in f.name][0]\n",
    "        run.file(fname).download(replace = True, root = \".\")\n",
    "        checkpoint = torch.load(fname, map_location=lambda storage, loc: storage)\n",
    "        hparams = checkpoint[\"hyper_parameters\"]\n",
    "        model = model_cls.load_from_checkpoint(fname,num_dims = hparams.get(\"num_dims\",1))\n",
    "        os.remove(fname)\n",
    "        dataset = data_cls_choice(model.hparams.data_type)\n",
    "        dataset.prepare_data()\n",
    "        \n",
    "        trainer = pl.Trainer(gpus=1)\n",
    "        outputs = trainer.predict(model,dataset.test_dataloader())\n",
    "\n",
    "        preds = torch.cat([x[\"preds\"] for x in outputs])\n",
    "        Y = torch.cat([x[\"Y\"] for x in outputs])\n",
    "        T = torch.cat([x[\"T\"] for x in outputs])\n",
    "        labels = torch.cat([x[\"labels\"] for x in outputs])\n",
    "        \n",
    "        if len(preds.shape)>1:\n",
    "            preds = torch.nn.functional.softmax(preds, dim=-1).argmax(-1)\n",
    "            accuracy = accuracy_score(labels.long().cpu().numpy(), preds.cpu().numpy())\n",
    "        else:\n",
    "            accuracy = roc_auc_score(labels.long().cpu().numpy(),preds.cpu().numpy())\n",
    "        #print(accuracy)\n",
    "        \n",
    "        accs_.append(accuracy)\n",
    "    \n",
    "    acc_dict[f\"{irregular_rate}\"]=accs_\n",
    "print(acc_dict)"
   ]
  },
  {
   "cell_type": "markdown",
   "id": "a035b9e8-f874-433e-a0b1-d8836b2930fa",
   "metadata": {},
   "source": [
    "# Forecasting"
   ]
  },
  {
   "cell_type": "code",
   "execution_count": 18,
   "id": "69cbfe60-f914-4ca0-8c20-df3c1ff1f1da",
   "metadata": {},
   "outputs": [
    {
     "name": "stderr",
     "output_type": "stream",
     "text": [
      "Exception ignored in: <function _MultiProcessingDataLoaderIter.__del__ at 0x7fb64881c550>\n",
      "Traceback (most recent call last):\n",
      "  File \"/ssd003/home/edebrouw/Projects/Legendre/.venv/lib/python3.9/site-packages/torch/utils/data/dataloader.py\", line 1510, in __del__\n",
      "    self._shutdown_workers()\n",
      "  File \"/ssd003/home/edebrouw/Projects/Legendre/.venv/lib/python3.9/site-packages/torch/utils/data/dataloader.py\", line 1441, in _shutdown_workers\n",
      "    if not self._shutdown:\n",
      "AttributeError: '_MultiProcessingDataLoaderIter' object has no attribute '_shutdown'\n",
      "Exception ignored in: <function _MultiProcessingDataLoaderIter.__del__ at 0x7fb64881c550>\n",
      "Traceback (most recent call last):\n",
      "  File \"/ssd003/home/edebrouw/Projects/Legendre/.venv/lib/python3.9/site-packages/torch/utils/data/dataloader.py\", line 1510, in __del__\n",
      "    self._shutdown_workers()\n",
      "  File \"/ssd003/home/edebrouw/Projects/Legendre/.venv/lib/python3.9/site-packages/torch/utils/data/dataloader.py\", line 1441, in _shutdown_workers\n",
      "    if not self._shutdown:\n",
      "AttributeError: '_MultiProcessingDataLoaderIter' object has no attribute '_shutdown'\n",
      "GPU available: True (cuda), used: True\n",
      "TPU available: False, using: 0 TPU cores\n",
      "IPU available: False, using: 0 IPUs\n",
      "HPU available: False, using: 0 HPUs\n",
      "LOCAL_RANK: 0 - CUDA_VISIBLE_DEVICES: [0]\n"
     ]
    },
    {
     "name": "stdout",
     "output_type": "stream",
     "text": [
      "Predicting DataLoader 0:   0%|          | 0/23 [00:00<?, ?it/s]"
     ]
    },
    {
     "ename": "ValueError",
     "evalue": "not enough values to unpack (expected 9, got 5)",
     "output_type": "error",
     "traceback": [
      "\u001b[0;31m---------------------------------------------------------------------------\u001b[0m",
      "\u001b[0;31mValueError\u001b[0m                                Traceback (most recent call last)",
      "Input \u001b[0;32mIn [18]\u001b[0m, in \u001b[0;36m<cell line: 22>\u001b[0;34m()\u001b[0m\n\u001b[1;32m     57\u001b[0m dataset\u001b[38;5;241m.\u001b[39mprepare_data()\n\u001b[1;32m     59\u001b[0m trainer \u001b[38;5;241m=\u001b[39m pl\u001b[38;5;241m.\u001b[39mTrainer(gpus\u001b[38;5;241m=\u001b[39m\u001b[38;5;241m1\u001b[39m,logger \u001b[38;5;241m=\u001b[39m \u001b[38;5;28;01mNone\u001b[39;00m)\n\u001b[0;32m---> 61\u001b[0m outputs \u001b[38;5;241m=\u001b[39m \u001b[43mtrainer\u001b[49m\u001b[38;5;241;43m.\u001b[39;49m\u001b[43mpredict\u001b[49m\u001b[43m(\u001b[49m\u001b[43mmodel\u001b[49m\u001b[43m,\u001b[49m\u001b[43mdataset\u001b[49m\u001b[38;5;241;43m.\u001b[39;49m\u001b[43mtest_dataloader\u001b[49m\u001b[43m(\u001b[49m\u001b[43m)\u001b[49m\u001b[43m)\u001b[49m\n\u001b[1;32m     63\u001b[0m preds \u001b[38;5;241m=\u001b[39m torch\u001b[38;5;241m.\u001b[39mcat([x[\u001b[38;5;124m\"\u001b[39m\u001b[38;5;124mpreds\u001b[39m\u001b[38;5;124m\"\u001b[39m] \u001b[38;5;28;01mfor\u001b[39;00m x \u001b[38;5;129;01min\u001b[39;00m outputs])\n\u001b[1;32m     64\u001b[0m Y \u001b[38;5;241m=\u001b[39m torch\u001b[38;5;241m.\u001b[39mcat([x[\u001b[38;5;124m\"\u001b[39m\u001b[38;5;124mY\u001b[39m\u001b[38;5;124m\"\u001b[39m] \u001b[38;5;28;01mfor\u001b[39;00m x \u001b[38;5;129;01min\u001b[39;00m outputs])\n",
      "File \u001b[0;32m/ssd003/home/edebrouw/Projects/Legendre/.venv/lib/python3.9/site-packages/pytorch_lightning/trainer/trainer.py:955\u001b[0m, in \u001b[0;36mTrainer.predict\u001b[0;34m(self, model, dataloaders, datamodule, return_predictions, ckpt_path)\u001b[0m\n\u001b[1;32m    930\u001b[0m \u001b[38;5;124mr\u001b[39m\u001b[38;5;124;03m\"\"\"\u001b[39;00m\n\u001b[1;32m    931\u001b[0m \u001b[38;5;124;03mRun inference on your data.\u001b[39;00m\n\u001b[1;32m    932\u001b[0m \u001b[38;5;124;03mThis will call the model forward function to compute predictions. Useful to perform distributed\u001b[39;00m\n\u001b[0;32m   (...)\u001b[0m\n\u001b[1;32m    952\u001b[0m \u001b[38;5;124;03m    Returns a list of dictionaries, one for each provided dataloader containing their respective predictions.\u001b[39;00m\n\u001b[1;32m    953\u001b[0m \u001b[38;5;124;03m\"\"\"\u001b[39;00m\n\u001b[1;32m    954\u001b[0m \u001b[38;5;28mself\u001b[39m\u001b[38;5;241m.\u001b[39mstrategy\u001b[38;5;241m.\u001b[39mmodel \u001b[38;5;241m=\u001b[39m model \u001b[38;5;129;01mor\u001b[39;00m \u001b[38;5;28mself\u001b[39m\u001b[38;5;241m.\u001b[39mlightning_module\n\u001b[0;32m--> 955\u001b[0m \u001b[38;5;28;01mreturn\u001b[39;00m \u001b[38;5;28;43mself\u001b[39;49m\u001b[38;5;241;43m.\u001b[39;49m\u001b[43m_call_and_handle_interrupt\u001b[49m\u001b[43m(\u001b[49m\n\u001b[1;32m    956\u001b[0m \u001b[43m    \u001b[49m\u001b[38;5;28;43mself\u001b[39;49m\u001b[38;5;241;43m.\u001b[39;49m\u001b[43m_predict_impl\u001b[49m\u001b[43m,\u001b[49m\u001b[43m \u001b[49m\u001b[43mmodel\u001b[49m\u001b[43m,\u001b[49m\u001b[43m \u001b[49m\u001b[43mdataloaders\u001b[49m\u001b[43m,\u001b[49m\u001b[43m \u001b[49m\u001b[43mdatamodule\u001b[49m\u001b[43m,\u001b[49m\u001b[43m \u001b[49m\u001b[43mreturn_predictions\u001b[49m\u001b[43m,\u001b[49m\u001b[43m \u001b[49m\u001b[43mckpt_path\u001b[49m\n\u001b[1;32m    957\u001b[0m \u001b[43m\u001b[49m\u001b[43m)\u001b[49m\n",
      "File \u001b[0;32m/ssd003/home/edebrouw/Projects/Legendre/.venv/lib/python3.9/site-packages/pytorch_lightning/trainer/trainer.py:654\u001b[0m, in \u001b[0;36mTrainer._call_and_handle_interrupt\u001b[0;34m(self, trainer_fn, *args, **kwargs)\u001b[0m\n\u001b[1;32m    652\u001b[0m         \u001b[38;5;28;01mreturn\u001b[39;00m \u001b[38;5;28mself\u001b[39m\u001b[38;5;241m.\u001b[39mstrategy\u001b[38;5;241m.\u001b[39mlauncher\u001b[38;5;241m.\u001b[39mlaunch(trainer_fn, \u001b[38;5;241m*\u001b[39margs, trainer\u001b[38;5;241m=\u001b[39m\u001b[38;5;28mself\u001b[39m, \u001b[38;5;241m*\u001b[39m\u001b[38;5;241m*\u001b[39mkwargs)\n\u001b[1;32m    653\u001b[0m     \u001b[38;5;28;01melse\u001b[39;00m:\n\u001b[0;32m--> 654\u001b[0m         \u001b[38;5;28;01mreturn\u001b[39;00m \u001b[43mtrainer_fn\u001b[49m\u001b[43m(\u001b[49m\u001b[38;5;241;43m*\u001b[39;49m\u001b[43margs\u001b[49m\u001b[43m,\u001b[49m\u001b[43m \u001b[49m\u001b[38;5;241;43m*\u001b[39;49m\u001b[38;5;241;43m*\u001b[39;49m\u001b[43mkwargs\u001b[49m\u001b[43m)\u001b[49m\n\u001b[1;32m    655\u001b[0m \u001b[38;5;66;03m# TODO(awaelchli): Unify both exceptions below, where `KeyboardError` doesn't re-raise\u001b[39;00m\n\u001b[1;32m    656\u001b[0m \u001b[38;5;28;01mexcept\u001b[39;00m \u001b[38;5;167;01mKeyboardInterrupt\u001b[39;00m \u001b[38;5;28;01mas\u001b[39;00m exception:\n",
      "File \u001b[0;32m/ssd003/home/edebrouw/Projects/Legendre/.venv/lib/python3.9/site-packages/pytorch_lightning/trainer/trainer.py:1002\u001b[0m, in \u001b[0;36mTrainer._predict_impl\u001b[0;34m(self, model, dataloaders, datamodule, return_predictions, ckpt_path)\u001b[0m\n\u001b[1;32m    996\u001b[0m \u001b[38;5;28mself\u001b[39m\u001b[38;5;241m.\u001b[39m_ckpt_path \u001b[38;5;241m=\u001b[39m \u001b[38;5;28mself\u001b[39m\u001b[38;5;241m.\u001b[39m__set_ckpt_path(\n\u001b[1;32m    997\u001b[0m     ckpt_path, model_provided\u001b[38;5;241m=\u001b[39mmodel_provided, model_connected\u001b[38;5;241m=\u001b[39m\u001b[38;5;28mself\u001b[39m\u001b[38;5;241m.\u001b[39mlightning_module \u001b[38;5;129;01mis\u001b[39;00m \u001b[38;5;129;01mnot\u001b[39;00m \u001b[38;5;28;01mNone\u001b[39;00m\n\u001b[1;32m    998\u001b[0m )\n\u001b[1;32m   1000\u001b[0m \u001b[38;5;28mself\u001b[39m\u001b[38;5;241m.\u001b[39m_predicted_ckpt_path \u001b[38;5;241m=\u001b[39m \u001b[38;5;28mself\u001b[39m\u001b[38;5;241m.\u001b[39mckpt_path  \u001b[38;5;66;03m# TODO: remove in v1.8\u001b[39;00m\n\u001b[0;32m-> 1002\u001b[0m results \u001b[38;5;241m=\u001b[39m \u001b[38;5;28;43mself\u001b[39;49m\u001b[38;5;241;43m.\u001b[39;49m\u001b[43m_run\u001b[49m\u001b[43m(\u001b[49m\u001b[43mmodel\u001b[49m\u001b[43m,\u001b[49m\u001b[43m \u001b[49m\u001b[43mckpt_path\u001b[49m\u001b[38;5;241;43m=\u001b[39;49m\u001b[38;5;28;43mself\u001b[39;49m\u001b[38;5;241;43m.\u001b[39;49m\u001b[43mckpt_path\u001b[49m\u001b[43m)\u001b[49m\n\u001b[1;32m   1004\u001b[0m \u001b[38;5;28;01massert\u001b[39;00m \u001b[38;5;28mself\u001b[39m\u001b[38;5;241m.\u001b[39mstate\u001b[38;5;241m.\u001b[39mstopped\n\u001b[1;32m   1005\u001b[0m \u001b[38;5;28mself\u001b[39m\u001b[38;5;241m.\u001b[39mpredicting \u001b[38;5;241m=\u001b[39m \u001b[38;5;28;01mFalse\u001b[39;00m\n",
      "File \u001b[0;32m/ssd003/home/edebrouw/Projects/Legendre/.venv/lib/python3.9/site-packages/pytorch_lightning/trainer/trainer.py:1166\u001b[0m, in \u001b[0;36mTrainer._run\u001b[0;34m(self, model, ckpt_path)\u001b[0m\n\u001b[1;32m   1162\u001b[0m \u001b[38;5;28mself\u001b[39m\u001b[38;5;241m.\u001b[39m_checkpoint_connector\u001b[38;5;241m.\u001b[39mrestore_training_state()\n\u001b[1;32m   1164\u001b[0m \u001b[38;5;28mself\u001b[39m\u001b[38;5;241m.\u001b[39m_checkpoint_connector\u001b[38;5;241m.\u001b[39mresume_end()\n\u001b[0;32m-> 1166\u001b[0m results \u001b[38;5;241m=\u001b[39m \u001b[38;5;28;43mself\u001b[39;49m\u001b[38;5;241;43m.\u001b[39;49m\u001b[43m_run_stage\u001b[49m\u001b[43m(\u001b[49m\u001b[43m)\u001b[49m\n\u001b[1;32m   1168\u001b[0m log\u001b[38;5;241m.\u001b[39mdetail(\u001b[38;5;124mf\u001b[39m\u001b[38;5;124m\"\u001b[39m\u001b[38;5;132;01m{\u001b[39;00m\u001b[38;5;28mself\u001b[39m\u001b[38;5;241m.\u001b[39m\u001b[38;5;18m__class__\u001b[39m\u001b[38;5;241m.\u001b[39m\u001b[38;5;18m__name__\u001b[39m\u001b[38;5;132;01m}\u001b[39;00m\u001b[38;5;124m: trainer tearing down\u001b[39m\u001b[38;5;124m\"\u001b[39m)\n\u001b[1;32m   1169\u001b[0m \u001b[38;5;28mself\u001b[39m\u001b[38;5;241m.\u001b[39m_teardown()\n",
      "File \u001b[0;32m/ssd003/home/edebrouw/Projects/Legendre/.venv/lib/python3.9/site-packages/pytorch_lightning/trainer/trainer.py:1251\u001b[0m, in \u001b[0;36mTrainer._run_stage\u001b[0;34m(self)\u001b[0m\n\u001b[1;32m   1249\u001b[0m     \u001b[38;5;28;01mreturn\u001b[39;00m \u001b[38;5;28mself\u001b[39m\u001b[38;5;241m.\u001b[39m_run_evaluate()\n\u001b[1;32m   1250\u001b[0m \u001b[38;5;28;01mif\u001b[39;00m \u001b[38;5;28mself\u001b[39m\u001b[38;5;241m.\u001b[39mpredicting:\n\u001b[0;32m-> 1251\u001b[0m     \u001b[38;5;28;01mreturn\u001b[39;00m \u001b[38;5;28;43mself\u001b[39;49m\u001b[38;5;241;43m.\u001b[39;49m\u001b[43m_run_predict\u001b[49m\u001b[43m(\u001b[49m\u001b[43m)\u001b[49m\n\u001b[1;32m   1252\u001b[0m \u001b[38;5;28;01mreturn\u001b[39;00m \u001b[38;5;28mself\u001b[39m\u001b[38;5;241m.\u001b[39m_run_train()\n",
      "File \u001b[0;32m/ssd003/home/edebrouw/Projects/Legendre/.venv/lib/python3.9/site-packages/pytorch_lightning/trainer/trainer.py:1310\u001b[0m, in \u001b[0;36mTrainer._run_predict\u001b[0;34m(self)\u001b[0m\n\u001b[1;32m   1308\u001b[0m \u001b[38;5;28mself\u001b[39m\u001b[38;5;241m.\u001b[39mpredict_loop\u001b[38;5;241m.\u001b[39mtrainer \u001b[38;5;241m=\u001b[39m \u001b[38;5;28mself\u001b[39m\n\u001b[1;32m   1309\u001b[0m \u001b[38;5;28;01mwith\u001b[39;00m _evaluation_context(\u001b[38;5;28mself\u001b[39m\u001b[38;5;241m.\u001b[39maccelerator):\n\u001b[0;32m-> 1310\u001b[0m     \u001b[38;5;28;01mreturn\u001b[39;00m \u001b[38;5;28;43mself\u001b[39;49m\u001b[38;5;241;43m.\u001b[39;49m\u001b[43mpredict_loop\u001b[49m\u001b[38;5;241;43m.\u001b[39;49m\u001b[43mrun\u001b[49m\u001b[43m(\u001b[49m\u001b[43m)\u001b[49m\n",
      "File \u001b[0;32m/ssd003/home/edebrouw/Projects/Legendre/.venv/lib/python3.9/site-packages/pytorch_lightning/loops/loop.py:200\u001b[0m, in \u001b[0;36mLoop.run\u001b[0;34m(self, *args, **kwargs)\u001b[0m\n\u001b[1;32m    198\u001b[0m \u001b[38;5;28;01mtry\u001b[39;00m:\n\u001b[1;32m    199\u001b[0m     \u001b[38;5;28mself\u001b[39m\u001b[38;5;241m.\u001b[39mon_advance_start(\u001b[38;5;241m*\u001b[39margs, \u001b[38;5;241m*\u001b[39m\u001b[38;5;241m*\u001b[39mkwargs)\n\u001b[0;32m--> 200\u001b[0m     \u001b[38;5;28;43mself\u001b[39;49m\u001b[38;5;241;43m.\u001b[39;49m\u001b[43madvance\u001b[49m\u001b[43m(\u001b[49m\u001b[38;5;241;43m*\u001b[39;49m\u001b[43margs\u001b[49m\u001b[43m,\u001b[49m\u001b[43m \u001b[49m\u001b[38;5;241;43m*\u001b[39;49m\u001b[38;5;241;43m*\u001b[39;49m\u001b[43mkwargs\u001b[49m\u001b[43m)\u001b[49m\n\u001b[1;32m    201\u001b[0m     \u001b[38;5;28mself\u001b[39m\u001b[38;5;241m.\u001b[39mon_advance_end()\n\u001b[1;32m    202\u001b[0m     \u001b[38;5;28mself\u001b[39m\u001b[38;5;241m.\u001b[39m_restarting \u001b[38;5;241m=\u001b[39m \u001b[38;5;28;01mFalse\u001b[39;00m\n",
      "File \u001b[0;32m/ssd003/home/edebrouw/Projects/Legendre/.venv/lib/python3.9/site-packages/pytorch_lightning/loops/dataloader/prediction_loop.py:101\u001b[0m, in \u001b[0;36mPredictionLoop.advance\u001b[0;34m(self, *args, **kwargs)\u001b[0m\n\u001b[1;32m     98\u001b[0m dataloader_iter \u001b[38;5;241m=\u001b[39m \u001b[38;5;28menumerate\u001b[39m(dataloader)\n\u001b[1;32m     99\u001b[0m dl_max_batches \u001b[38;5;241m=\u001b[39m \u001b[38;5;28mself\u001b[39m\u001b[38;5;241m.\u001b[39mmax_batches[\u001b[38;5;28mself\u001b[39m\u001b[38;5;241m.\u001b[39mcurrent_dataloader_idx]\n\u001b[0;32m--> 101\u001b[0m dl_predictions, dl_batch_indices \u001b[38;5;241m=\u001b[39m \u001b[38;5;28;43mself\u001b[39;49m\u001b[38;5;241;43m.\u001b[39;49m\u001b[43mepoch_loop\u001b[49m\u001b[38;5;241;43m.\u001b[39;49m\u001b[43mrun\u001b[49m\u001b[43m(\u001b[49m\n\u001b[1;32m    102\u001b[0m \u001b[43m    \u001b[49m\u001b[43mdataloader_iter\u001b[49m\u001b[43m,\u001b[49m\u001b[43m \u001b[49m\u001b[38;5;28;43mself\u001b[39;49m\u001b[38;5;241;43m.\u001b[39;49m\u001b[43mcurrent_dataloader_idx\u001b[49m\u001b[43m,\u001b[49m\u001b[43m \u001b[49m\u001b[43mdl_max_batches\u001b[49m\u001b[43m,\u001b[49m\u001b[43m \u001b[49m\u001b[38;5;28;43mself\u001b[39;49m\u001b[38;5;241;43m.\u001b[39;49m\u001b[43mnum_dataloaders\u001b[49m\n\u001b[1;32m    103\u001b[0m \u001b[43m\u001b[49m\u001b[43m)\u001b[49m\n\u001b[1;32m    104\u001b[0m \u001b[38;5;28mself\u001b[39m\u001b[38;5;241m.\u001b[39mpredictions\u001b[38;5;241m.\u001b[39mappend(dl_predictions)\n\u001b[1;32m    105\u001b[0m \u001b[38;5;28mself\u001b[39m\u001b[38;5;241m.\u001b[39mepoch_batch_indices\u001b[38;5;241m.\u001b[39mappend(dl_batch_indices)\n",
      "File \u001b[0;32m/ssd003/home/edebrouw/Projects/Legendre/.venv/lib/python3.9/site-packages/pytorch_lightning/loops/loop.py:200\u001b[0m, in \u001b[0;36mLoop.run\u001b[0;34m(self, *args, **kwargs)\u001b[0m\n\u001b[1;32m    198\u001b[0m \u001b[38;5;28;01mtry\u001b[39;00m:\n\u001b[1;32m    199\u001b[0m     \u001b[38;5;28mself\u001b[39m\u001b[38;5;241m.\u001b[39mon_advance_start(\u001b[38;5;241m*\u001b[39margs, \u001b[38;5;241m*\u001b[39m\u001b[38;5;241m*\u001b[39mkwargs)\n\u001b[0;32m--> 200\u001b[0m     \u001b[38;5;28;43mself\u001b[39;49m\u001b[38;5;241;43m.\u001b[39;49m\u001b[43madvance\u001b[49m\u001b[43m(\u001b[49m\u001b[38;5;241;43m*\u001b[39;49m\u001b[43margs\u001b[49m\u001b[43m,\u001b[49m\u001b[43m \u001b[49m\u001b[38;5;241;43m*\u001b[39;49m\u001b[38;5;241;43m*\u001b[39;49m\u001b[43mkwargs\u001b[49m\u001b[43m)\u001b[49m\n\u001b[1;32m    201\u001b[0m     \u001b[38;5;28mself\u001b[39m\u001b[38;5;241m.\u001b[39mon_advance_end()\n\u001b[1;32m    202\u001b[0m     \u001b[38;5;28mself\u001b[39m\u001b[38;5;241m.\u001b[39m_restarting \u001b[38;5;241m=\u001b[39m \u001b[38;5;28;01mFalse\u001b[39;00m\n",
      "File \u001b[0;32m/ssd003/home/edebrouw/Projects/Legendre/.venv/lib/python3.9/site-packages/pytorch_lightning/loops/epoch/prediction_epoch_loop.py:101\u001b[0m, in \u001b[0;36mPredictionEpochLoop.advance\u001b[0;34m(self, dataloader_iter, dataloader_idx, dl_max_batches, num_dataloaders)\u001b[0m\n\u001b[1;32m     97\u001b[0m batch \u001b[38;5;241m=\u001b[39m \u001b[38;5;28mself\u001b[39m\u001b[38;5;241m.\u001b[39mtrainer\u001b[38;5;241m.\u001b[39m_call_strategy_hook(\u001b[38;5;124m\"\u001b[39m\u001b[38;5;124mbatch_to_device\u001b[39m\u001b[38;5;124m\"\u001b[39m, batch, dataloader_idx\u001b[38;5;241m=\u001b[39mdataloader_idx)\n\u001b[1;32m     99\u001b[0m \u001b[38;5;28mself\u001b[39m\u001b[38;5;241m.\u001b[39mbatch_progress\u001b[38;5;241m.\u001b[39mincrement_ready()\n\u001b[0;32m--> 101\u001b[0m \u001b[38;5;28;43mself\u001b[39;49m\u001b[38;5;241;43m.\u001b[39;49m\u001b[43m_predict_step\u001b[49m\u001b[43m(\u001b[49m\u001b[43mbatch\u001b[49m\u001b[43m,\u001b[49m\u001b[43m \u001b[49m\u001b[43mbatch_idx\u001b[49m\u001b[43m,\u001b[49m\u001b[43m \u001b[49m\u001b[43mdataloader_idx\u001b[49m\u001b[43m)\u001b[49m\n",
      "File \u001b[0;32m/ssd003/home/edebrouw/Projects/Legendre/.venv/lib/python3.9/site-packages/pytorch_lightning/loops/epoch/prediction_epoch_loop.py:130\u001b[0m, in \u001b[0;36mPredictionEpochLoop._predict_step\u001b[0;34m(self, batch, batch_idx, dataloader_idx)\u001b[0m\n\u001b[1;32m    126\u001b[0m \u001b[38;5;28mself\u001b[39m\u001b[38;5;241m.\u001b[39mtrainer\u001b[38;5;241m.\u001b[39m_call_lightning_module_hook(\u001b[38;5;124m\"\u001b[39m\u001b[38;5;124mon_predict_batch_start\u001b[39m\u001b[38;5;124m\"\u001b[39m, batch, batch_idx, dataloader_idx)\n\u001b[1;32m    128\u001b[0m \u001b[38;5;28mself\u001b[39m\u001b[38;5;241m.\u001b[39mbatch_progress\u001b[38;5;241m.\u001b[39mincrement_started()\n\u001b[0;32m--> 130\u001b[0m predictions \u001b[38;5;241m=\u001b[39m \u001b[38;5;28;43mself\u001b[39;49m\u001b[38;5;241;43m.\u001b[39;49m\u001b[43mtrainer\u001b[49m\u001b[38;5;241;43m.\u001b[39;49m\u001b[43m_call_strategy_hook\u001b[49m\u001b[43m(\u001b[49m\u001b[38;5;124;43m\"\u001b[39;49m\u001b[38;5;124;43mpredict_step\u001b[39;49m\u001b[38;5;124;43m\"\u001b[39;49m\u001b[43m,\u001b[49m\u001b[43m \u001b[49m\u001b[38;5;241;43m*\u001b[39;49m\u001b[43mstep_kwargs\u001b[49m\u001b[38;5;241;43m.\u001b[39;49m\u001b[43mvalues\u001b[49m\u001b[43m(\u001b[49m\u001b[43m)\u001b[49m\u001b[43m)\u001b[49m\n\u001b[1;32m    132\u001b[0m \u001b[38;5;28mself\u001b[39m\u001b[38;5;241m.\u001b[39mbatch_progress\u001b[38;5;241m.\u001b[39mincrement_processed()\n\u001b[1;32m    134\u001b[0m \u001b[38;5;28;01mif\u001b[39;00m predictions \u001b[38;5;129;01mis\u001b[39;00m \u001b[38;5;28;01mNone\u001b[39;00m:\n",
      "File \u001b[0;32m/ssd003/home/edebrouw/Projects/Legendre/.venv/lib/python3.9/site-packages/pytorch_lightning/trainer/trainer.py:1703\u001b[0m, in \u001b[0;36mTrainer._call_strategy_hook\u001b[0;34m(self, hook_name, *args, **kwargs)\u001b[0m\n\u001b[1;32m   1700\u001b[0m     \u001b[38;5;28;01mreturn\u001b[39;00m\n\u001b[1;32m   1702\u001b[0m \u001b[38;5;28;01mwith\u001b[39;00m \u001b[38;5;28mself\u001b[39m\u001b[38;5;241m.\u001b[39mprofiler\u001b[38;5;241m.\u001b[39mprofile(\u001b[38;5;124mf\u001b[39m\u001b[38;5;124m\"\u001b[39m\u001b[38;5;124m[Strategy]\u001b[39m\u001b[38;5;132;01m{\u001b[39;00m\u001b[38;5;28mself\u001b[39m\u001b[38;5;241m.\u001b[39mstrategy\u001b[38;5;241m.\u001b[39m\u001b[38;5;18m__class__\u001b[39m\u001b[38;5;241m.\u001b[39m\u001b[38;5;18m__name__\u001b[39m\u001b[38;5;132;01m}\u001b[39;00m\u001b[38;5;124m.\u001b[39m\u001b[38;5;132;01m{\u001b[39;00mhook_name\u001b[38;5;132;01m}\u001b[39;00m\u001b[38;5;124m\"\u001b[39m):\n\u001b[0;32m-> 1703\u001b[0m     output \u001b[38;5;241m=\u001b[39m \u001b[43mfn\u001b[49m\u001b[43m(\u001b[49m\u001b[38;5;241;43m*\u001b[39;49m\u001b[43margs\u001b[49m\u001b[43m,\u001b[49m\u001b[43m \u001b[49m\u001b[38;5;241;43m*\u001b[39;49m\u001b[38;5;241;43m*\u001b[39;49m\u001b[43mkwargs\u001b[49m\u001b[43m)\u001b[49m\n\u001b[1;32m   1705\u001b[0m \u001b[38;5;66;03m# restore current_fx when nested context\u001b[39;00m\n\u001b[1;32m   1706\u001b[0m pl_module\u001b[38;5;241m.\u001b[39m_current_fx_name \u001b[38;5;241m=\u001b[39m prev_fx_name\n",
      "File \u001b[0;32m/ssd003/home/edebrouw/Projects/Legendre/.venv/lib/python3.9/site-packages/pytorch_lightning/strategies/strategy.py:388\u001b[0m, in \u001b[0;36mStrategy.predict_step\u001b[0;34m(self, *args, **kwargs)\u001b[0m\n\u001b[1;32m    386\u001b[0m \u001b[38;5;28;01mwith\u001b[39;00m \u001b[38;5;28mself\u001b[39m\u001b[38;5;241m.\u001b[39mprecision_plugin\u001b[38;5;241m.\u001b[39mpredict_step_context():\n\u001b[1;32m    387\u001b[0m     \u001b[38;5;28;01massert\u001b[39;00m \u001b[38;5;28misinstance\u001b[39m(\u001b[38;5;28mself\u001b[39m\u001b[38;5;241m.\u001b[39mmodel, PredictStep)\n\u001b[0;32m--> 388\u001b[0m     \u001b[38;5;28;01mreturn\u001b[39;00m \u001b[38;5;28;43mself\u001b[39;49m\u001b[38;5;241;43m.\u001b[39;49m\u001b[43mmodel\u001b[49m\u001b[38;5;241;43m.\u001b[39;49m\u001b[43mpredict_step\u001b[49m\u001b[43m(\u001b[49m\u001b[38;5;241;43m*\u001b[39;49m\u001b[43margs\u001b[49m\u001b[43m,\u001b[49m\u001b[43m \u001b[49m\u001b[38;5;241;43m*\u001b[39;49m\u001b[38;5;241;43m*\u001b[39;49m\u001b[43mkwargs\u001b[49m\u001b[43m)\u001b[49m\n",
      "File \u001b[0;32m/ssd003/home/edebrouw/Projects/Legendre/legendre/models/cnode_ext.py:261\u001b[0m, in \u001b[0;36mCNODExt.predict_step\u001b[0;34m(self, batch, batch_idx)\u001b[0m\n\u001b[1;32m    260\u001b[0m \u001b[38;5;28;01mdef\u001b[39;00m \u001b[38;5;21mpredict_step\u001b[39m(\u001b[38;5;28mself\u001b[39m, batch, batch_idx):\n\u001b[0;32m--> 261\u001b[0m     times, Y, mask, label, bridge_info, Y_past, Y_future, mask_past, mask_future \u001b[38;5;241m=\u001b[39m \u001b[38;5;28;43mself\u001b[39;49m\u001b[38;5;241;43m.\u001b[39;49m\u001b[43mprocess_batch\u001b[49m\u001b[43m(\u001b[49m\n\u001b[1;32m    262\u001b[0m \u001b[43m        \u001b[49m\u001b[43mbatch\u001b[49m\u001b[43m,\u001b[49m\u001b[43m \u001b[49m\u001b[43mforecast_mode\u001b[49m\u001b[38;5;241;43m=\u001b[39;49m\u001b[38;5;28;43;01mTrue\u001b[39;49;00m\u001b[43m)\u001b[49m\n\u001b[1;32m    264\u001b[0m     \u001b[38;5;66;03m# assert len(torch.unique(T)) == T.shape[1]\u001b[39;00m\n\u001b[1;32m    265\u001b[0m     \u001b[38;5;66;03m# times = torch.sort(torch.unique(T))[0]\u001b[39;00m\n\u001b[1;32m    266\u001b[0m     preds, preds_traj, times_traj, cn_embedding \u001b[38;5;241m=\u001b[39m \u001b[38;5;28mself\u001b[39m(\n\u001b[1;32m    267\u001b[0m         times, Y_past, mask_past, bridge_info\u001b[38;5;241m=\u001b[39mbridge_info)\n",
      "File \u001b[0;32m/ssd003/home/edebrouw/Projects/Legendre/legendre/models/cnode_ext.py:254\u001b[0m, in \u001b[0;36mCNODExt.process_batch\u001b[0;34m(self, batch, forecast_mode)\u001b[0m\n\u001b[1;32m    252\u001b[0m     \u001b[38;5;28;01mreturn\u001b[39;00m times, Y, mask, label, (ids, ts, ys, mask_ids)\n\u001b[1;32m    253\u001b[0m \u001b[38;5;28;01melif\u001b[39;00m forecast_mode:\n\u001b[0;32m--> 254\u001b[0m     times, Y, mask, label, _, Y_past, Y_future, mask_past, mask_future \u001b[38;5;241m=\u001b[39m batch\n\u001b[1;32m    255\u001b[0m     \u001b[38;5;28;01mreturn\u001b[39;00m times, Y, mask, label, \u001b[38;5;28;01mNone\u001b[39;00m, Y_past, Y_future, mask_past, mask_future\n\u001b[1;32m    256\u001b[0m \u001b[38;5;28;01melse\u001b[39;00m:\n",
      "\u001b[0;31mValueError\u001b[0m: not enough values to unpack (expected 9, got 5)"
     ]
    }
   ],
   "source": [
    "sweep_id = \"gztx8pq1\"\n",
    "multivariate = True\n",
    "api= wandb.Api()\n",
    "sweep = api.sweep(\"edebrouwer/orthopoly/\"+sweep_id)\n",
    "#init_sweep_id = \"edebrouwer/orthopoly/t77q79lw\"\n",
    "runs = sweep.runs\n",
    "\n",
    "model_cls = CNODExt\n",
    "irregular_rates = [0.3, 0.4, 0.5, 0.6]\n",
    "seed = 421\n",
    "acc_dict = {}\n",
    "\n",
    "def data_cls_choice(data_type, hparams):\n",
    "    if data_type == \"SimpleTraj\":\n",
    "        data_cls = SimpleTrajDataModule(**hparams, forecast_mode = True)\n",
    "    elif data_type == \"pMNIST\":\n",
    "        data_cls = pMNISTDataModule(**hparams, forecast_mode = True)\n",
    "    elif data_type == \"Character\":\n",
    "        data_cls = CharacterTrajDataModule(**hparams, forecast_mode = True)\n",
    "    return data_cls\n",
    "\n",
    "for irregular_rate in irregular_rates:\n",
    "    \n",
    "    accs_ = []\n",
    "    run_sub = [r for r in runs if (r.config[\"irregular_rate\"]==irregular_rate) and (r.config.get(\"multivariate\",None)==multivariate)]\n",
    "\n",
    "    for run in run_sub:\n",
    "        fname = [f.name for f in run.files() if \"ckpt\" in f.name][0]\n",
    "        run.file(fname).download(replace = True, root = \".\")\n",
    "         \n",
    "        checkpoint = torch.load(\n",
    "        fname, map_location=lambda storage, loc: storage)\n",
    "        checkpoint[\"hyper_parameters\"].pop(\"callbacks\", None)\n",
    "        checkpoint[\"hyper_parameters\"].pop(\"logger\", None)\n",
    "        checkpoint[\"hyper_parameters\"].pop(\"wandb_id_file_path\", None)\n",
    "        checkpoint.pop(\"callbacks\",None)\n",
    "        checkpoint_ = {\"state_dict\":checkpoint[\"state_dict\"],\"hyper_parameters\":checkpoint[\"hyper_parameters\"]}\n",
    "        checkpoint_[\"hyper_parameters\"].pop(\"init_model\",None)\n",
    "        \n",
    "        input_dim = checkpoint[\"hyper_parameters\"].pop(\"input_dim\",None)\n",
    "                \n",
    "        dataset = data_cls_choice(checkpoint[\"hyper_parameters\"][\"data_type\"],checkpoint[\"hyper_parameters\"])\n",
    "\n",
    "        if input_dim is None:\n",
    "            model = _load_state(model_cls, checkpoint_, output_dim = dataset.num_dims)\n",
    "\n",
    "            #init_model = CNODExt( **checkpoint[\"hyper_parameters\"],output_dim = checkpoint[\"hyper_parameters\"][\"num_dims\"])\n",
    "        else:\n",
    "            model = _load_state(model_cls, checkpoint_, output_dim = input_dim)\n",
    "            #init_model = CNODExt(output_dim = input_dim, **checkpoint[\"hyper_parameters\"])\n",
    "        \n",
    "               \n",
    "        #model = model_cls.load_from_checkpoint(fname)\n",
    "        os.remove(fname)\n",
    "        \n",
    "        #dataset.pre_compute_ode = False\n",
    "        dataset.prepare_data()\n",
    "    \n",
    "        trainer = pl.Trainer(gpus=1,logger = None)\n",
    "        \n",
    "        outputs = trainer.predict(model,dataset.test_dataloader())\n",
    "\n",
    "        preds = torch.cat([x[\"preds\"] for x in outputs])\n",
    "        Y = torch.cat([x[\"Y\"] for x in outputs])\n",
    "        T = torch.cat([x[\"T\"] for x in outputs])\n",
    "        labels = torch.cat([x[\"labels\"] for x in outputs])\n",
    "        \n",
    "        if len(preds.shape)>1:\n",
    "            preds = torch.nn.functional.softmax(preds, dim=-1).argmax(-1)\n",
    "            accuracy = accuracy_score(labels.long().cpu().numpy(), preds.cpu().numpy())\n",
    "        else:\n",
    "            accuracy = roc_auc_score(labels.long().cpu().numpy(),preds.cpu().numpy())\n",
    "        #print(accuracy)\n",
    "        \n",
    "        accs_.append(accuracy)\n",
    "    \n",
    "    acc_dict[f\"{irregular_rate}\"]=accs_\n",
    "print(acc_dict)"
   ]
  },
  {
   "cell_type": "code",
   "execution_count": null,
   "id": "f2087516-9e48-40f8-b073-e4eb2267933c",
   "metadata": {},
   "outputs": [],
   "source": []
  }
 ],
 "metadata": {
  "kernelspec": {
   "display_name": "Python 3 (ipykernel)",
   "language": "python",
   "name": "python3"
  },
  "language_info": {
   "codemirror_mode": {
    "name": "ipython",
    "version": 3
   },
   "file_extension": ".py",
   "mimetype": "text/x-python",
   "name": "python",
   "nbconvert_exporter": "python",
   "pygments_lexer": "ipython3",
   "version": "3.9.10"
  }
 },
 "nbformat": 4,
 "nbformat_minor": 5
}
