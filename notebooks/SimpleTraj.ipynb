{
 "cells": [
  {
   "cell_type": "code",
   "execution_count": 2,
   "id": "6569b6f7-3c6b-4fc1-b692-4fa9b14f9249",
   "metadata": {},
   "outputs": [],
   "source": [
    "import matplotlib.pyplot as plt\n",
    "import numpy as np\n",
    "from scipy.integrate import odeint"
   ]
  },
  {
   "cell_type": "code",
   "execution_count": 6,
   "id": "6d2c5d82-d0b5-4bb5-86ca-1a54c842ec25",
   "metadata": {},
   "outputs": [
    {
     "data": {
      "text/plain": [
       "<matplotlib.collections.PathCollection at 0x7f0cd8c50280>"
      ]
     },
     "execution_count": 6,
     "metadata": {},
     "output_type": "execute_result"
    },
    {
     "data": {
      "image/png": "[encoded data removed]",
      "text/plain": [
       "<Figure size 432x288 with 1 Axes>"
      ]
     },
     "metadata": {
      "needs_background": "light"
     },
     "output_type": "display_data"
    }
   ],
   "source": [
    "Nt = 200\n",
    "Nobs = 10\n",
    "prop_obs = 0.8\n",
    "phase = 0.4*np.pi\n",
    "x = np.linspace(0,10,Nt)\n",
    "y = np.sin(x + phase) * np.cos(3*(x+phase))\n",
    "xobs = x[1:-1:Nt//Nobs]\n",
    "yobs = y[1:-1:Nt//Nobs]\n",
    "\n",
    "mask = np.random.binomial(1,prop_obs,size = xobs.shape[0]).astype(bool)\n",
    "xobs = xobs[mask]\n",
    "yobs = yobs[mask]\n",
    "\n",
    "plt.plot(x,y)\n",
    "plt.scatter(xobs,yobs)"
   ]
  },
  {
   "cell_type": "code",
   "execution_count": 3,
   "id": "8cc3c614-e9bd-4e17-a665-9e28707adccb",
   "metadata": {},
   "outputs": [],
   "source": [
    "def generate_path(phase,Nt,Nobs):\n",
    "    \"\"\"\n",
    "    Nt : Number of time points to simulate\n",
    "    Nobs : Number of observations to select\n",
    "    phase : phase to add to this particular time series\n",
    "    \"\"\"\n",
    "    x = np.linspace(0,10,Nt)\n",
    "    y = np.sin(x + phase) * np.cos(3*(x+phase))\n",
    "    xobs = x[1:-1:Nt//Nobs]\n",
    "    yobs = y[1:-1:Nt//Nobs]\n",
    "    return x,y, xobs, yobs\n",
    "\n",
    "def generate_dataset(N,Nt,Nobs):\n",
    "    Xobs = []\n",
    "    Yobs = []\n",
    "    for n in range(N):\n",
    "        phase = 2*np.random.randn()*np.pi\n",
    "        x,y,xobs, yobs = generate_path(phase,Nt,Nobs)\n",
    "        \n",
    "        Xobs.append(xobs)\n",
    "        Yobs.append(yobs)\n",
    "    Xobs = np.stack(Xobs)\n",
    "    Yobs = np.stack(Yobs)\n",
    "    return Xobs, Yobs"
   ]
  },
  {
   "cell_type": "code",
   "execution_count": 8,
   "id": "7d35c61e-e8bb-4029-b7f6-b9748fafc418",
   "metadata": {},
   "outputs": [],
   "source": [
    "X_, Y_ = generate_dataset(1000,200,10)"
   ]
  },
  {
   "cell_type": "code",
   "execution_count": 23,
   "id": "ac57b504-f967-48a4-84c9-2bfb5fb417cc",
   "metadata": {},
   "outputs": [
    {
     "ename": "AttributeError",
     "evalue": "'numpy.ndarray' object has no attribute 'float'",
     "output_type": "error",
     "traceback": [
      "\u001b[0;31m---------------------------------------------------------------------------\u001b[0m",
      "\u001b[0;31mAttributeError\u001b[0m                            Traceback (most recent call last)",
      "Input \u001b[0;32mIn [23]\u001b[0m, in \u001b[0;36m<cell line: 1>\u001b[0;34m()\u001b[0m\n\u001b[0;32m----> 1\u001b[0m \u001b[43m(\u001b[49m\u001b[43mY_\u001b[49m\u001b[43m[\u001b[49m\u001b[43m:\u001b[49m\u001b[43m,\u001b[49m\u001b[38;5;241;43m4\u001b[39;49m\u001b[43m]\u001b[49m\u001b[38;5;241;43m>\u001b[39;49m\u001b[38;5;241;43m0.5\u001b[39;49m\u001b[43m)\u001b[49m\u001b[38;5;241;43m.\u001b[39;49m\u001b[43mfloat\u001b[49m()\n",
      "\u001b[0;31mAttributeError\u001b[0m: 'numpy.ndarray' object has no attribute 'float'"
     ]
    }
   ],
   "source": [
    "(Y_[:,4]>0.5).float()"
   ]
  },
  {
   "cell_type": "code",
   "execution_count": 11,
   "id": "0f34fdce-20bc-47f7-b41d-dbfe52120922",
   "metadata": {},
   "outputs": [
    {
     "data": {
      "text/plain": [
       "array([[0.05025126, 1.05527638, 2.06030151, ..., 7.08542714, 8.09045226,\n",
       "        9.09547739],\n",
       "       [0.05025126, 1.05527638, 2.06030151, ..., 7.08542714, 8.09045226,\n",
       "        9.09547739],\n",
       "       [0.05025126, 1.05527638, 2.06030151, ..., 7.08542714, 8.09045226,\n",
       "        9.09547739],\n",
       "       ...,\n",
       "       [0.05025126, 1.05527638, 2.06030151, ..., 7.08542714, 8.09045226,\n",
       "        9.09547739],\n",
       "       [0.05025126, 1.05527638, 2.06030151, ..., 7.08542714, 8.09045226,\n",
       "        9.09547739],\n",
       "       [0.05025126, 1.05527638, 2.06030151, ..., 7.08542714, 8.09045226,\n",
       "        9.09547739]])"
      ]
     },
     "execution_count": 11,
     "metadata": {},
     "output_type": "execute_result"
    }
   ],
   "source": [
    "X_"
   ]
  },
  {
   "cell_type": "code",
   "execution_count": null,
   "id": "785ffed6-900c-4cef-8ed0-5e7bf1e0cb50",
   "metadata": {},
   "outputs": [],
   "source": []
  }
 ],
 "metadata": {
  "kernelspec": {
   "display_name": "Python 3 (ipykernel)",
   "language": "python",
   "name": "python3"
  },
  "language_info": {
   "codemirror_mode": {
    "name": "ipython",
    "version": 3
   },
   "file_extension": ".py",
   "mimetype": "text/x-python",
   "name": "python",
   "nbconvert_exporter": "python",
   "pygments_lexer": "ipython3",
   "version": "3.9.10"
  }
 },
 "nbformat": 4,
 "nbformat_minor": 5
}
